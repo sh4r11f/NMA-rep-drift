{
 "cells": [
  {
   "cell_type": "markdown",
   "source": [
    "# RSA analysis of the Neuropixel Data"
   ],
   "metadata": {
    "collapsed": false,
    "pycharm": {
     "name": "#%% md\n"
    }
   }
  },
  {
   "cell_type": "markdown",
   "source": [
    "This notebook analyzes Allen Institute's Neuropixel data. It focuses on the `functional_connectivity` dataset since that dataset seems to be richer (more repeats of the same stimuli), with more rest time in-between sessions, and has better quality data (only one animal missing pupilometry measurements)."
   ],
   "metadata": {
    "collapsed": false,
    "pycharm": {
     "name": "#%% md\n"
    }
   }
  },
  {
   "cell_type": "code",
   "execution_count": 1,
   "outputs": [],
   "source": [
    "from src.neuropixel import Neuropixel\n",
    "\n",
    "from pathlib import Path\n",
    "\n",
    "import numpy as np\n",
    "import pandas as pd\n",
    "import matplotlib.pyplot as plt\n",
    "import seaborn as sns"
   ],
   "metadata": {
    "collapsed": false,
    "pycharm": {
     "name": "#%%\n"
    }
   }
  },
  {
   "cell_type": "code",
   "execution_count": 2,
   "outputs": [],
   "source": [
    "HOME = Path('/media/internal/projects/Allen/Ecephys')\n",
    "npx = Neuropixel(HOME)"
   ],
   "metadata": {
    "collapsed": false,
    "pycharm": {
     "name": "#%%\n"
    }
   }
  },
  {
   "cell_type": "code",
   "execution_count": 3,
   "outputs": [],
   "source": [
    "data_type = 'functional_connectivity'"
   ],
   "metadata": {
    "collapsed": false,
    "pycharm": {
     "name": "#%%\n"
    }
   }
  },
  {
   "cell_type": "markdown",
   "source": [
    "## Natural Movie 1"
   ],
   "metadata": {
    "collapsed": false,
    "pycharm": {
     "name": "#%% md\n"
    }
   }
  },
  {
   "cell_type": "markdown",
   "source": [
    "This movie is played in both sessions of `functional_connectivity`, each repeated 60 times on each session (there are also 20 repeats with temporal shuffle that I'm going to ignore for now). The movie has 30s duration, so I will extract 30 \"blocks\" of 1s duration.\n",
    "\n",
    "Let's start by getting the dataframes for each of these blocks."
   ],
   "metadata": {
    "collapsed": false,
    "pycharm": {
     "name": "#%% md\n"
    }
   }
  },
  {
   "cell_type": "code",
   "execution_count": 4,
   "outputs": [],
   "source": [
    "table = npx.cache.get_session_table()\n",
    "session_ids = table.loc[table.session_type == data_type].index.values"
   ],
   "metadata": {
    "collapsed": false,
    "pycharm": {
     "name": "#%%\n"
    }
   }
  },
  {
   "cell_type": "code",
   "execution_count": 5,
   "outputs": [],
   "source": [
    "# remove sessions w/o eye data\n",
    "session_ids = np.delete(session_ids, np.where(session_ids == 768515987))\n",
    "session_ids = np.delete(session_ids, np.where(session_ids == 840012044))"
   ],
   "metadata": {
    "collapsed": false,
    "pycharm": {
     "name": "#%%\n"
    }
   }
  },
  {
   "cell_type": "code",
   "execution_count": 6,
   "outputs": [
    {
     "data": {
      "text/plain": "array([766640955, 767871931, 771160300, 771990200, 774875821, 778240327,\n       778998620, 779839471, 781842082, 786091066, 787025148, 789848216,\n       793224716, 794812542, 816200189, 819186360, 819701982, 821695405,\n       829720705, 831882777, 835479236, 839068429, 839557629, 847657808],\n      dtype=int64)"
     },
     "execution_count": 6,
     "metadata": {},
     "output_type": "execute_result"
    }
   ],
   "source": [
    "session_ids"
   ],
   "metadata": {
    "collapsed": false,
    "pycharm": {
     "name": "#%%\n"
    }
   }
  },
  {
   "cell_type": "code",
   "execution_count": 7,
   "outputs": [],
   "source": [
    "movie_name = \"natural_movie_one_more_repeats\"\n",
    "rois = [\"VISrl\", \"VISp\", \"VISpm\", \"VISam\", \"VISal\", \"VISl\"]\n",
    "# rois = [\"VISp\"]\n",
    "seconds = np.arange(0, 30)"
   ],
   "metadata": {
    "collapsed": false,
    "pycharm": {
     "name": "#%%\n"
    }
   }
  },
  {
   "cell_type": "code",
   "execution_count": 8,
   "outputs": [],
   "source": [
    "# Read all the csvs\n",
    "# get files from all subs\n",
    "files = npx.SAVE_DIR.glob('*.csv')\n",
    "data_files = sorted(list(files))  # sort and list the files\n",
    "\n",
    "dfs = []\n",
    "for f in data_files:\n",
    "    df = pd.read_csv(f, index_col=0)\n",
    "    df[\"session_id\"] = str(f.name).split('_')[0].split('-')[1]\n",
    "    df[\"movie_sec\"] = df[\"movie_sec\"] + 1\n",
    "    dfs.append(df)\n",
    "\n",
    "df = pd.concat(dfs, ignore_index=True)\n",
    "# load into one dataframe\n",
    "# df = pd.concat(map(lambda f: pd.read_csv(f, index_col=0), data_files), ignore_index=True)"
   ],
   "metadata": {
    "collapsed": false,
    "pycharm": {
     "name": "#%%\n"
    }
   }
  },
  {
   "cell_type": "code",
   "execution_count": 9,
   "outputs": [
    {
     "data": {
      "text/plain": "        stimulus_presentation_id    unit_id   start_time    stop_time  \\\n0                           5209  950943078  2326.237147  2326.270507   \n1                           5209  950943108  2326.237147  2326.270507   \n2                           5209  950943186  2326.237147  2326.270507   \n3                           5209  950943208  2326.237147  2326.270507   \n4                           5209  950943245  2326.237147  2326.270507   \n...                          ...        ...          ...          ...   \n971995                     76251  950954680  8279.241058  8279.274419   \n971996                     76251  950955121  8279.241058  8279.274419   \n971997                     76251  950955147  8279.241058  8279.274419   \n971998                     76251  950955160  8279.241058  8279.274419   \n971999                     76251  950955240  8279.241058  8279.274419   \n\n        stimulus_block                   stimulus_name  stimulus_condition_id  \\\n0                  3.0  natural_movie_one_more_repeats                   1152   \n1                  3.0  natural_movie_one_more_repeats                   1152   \n2                  3.0  natural_movie_one_more_repeats                   1152   \n3                  3.0  natural_movie_one_more_repeats                   1152   \n4                  3.0  natural_movie_one_more_repeats                   1152   \n...                ...                             ...                    ...   \n971995             8.0  natural_movie_one_more_repeats                    492   \n971996             8.0  natural_movie_one_more_repeats                    492   \n971997             8.0  natural_movie_one_more_repeats                    492   \n971998             8.0  natural_movie_one_more_repeats                    492   \n971999             8.0  natural_movie_one_more_repeats                    492   \n\n        spike_counts    roi  movie_sec  median_speed  mean_speed  pupil_area  \\\n0                  0  VISal          1      1.729311    2.009071    0.001445   \n1                  3  VISal          1      1.729311    2.009071    0.001445   \n2                  0  VISal          1      1.729311    2.009071    0.001445   \n3                 13  VISal          1      1.729311    2.009071    0.001445   \n4                  3  VISal          1      1.729311    2.009071    0.001445   \n...              ...    ...        ...           ...         ...         ...   \n971995             1  VISrl          9      1.073632    1.174236    0.001474   \n971996             1  VISrl          9      1.073632    1.174236    0.001474   \n971997             0  VISrl          9      1.073632    1.174236    0.001474   \n971998             0  VISrl          9      1.073632    1.174236    0.001474   \n971999             1  VISrl          9      1.073632    1.174236    0.001474   \n\n       session_id  \n0       766640955  \n1       766640955  \n2       766640955  \n3       766640955  \n4       766640955  \n...           ...  \n971995  767871931  \n971996  767871931  \n971997  767871931  \n971998  767871931  \n971999  767871931  \n\n[972000 rows x 14 columns]",
      "text/html": "<div>\n<style scoped>\n    .dataframe tbody tr th:only-of-type {\n        vertical-align: middle;\n    }\n\n    .dataframe tbody tr th {\n        vertical-align: top;\n    }\n\n    .dataframe thead th {\n        text-align: right;\n    }\n</style>\n<table border=\"1\" class=\"dataframe\">\n  <thead>\n    <tr style=\"text-align: right;\">\n      <th></th>\n      <th>stimulus_presentation_id</th>\n      <th>unit_id</th>\n      <th>start_time</th>\n      <th>stop_time</th>\n      <th>stimulus_block</th>\n      <th>stimulus_name</th>\n      <th>stimulus_condition_id</th>\n      <th>spike_counts</th>\n      <th>roi</th>\n      <th>movie_sec</th>\n      <th>median_speed</th>\n      <th>mean_speed</th>\n      <th>pupil_area</th>\n      <th>session_id</th>\n    </tr>\n  </thead>\n  <tbody>\n    <tr>\n      <th>0</th>\n      <td>5209</td>\n      <td>950943078</td>\n      <td>2326.237147</td>\n      <td>2326.270507</td>\n      <td>3.0</td>\n      <td>natural_movie_one_more_repeats</td>\n      <td>1152</td>\n      <td>0</td>\n      <td>VISal</td>\n      <td>1</td>\n      <td>1.729311</td>\n      <td>2.009071</td>\n      <td>0.001445</td>\n      <td>766640955</td>\n    </tr>\n    <tr>\n      <th>1</th>\n      <td>5209</td>\n      <td>950943108</td>\n      <td>2326.237147</td>\n      <td>2326.270507</td>\n      <td>3.0</td>\n      <td>natural_movie_one_more_repeats</td>\n      <td>1152</td>\n      <td>3</td>\n      <td>VISal</td>\n      <td>1</td>\n      <td>1.729311</td>\n      <td>2.009071</td>\n      <td>0.001445</td>\n      <td>766640955</td>\n    </tr>\n    <tr>\n      <th>2</th>\n      <td>5209</td>\n      <td>950943186</td>\n      <td>2326.237147</td>\n      <td>2326.270507</td>\n      <td>3.0</td>\n      <td>natural_movie_one_more_repeats</td>\n      <td>1152</td>\n      <td>0</td>\n      <td>VISal</td>\n      <td>1</td>\n      <td>1.729311</td>\n      <td>2.009071</td>\n      <td>0.001445</td>\n      <td>766640955</td>\n    </tr>\n    <tr>\n      <th>3</th>\n      <td>5209</td>\n      <td>950943208</td>\n      <td>2326.237147</td>\n      <td>2326.270507</td>\n      <td>3.0</td>\n      <td>natural_movie_one_more_repeats</td>\n      <td>1152</td>\n      <td>13</td>\n      <td>VISal</td>\n      <td>1</td>\n      <td>1.729311</td>\n      <td>2.009071</td>\n      <td>0.001445</td>\n      <td>766640955</td>\n    </tr>\n    <tr>\n      <th>4</th>\n      <td>5209</td>\n      <td>950943245</td>\n      <td>2326.237147</td>\n      <td>2326.270507</td>\n      <td>3.0</td>\n      <td>natural_movie_one_more_repeats</td>\n      <td>1152</td>\n      <td>3</td>\n      <td>VISal</td>\n      <td>1</td>\n      <td>1.729311</td>\n      <td>2.009071</td>\n      <td>0.001445</td>\n      <td>766640955</td>\n    </tr>\n    <tr>\n      <th>...</th>\n      <td>...</td>\n      <td>...</td>\n      <td>...</td>\n      <td>...</td>\n      <td>...</td>\n      <td>...</td>\n      <td>...</td>\n      <td>...</td>\n      <td>...</td>\n      <td>...</td>\n      <td>...</td>\n      <td>...</td>\n      <td>...</td>\n      <td>...</td>\n    </tr>\n    <tr>\n      <th>971995</th>\n      <td>76251</td>\n      <td>950954680</td>\n      <td>8279.241058</td>\n      <td>8279.274419</td>\n      <td>8.0</td>\n      <td>natural_movie_one_more_repeats</td>\n      <td>492</td>\n      <td>1</td>\n      <td>VISrl</td>\n      <td>9</td>\n      <td>1.073632</td>\n      <td>1.174236</td>\n      <td>0.001474</td>\n      <td>767871931</td>\n    </tr>\n    <tr>\n      <th>971996</th>\n      <td>76251</td>\n      <td>950955121</td>\n      <td>8279.241058</td>\n      <td>8279.274419</td>\n      <td>8.0</td>\n      <td>natural_movie_one_more_repeats</td>\n      <td>492</td>\n      <td>1</td>\n      <td>VISrl</td>\n      <td>9</td>\n      <td>1.073632</td>\n      <td>1.174236</td>\n      <td>0.001474</td>\n      <td>767871931</td>\n    </tr>\n    <tr>\n      <th>971997</th>\n      <td>76251</td>\n      <td>950955147</td>\n      <td>8279.241058</td>\n      <td>8279.274419</td>\n      <td>8.0</td>\n      <td>natural_movie_one_more_repeats</td>\n      <td>492</td>\n      <td>0</td>\n      <td>VISrl</td>\n      <td>9</td>\n      <td>1.073632</td>\n      <td>1.174236</td>\n      <td>0.001474</td>\n      <td>767871931</td>\n    </tr>\n    <tr>\n      <th>971998</th>\n      <td>76251</td>\n      <td>950955160</td>\n      <td>8279.241058</td>\n      <td>8279.274419</td>\n      <td>8.0</td>\n      <td>natural_movie_one_more_repeats</td>\n      <td>492</td>\n      <td>0</td>\n      <td>VISrl</td>\n      <td>9</td>\n      <td>1.073632</td>\n      <td>1.174236</td>\n      <td>0.001474</td>\n      <td>767871931</td>\n    </tr>\n    <tr>\n      <th>971999</th>\n      <td>76251</td>\n      <td>950955240</td>\n      <td>8279.241058</td>\n      <td>8279.274419</td>\n      <td>8.0</td>\n      <td>natural_movie_one_more_repeats</td>\n      <td>492</td>\n      <td>1</td>\n      <td>VISrl</td>\n      <td>9</td>\n      <td>1.073632</td>\n      <td>1.174236</td>\n      <td>0.001474</td>\n      <td>767871931</td>\n    </tr>\n  </tbody>\n</table>\n<p>972000 rows × 14 columns</p>\n</div>"
     },
     "execution_count": 9,
     "metadata": {},
     "output_type": "execute_result"
    }
   ],
   "source": [
    "df"
   ],
   "metadata": {
    "collapsed": false,
    "pycharm": {
     "name": "#%%\n"
    }
   }
  },
  {
   "cell_type": "code",
   "execution_count": 12,
   "outputs": [
    {
     "name": "stderr",
     "output_type": "stream",
     "text": [
      "C:\\Users\\shari\\miniconda3\\envs\\neuro\\lib\\site-packages\\ipykernel_launcher.py:2: FutureWarning: Indexing with multiple keys (implicitly converted to a tuple of keys) will be deprecated, use a list instead.\n",
      "  \n"
     ]
    },
    {
     "data": {
      "text/plain": "      session_id    roi  stimulus_block  stimulus_condition_id    unit_id  \\\n0      766640955  VISal             3.0                    282  950943078   \n1      766640955  VISal             3.0                    282  950943108   \n2      766640955  VISal             3.0                    282  950943186   \n3      766640955  VISal             3.0                    282  950943208   \n4      766640955  VISal             3.0                    282  950943245   \n...          ...    ...             ...                    ...        ...   \n32395  767871931  VISrl             8.0                   1152  950954680   \n32396  767871931  VISrl             8.0                   1152  950955121   \n32397  767871931  VISrl             8.0                   1152  950955147   \n32398  767871931  VISrl             8.0                   1152  950955160   \n32399  767871931  VISrl             8.0                   1152  950955240   \n\n       movie_sec  spike_counts  median_speed  pupil_area  \n0              2      1.000000      1.288191    0.001187  \n1              2      7.166667      1.288191    0.001187  \n2              2      0.500000      1.288191    0.001187  \n3              2     14.900000      1.288191    0.001187  \n4              2      3.833333      1.288191    0.001187  \n...          ...           ...           ...         ...  \n32395          1      6.000000      5.276708    0.001708  \n32396          1      3.266667      5.276708    0.001708  \n32397          1      0.266667      5.276708    0.001708  \n32398          1      0.500000      5.276708    0.001708  \n32399          1      2.033333      5.276708    0.001708  \n\n[32400 rows x 9 columns]",
      "text/html": "<div>\n<style scoped>\n    .dataframe tbody tr th:only-of-type {\n        vertical-align: middle;\n    }\n\n    .dataframe tbody tr th {\n        vertical-align: top;\n    }\n\n    .dataframe thead th {\n        text-align: right;\n    }\n</style>\n<table border=\"1\" class=\"dataframe\">\n  <thead>\n    <tr style=\"text-align: right;\">\n      <th></th>\n      <th>session_id</th>\n      <th>roi</th>\n      <th>stimulus_block</th>\n      <th>stimulus_condition_id</th>\n      <th>unit_id</th>\n      <th>movie_sec</th>\n      <th>spike_counts</th>\n      <th>median_speed</th>\n      <th>pupil_area</th>\n    </tr>\n  </thead>\n  <tbody>\n    <tr>\n      <th>0</th>\n      <td>766640955</td>\n      <td>VISal</td>\n      <td>3.0</td>\n      <td>282</td>\n      <td>950943078</td>\n      <td>2</td>\n      <td>1.000000</td>\n      <td>1.288191</td>\n      <td>0.001187</td>\n    </tr>\n    <tr>\n      <th>1</th>\n      <td>766640955</td>\n      <td>VISal</td>\n      <td>3.0</td>\n      <td>282</td>\n      <td>950943108</td>\n      <td>2</td>\n      <td>7.166667</td>\n      <td>1.288191</td>\n      <td>0.001187</td>\n    </tr>\n    <tr>\n      <th>2</th>\n      <td>766640955</td>\n      <td>VISal</td>\n      <td>3.0</td>\n      <td>282</td>\n      <td>950943186</td>\n      <td>2</td>\n      <td>0.500000</td>\n      <td>1.288191</td>\n      <td>0.001187</td>\n    </tr>\n    <tr>\n      <th>3</th>\n      <td>766640955</td>\n      <td>VISal</td>\n      <td>3.0</td>\n      <td>282</td>\n      <td>950943208</td>\n      <td>2</td>\n      <td>14.900000</td>\n      <td>1.288191</td>\n      <td>0.001187</td>\n    </tr>\n    <tr>\n      <th>4</th>\n      <td>766640955</td>\n      <td>VISal</td>\n      <td>3.0</td>\n      <td>282</td>\n      <td>950943245</td>\n      <td>2</td>\n      <td>3.833333</td>\n      <td>1.288191</td>\n      <td>0.001187</td>\n    </tr>\n    <tr>\n      <th>...</th>\n      <td>...</td>\n      <td>...</td>\n      <td>...</td>\n      <td>...</td>\n      <td>...</td>\n      <td>...</td>\n      <td>...</td>\n      <td>...</td>\n      <td>...</td>\n    </tr>\n    <tr>\n      <th>32395</th>\n      <td>767871931</td>\n      <td>VISrl</td>\n      <td>8.0</td>\n      <td>1152</td>\n      <td>950954680</td>\n      <td>1</td>\n      <td>6.000000</td>\n      <td>5.276708</td>\n      <td>0.001708</td>\n    </tr>\n    <tr>\n      <th>32396</th>\n      <td>767871931</td>\n      <td>VISrl</td>\n      <td>8.0</td>\n      <td>1152</td>\n      <td>950955121</td>\n      <td>1</td>\n      <td>3.266667</td>\n      <td>5.276708</td>\n      <td>0.001708</td>\n    </tr>\n    <tr>\n      <th>32397</th>\n      <td>767871931</td>\n      <td>VISrl</td>\n      <td>8.0</td>\n      <td>1152</td>\n      <td>950955147</td>\n      <td>1</td>\n      <td>0.266667</td>\n      <td>5.276708</td>\n      <td>0.001708</td>\n    </tr>\n    <tr>\n      <th>32398</th>\n      <td>767871931</td>\n      <td>VISrl</td>\n      <td>8.0</td>\n      <td>1152</td>\n      <td>950955160</td>\n      <td>1</td>\n      <td>0.500000</td>\n      <td>5.276708</td>\n      <td>0.001708</td>\n    </tr>\n    <tr>\n      <th>32399</th>\n      <td>767871931</td>\n      <td>VISrl</td>\n      <td>8.0</td>\n      <td>1152</td>\n      <td>950955240</td>\n      <td>1</td>\n      <td>2.033333</td>\n      <td>5.276708</td>\n      <td>0.001708</td>\n    </tr>\n  </tbody>\n</table>\n<p>32400 rows × 9 columns</p>\n</div>"
     },
     "execution_count": 12,
     "metadata": {},
     "output_type": "execute_result"
    }
   ],
   "source": [
    "# create population vector: (n_units, block)\n",
    "df.groupby([\"session_id\", \"roi\", \"stimulus_block\", \"stimulus_condition_id\", \"unit_id\", \"movie_sec\"], as_index=False)[\"spike_counts\", \"median_speed\", \"pupil_area\"].mean()"
   ],
   "metadata": {
    "collapsed": false,
    "pycharm": {
     "name": "#%%\n"
    }
   }
  },
  {
   "cell_type": "code",
   "execution_count": null,
   "outputs": [],
   "source": [
    "sessions = df.session_id.unique()\n",
    "rois = df.roi.unique()\n",
    "block = df.stimulus_block.unique()\n",
    "repeat = stimulus\n",
    "for sess in"
   ],
   "metadata": {
    "collapsed": false,
    "pycharm": {
     "name": "#%%\n"
    }
   }
  }
 ],
 "metadata": {
  "kernelspec": {
   "display_name": "Python 3",
   "language": "python",
   "name": "python3"
  },
  "language_info": {
   "codemirror_mode": {
    "name": "ipython",
    "version": 2
   },
   "file_extension": ".py",
   "mimetype": "text/x-python",
   "name": "python",
   "nbconvert_exporter": "python",
   "pygments_lexer": "ipython2",
   "version": "2.7.6"
  }
 },
 "nbformat": 4,
 "nbformat_minor": 0
}