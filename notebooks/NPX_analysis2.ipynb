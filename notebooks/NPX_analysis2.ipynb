{
 "cells": [
  {
   "cell_type": "markdown",
   "source": [
    "# RSA analysis of the Neuropixel Data"
   ],
   "metadata": {
    "collapsed": false,
    "pycharm": {
     "name": "#%% md\n"
    }
   }
  },
  {
   "cell_type": "markdown",
   "source": [
    "This notebook analyzes Allen Institute's Neuropixel data. It focuses on the `functional_connectivity` dataset since that dataset seems to be richer (more repeats of the same stimuli), with more rest time in-between sessions, and has better quality data (only one animal missing pupilometry measurements)."
   ],
   "metadata": {
    "collapsed": false,
    "pycharm": {
     "name": "#%% md\n"
    }
   }
  },
  {
   "cell_type": "code",
   "execution_count": 1,
   "outputs": [],
   "source": [
    "from src.neuropixel import Neuropixel\n",
    "\n",
    "from pathlib import Path\n",
    "\n",
    "import numpy as np\n",
    "import pandas as pd\n",
    "import matplotlib.pyplot as plt\n",
    "import seaborn as sns"
   ],
   "metadata": {
    "collapsed": false,
    "pycharm": {
     "name": "#%%\n"
    }
   }
  },
  {
   "cell_type": "code",
   "execution_count": 2,
   "outputs": [],
   "source": [
    "HOME = Path('/media/internal/projects/Allen/Ecephys')\n",
    "npx = Neuropixel(HOME)"
   ],
   "metadata": {
    "collapsed": false,
    "pycharm": {
     "name": "#%%\n"
    }
   }
  },
  {
   "cell_type": "code",
   "execution_count": 3,
   "outputs": [],
   "source": [
    "data_type = 'functional_connectivity'"
   ],
   "metadata": {
    "collapsed": false,
    "pycharm": {
     "name": "#%%\n"
    }
   }
  },
  {
   "cell_type": "markdown",
   "source": [
    "## Natural Movie 1"
   ],
   "metadata": {
    "collapsed": false,
    "pycharm": {
     "name": "#%% md\n"
    }
   }
  },
  {
   "cell_type": "markdown",
   "source": [
    "This movie is played in both sessions of `functional_connectivity`, each repeated 60 times on each session (there are also 20 repeats with temporal shuffle that I'm going to ignore for now). The movie has 30s duration, so I will extract 30 \"blocks\" of 1s duration.\n",
    "\n",
    "Let's start by getting the dataframes for each of these blocks."
   ],
   "metadata": {
    "collapsed": false,
    "pycharm": {
     "name": "#%% md\n"
    }
   }
  },
  {
   "cell_type": "code",
   "execution_count": 4,
   "outputs": [],
   "source": [
    "table = npx.cache.get_session_table()\n",
    "session_ids = table.loc[table.session_type == data_type].index.values"
   ],
   "metadata": {
    "collapsed": false,
    "pycharm": {
     "name": "#%%\n"
    }
   }
  },
  {
   "cell_type": "code",
   "execution_count": 5,
   "outputs": [],
   "source": [
    "# remove sessions w/o eye data\n",
    "session_ids = np.delete(session_ids, np.where(session_ids == 768515987))\n",
    "session_ids = np.delete(session_ids, np.where(session_ids == 840012044))"
   ],
   "metadata": {
    "collapsed": false,
    "pycharm": {
     "name": "#%%\n"
    }
   }
  },
  {
   "cell_type": "code",
   "execution_count": 6,
   "outputs": [
    {
     "data": {
      "text/plain": "array([766640955, 767871931, 771160300, 771990200, 774875821, 778240327,\n       778998620, 779839471, 781842082, 786091066, 787025148, 789848216,\n       793224716, 794812542, 816200189, 819186360, 819701982, 821695405,\n       829720705, 831882777, 835479236, 839068429, 839557629, 847657808],\n      dtype=int64)"
     },
     "execution_count": 6,
     "metadata": {},
     "output_type": "execute_result"
    }
   ],
   "source": [
    "session_ids"
   ],
   "metadata": {
    "collapsed": false,
    "pycharm": {
     "name": "#%%\n"
    }
   }
  },
  {
   "cell_type": "code",
   "execution_count": 7,
   "outputs": [],
   "source": [
    "movie_name = \"natural_movie_one_more_repeats\"\n",
    "rois = [\"VISrl\", \"VISp\", \"VISpm\", \"VISam\", \"VISal\", \"VISl\"]\n",
    "# rois = [\"VISp\"]\n",
    "seconds = np.arange(0, 30)"
   ],
   "metadata": {
    "collapsed": false,
    "pycharm": {
     "name": "#%%\n"
    }
   }
  },
  {
   "cell_type": "code",
   "execution_count": 24,
   "outputs": [],
   "source": [
    "# Read all the csvs\n",
    "# get files from all subs\n",
    "files = npx.SAVE_DIR.glob('*.csv')\n",
    "data_files = sorted(list(files))  # sort and list the files\n",
    "\n",
    "dfs = []\n",
    "for f in data_files:\n",
    "    df = pd.read_csv(f, index_col=0)\n",
    "    df[\"session_id\"] = str(f.name).split('_')[0].split('-')[1]\n",
    "    df[\"movie_sec\"] = df[\"movie_sec\"] + 1\n",
    "    dfs.append(df)\n",
    "\n",
    "df = pd.concat(dfs, ignore_index=True)\n",
    "# load into one dataframe\n",
    "# df = pd.concat(map(lambda f: pd.read_csv(f, index_col=0), data_files), ignore_index=True)"
   ],
   "metadata": {
    "collapsed": false,
    "pycharm": {
     "name": "#%%\n"
    }
   }
  },
  {
   "cell_type": "code",
   "execution_count": 25,
   "outputs": [
    {
     "data": {
      "text/plain": "        stimulus_presentation_id    unit_id   start_time    stop_time  \\\n0                           5209  950943078  2326.237147  2326.270507   \n1                           5209  950943108  2326.237147  2326.270507   \n2                           5209  950943186  2326.237147  2326.270507   \n3                           5209  950943208  2326.237147  2326.270507   \n4                           5209  950943245  2326.237147  2326.270507   \n...                          ...        ...          ...          ...   \n971995                     76251  950954680  8279.241058  8279.274419   \n971996                     76251  950955121  8279.241058  8279.274419   \n971997                     76251  950955147  8279.241058  8279.274419   \n971998                     76251  950955160  8279.241058  8279.274419   \n971999                     76251  950955240  8279.241058  8279.274419   \n\n        stimulus_block                   stimulus_name  stimulus_condition_id  \\\n0                  3.0  natural_movie_one_more_repeats                   1152   \n1                  3.0  natural_movie_one_more_repeats                   1152   \n2                  3.0  natural_movie_one_more_repeats                   1152   \n3                  3.0  natural_movie_one_more_repeats                   1152   \n4                  3.0  natural_movie_one_more_repeats                   1152   \n...                ...                             ...                    ...   \n971995             8.0  natural_movie_one_more_repeats                    492   \n971996             8.0  natural_movie_one_more_repeats                    492   \n971997             8.0  natural_movie_one_more_repeats                    492   \n971998             8.0  natural_movie_one_more_repeats                    492   \n971999             8.0  natural_movie_one_more_repeats                    492   \n\n        spike_counts    roi  movie_sec  median_speed  mean_speed  pupil_area  \\\n0                  0  VISal          1      1.729311    2.009071    0.001445   \n1                  3  VISal          1      1.729311    2.009071    0.001445   \n2                  0  VISal          1      1.729311    2.009071    0.001445   \n3                 13  VISal          1      1.729311    2.009071    0.001445   \n4                  3  VISal          1      1.729311    2.009071    0.001445   \n...              ...    ...        ...           ...         ...         ...   \n971995             1  VISrl          9      1.073632    1.174236    0.001474   \n971996             1  VISrl          9      1.073632    1.174236    0.001474   \n971997             0  VISrl          9      1.073632    1.174236    0.001474   \n971998             0  VISrl          9      1.073632    1.174236    0.001474   \n971999             1  VISrl          9      1.073632    1.174236    0.001474   \n\n       session_id  \n0       766640955  \n1       766640955  \n2       766640955  \n3       766640955  \n4       766640955  \n...           ...  \n971995  767871931  \n971996  767871931  \n971997  767871931  \n971998  767871931  \n971999  767871931  \n\n[972000 rows x 14 columns]",
      "text/html": "<div>\n<style scoped>\n    .dataframe tbody tr th:only-of-type {\n        vertical-align: middle;\n    }\n\n    .dataframe tbody tr th {\n        vertical-align: top;\n    }\n\n    .dataframe thead th {\n        text-align: right;\n    }\n</style>\n<table border=\"1\" class=\"dataframe\">\n  <thead>\n    <tr style=\"text-align: right;\">\n      <th></th>\n      <th>stimulus_presentation_id</th>\n      <th>unit_id</th>\n      <th>start_time</th>\n      <th>stop_time</th>\n      <th>stimulus_block</th>\n      <th>stimulus_name</th>\n      <th>stimulus_condition_id</th>\n      <th>spike_counts</th>\n      <th>roi</th>\n      <th>movie_sec</th>\n      <th>median_speed</th>\n      <th>mean_speed</th>\n      <th>pupil_area</th>\n      <th>session_id</th>\n    </tr>\n  </thead>\n  <tbody>\n    <tr>\n      <th>0</th>\n      <td>5209</td>\n      <td>950943078</td>\n      <td>2326.237147</td>\n      <td>2326.270507</td>\n      <td>3.0</td>\n      <td>natural_movie_one_more_repeats</td>\n      <td>1152</td>\n      <td>0</td>\n      <td>VISal</td>\n      <td>1</td>\n      <td>1.729311</td>\n      <td>2.009071</td>\n      <td>0.001445</td>\n      <td>766640955</td>\n    </tr>\n    <tr>\n      <th>1</th>\n      <td>5209</td>\n      <td>950943108</td>\n      <td>2326.237147</td>\n      <td>2326.270507</td>\n      <td>3.0</td>\n      <td>natural_movie_one_more_repeats</td>\n      <td>1152</td>\n      <td>3</td>\n      <td>VISal</td>\n      <td>1</td>\n      <td>1.729311</td>\n      <td>2.009071</td>\n      <td>0.001445</td>\n      <td>766640955</td>\n    </tr>\n    <tr>\n      <th>2</th>\n      <td>5209</td>\n      <td>950943186</td>\n      <td>2326.237147</td>\n      <td>2326.270507</td>\n      <td>3.0</td>\n      <td>natural_movie_one_more_repeats</td>\n      <td>1152</td>\n      <td>0</td>\n      <td>VISal</td>\n      <td>1</td>\n      <td>1.729311</td>\n      <td>2.009071</td>\n      <td>0.001445</td>\n      <td>766640955</td>\n    </tr>\n    <tr>\n      <th>3</th>\n      <td>5209</td>\n      <td>950943208</td>\n      <td>2326.237147</td>\n      <td>2326.270507</td>\n      <td>3.0</td>\n      <td>natural_movie_one_more_repeats</td>\n      <td>1152</td>\n      <td>13</td>\n      <td>VISal</td>\n      <td>1</td>\n      <td>1.729311</td>\n      <td>2.009071</td>\n      <td>0.001445</td>\n      <td>766640955</td>\n    </tr>\n    <tr>\n      <th>4</th>\n      <td>5209</td>\n      <td>950943245</td>\n      <td>2326.237147</td>\n      <td>2326.270507</td>\n      <td>3.0</td>\n      <td>natural_movie_one_more_repeats</td>\n      <td>1152</td>\n      <td>3</td>\n      <td>VISal</td>\n      <td>1</td>\n      <td>1.729311</td>\n      <td>2.009071</td>\n      <td>0.001445</td>\n      <td>766640955</td>\n    </tr>\n    <tr>\n      <th>...</th>\n      <td>...</td>\n      <td>...</td>\n      <td>...</td>\n      <td>...</td>\n      <td>...</td>\n      <td>...</td>\n      <td>...</td>\n      <td>...</td>\n      <td>...</td>\n      <td>...</td>\n      <td>...</td>\n      <td>...</td>\n      <td>...</td>\n      <td>...</td>\n    </tr>\n    <tr>\n      <th>971995</th>\n      <td>76251</td>\n      <td>950954680</td>\n      <td>8279.241058</td>\n      <td>8279.274419</td>\n      <td>8.0</td>\n      <td>natural_movie_one_more_repeats</td>\n      <td>492</td>\n      <td>1</td>\n      <td>VISrl</td>\n      <td>9</td>\n      <td>1.073632</td>\n      <td>1.174236</td>\n      <td>0.001474</td>\n      <td>767871931</td>\n    </tr>\n    <tr>\n      <th>971996</th>\n      <td>76251</td>\n      <td>950955121</td>\n      <td>8279.241058</td>\n      <td>8279.274419</td>\n      <td>8.0</td>\n      <td>natural_movie_one_more_repeats</td>\n      <td>492</td>\n      <td>1</td>\n      <td>VISrl</td>\n      <td>9</td>\n      <td>1.073632</td>\n      <td>1.174236</td>\n      <td>0.001474</td>\n      <td>767871931</td>\n    </tr>\n    <tr>\n      <th>971997</th>\n      <td>76251</td>\n      <td>950955147</td>\n      <td>8279.241058</td>\n      <td>8279.274419</td>\n      <td>8.0</td>\n      <td>natural_movie_one_more_repeats</td>\n      <td>492</td>\n      <td>0</td>\n      <td>VISrl</td>\n      <td>9</td>\n      <td>1.073632</td>\n      <td>1.174236</td>\n      <td>0.001474</td>\n      <td>767871931</td>\n    </tr>\n    <tr>\n      <th>971998</th>\n      <td>76251</td>\n      <td>950955160</td>\n      <td>8279.241058</td>\n      <td>8279.274419</td>\n      <td>8.0</td>\n      <td>natural_movie_one_more_repeats</td>\n      <td>492</td>\n      <td>0</td>\n      <td>VISrl</td>\n      <td>9</td>\n      <td>1.073632</td>\n      <td>1.174236</td>\n      <td>0.001474</td>\n      <td>767871931</td>\n    </tr>\n    <tr>\n      <th>971999</th>\n      <td>76251</td>\n      <td>950955240</td>\n      <td>8279.241058</td>\n      <td>8279.274419</td>\n      <td>8.0</td>\n      <td>natural_movie_one_more_repeats</td>\n      <td>492</td>\n      <td>1</td>\n      <td>VISrl</td>\n      <td>9</td>\n      <td>1.073632</td>\n      <td>1.174236</td>\n      <td>0.001474</td>\n      <td>767871931</td>\n    </tr>\n  </tbody>\n</table>\n<p>972000 rows × 14 columns</p>\n</div>"
     },
     "execution_count": 25,
     "metadata": {},
     "output_type": "execute_result"
    }
   ],
   "source": [
    "df"
   ],
   "metadata": {
    "collapsed": false,
    "pycharm": {
     "name": "#%%\n"
    }
   }
  },
  {
   "cell_type": "code",
   "execution_count": 34,
   "outputs": [
    {
     "name": "stderr",
     "output_type": "stream",
     "text": [
      "C:\\Users\\shari\\miniconda3\\envs\\neuro\\lib\\site-packages\\ipykernel_launcher.py:2: FutureWarning: Indexing with multiple keys (implicitly converted to a tuple of keys) will be deprecated, use a list instead.\n",
      "  \n"
     ]
    },
    {
     "data": {
      "text/plain": "       session_id    roi    unit_id  stimulus_block  stimulus_presentation_id  \\\n0       766640955  VISal  950943078             3.0                      4339   \n1       766640955  VISal  950943078             3.0                      4369   \n2       766640955  VISal  950943078             3.0                      4399   \n3       766640955  VISal  950943078             3.0                      4429   \n4       766640955  VISal  950943078             3.0                      4459   \n...           ...    ...        ...             ...                       ...   \n971995  767871931  VISrl  950955240             8.0                     76791   \n971996  767871931  VISrl  950955240             8.0                     76821   \n971997  767871931  VISrl  950955240             8.0                     76851   \n971998  767871931  VISrl  950955240             8.0                     76881   \n971999  767871931  VISrl  950955240             8.0                     76911   \n\n        movie_sec  spike_counts  median_speed  pupil_area  \n0               2           1.0      1.126390    0.001078  \n1               3           0.0      1.130349    0.002018  \n2               4           0.0      1.009531    0.002345  \n3               5           0.0      1.169041    0.002520  \n4               6           0.0      1.222639    0.002173  \n...           ...           ...           ...         ...  \n971995         27           1.0      0.825545    0.001811  \n971996         28           0.0      0.919696    0.001756  \n971997         29           3.0      1.084222    0.001475  \n971998         30           1.0      1.102915    0.001264  \n971999          1           0.0      1.345067    0.001245  \n\n[972000 rows x 9 columns]",
      "text/html": "<div>\n<style scoped>\n    .dataframe tbody tr th:only-of-type {\n        vertical-align: middle;\n    }\n\n    .dataframe tbody tr th {\n        vertical-align: top;\n    }\n\n    .dataframe thead th {\n        text-align: right;\n    }\n</style>\n<table border=\"1\" class=\"dataframe\">\n  <thead>\n    <tr style=\"text-align: right;\">\n      <th></th>\n      <th>session_id</th>\n      <th>roi</th>\n      <th>unit_id</th>\n      <th>stimulus_block</th>\n      <th>stimulus_presentation_id</th>\n      <th>movie_sec</th>\n      <th>spike_counts</th>\n      <th>median_speed</th>\n      <th>pupil_area</th>\n    </tr>\n  </thead>\n  <tbody>\n    <tr>\n      <th>0</th>\n      <td>766640955</td>\n      <td>VISal</td>\n      <td>950943078</td>\n      <td>3.0</td>\n      <td>4339</td>\n      <td>2</td>\n      <td>1.0</td>\n      <td>1.126390</td>\n      <td>0.001078</td>\n    </tr>\n    <tr>\n      <th>1</th>\n      <td>766640955</td>\n      <td>VISal</td>\n      <td>950943078</td>\n      <td>3.0</td>\n      <td>4369</td>\n      <td>3</td>\n      <td>0.0</td>\n      <td>1.130349</td>\n      <td>0.002018</td>\n    </tr>\n    <tr>\n      <th>2</th>\n      <td>766640955</td>\n      <td>VISal</td>\n      <td>950943078</td>\n      <td>3.0</td>\n      <td>4399</td>\n      <td>4</td>\n      <td>0.0</td>\n      <td>1.009531</td>\n      <td>0.002345</td>\n    </tr>\n    <tr>\n      <th>3</th>\n      <td>766640955</td>\n      <td>VISal</td>\n      <td>950943078</td>\n      <td>3.0</td>\n      <td>4429</td>\n      <td>5</td>\n      <td>0.0</td>\n      <td>1.169041</td>\n      <td>0.002520</td>\n    </tr>\n    <tr>\n      <th>4</th>\n      <td>766640955</td>\n      <td>VISal</td>\n      <td>950943078</td>\n      <td>3.0</td>\n      <td>4459</td>\n      <td>6</td>\n      <td>0.0</td>\n      <td>1.222639</td>\n      <td>0.002173</td>\n    </tr>\n    <tr>\n      <th>...</th>\n      <td>...</td>\n      <td>...</td>\n      <td>...</td>\n      <td>...</td>\n      <td>...</td>\n      <td>...</td>\n      <td>...</td>\n      <td>...</td>\n      <td>...</td>\n    </tr>\n    <tr>\n      <th>971995</th>\n      <td>767871931</td>\n      <td>VISrl</td>\n      <td>950955240</td>\n      <td>8.0</td>\n      <td>76791</td>\n      <td>27</td>\n      <td>1.0</td>\n      <td>0.825545</td>\n      <td>0.001811</td>\n    </tr>\n    <tr>\n      <th>971996</th>\n      <td>767871931</td>\n      <td>VISrl</td>\n      <td>950955240</td>\n      <td>8.0</td>\n      <td>76821</td>\n      <td>28</td>\n      <td>0.0</td>\n      <td>0.919696</td>\n      <td>0.001756</td>\n    </tr>\n    <tr>\n      <th>971997</th>\n      <td>767871931</td>\n      <td>VISrl</td>\n      <td>950955240</td>\n      <td>8.0</td>\n      <td>76851</td>\n      <td>29</td>\n      <td>3.0</td>\n      <td>1.084222</td>\n      <td>0.001475</td>\n    </tr>\n    <tr>\n      <th>971998</th>\n      <td>767871931</td>\n      <td>VISrl</td>\n      <td>950955240</td>\n      <td>8.0</td>\n      <td>76881</td>\n      <td>30</td>\n      <td>1.0</td>\n      <td>1.102915</td>\n      <td>0.001264</td>\n    </tr>\n    <tr>\n      <th>971999</th>\n      <td>767871931</td>\n      <td>VISrl</td>\n      <td>950955240</td>\n      <td>8.0</td>\n      <td>76911</td>\n      <td>1</td>\n      <td>0.0</td>\n      <td>1.345067</td>\n      <td>0.001245</td>\n    </tr>\n  </tbody>\n</table>\n<p>972000 rows × 9 columns</p>\n</div>"
     },
     "execution_count": 34,
     "metadata": {},
     "output_type": "execute_result"
    }
   ],
   "source": [
    "# create population vector: (n_units, block)\n",
    "df.groupby([\"session_id\", \"roi\", \"unit_id\", \"stimulus_block\", \"stimulus_presentation_id\", \"movie_sec\"], as_index=False)[\"spike_counts\", \"median_speed\", \"pupil_area\"].mean()"
   ],
   "metadata": {
    "collapsed": false,
    "pycharm": {
     "name": "#%%\n"
    }
   }
  },
  {
   "cell_type": "code",
   "execution_count": 36,
   "outputs": [
    {
     "data": {
      "text/plain": "session_id  roi  \n766640955   VISal    117000\n            VISam    100800\n            VISl      61200\n            VISp      93600\n            VISrl     66600\n767871931   VISal     82800\n            VISam     93600\n            VISp     181800\n            VISpm    115200\n            VISrl     59400\nName: unit_id, dtype: int64"
     },
     "execution_count": 36,
     "metadata": {},
     "output_type": "execute_result"
    }
   ],
   "source": [
    "df.groupby([\"session_id\", \"roi\"])[\"unit_id\"].count()"
   ],
   "metadata": {
    "collapsed": false,
    "pycharm": {
     "name": "#%%\n"
    }
   }
  },
  {
   "cell_type": "code",
   "execution_count": 28,
   "outputs": [
    {
     "data": {
      "text/plain": "40.666666666666664"
     },
     "execution_count": 28,
     "metadata": {},
     "output_type": "execute_result"
    }
   ],
   "source": [
    "pv = np.zeros((60 * 30, ))"
   ],
   "metadata": {
    "collapsed": false,
    "pycharm": {
     "name": "#%%\n"
    }
   }
  },
  {
   "cell_type": "code",
   "execution_count": null,
   "outputs": [],
   "source": [],
   "metadata": {
    "collapsed": false,
    "pycharm": {
     "name": "#%%\n"
    }
   }
  }
 ],
 "metadata": {
  "kernelspec": {
   "display_name": "Python 3",
   "language": "python",
   "name": "python3"
  },
  "language_info": {
   "codemirror_mode": {
    "name": "ipython",
    "version": 2
   },
   "file_extension": ".py",
   "mimetype": "text/x-python",
   "name": "python",
   "nbconvert_exporter": "python",
   "pygments_lexer": "ipython2",
   "version": "2.7.6"
  }
 },
 "nbformat": 4,
 "nbformat_minor": 0
}