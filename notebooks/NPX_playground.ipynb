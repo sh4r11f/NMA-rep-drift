{
 "cells": [
  {
   "cell_type": "markdown",
   "id": "6e744574",
   "metadata": {
    "pycharm": {
     "name": "#%% md\n"
    }
   },
   "source": [
    "# Within-session Analysis of Neuropixel Data"
   ]
  },
  {
   "cell_type": "code",
   "execution_count": 9,
   "outputs": [],
   "source": [
    "from pathlib import Path\n",
    "\n",
    "import numpy as np\n",
    "import pandas as pd\n",
    "from scipy import stats\n",
    "\n",
    "import matplotlib.pyplot as plt\n",
    "from matplotlib.gridspec import GridSpec\n",
    "import seaborn as sns\n",
    "\n",
    "from allensdk.brain_observatory.ecephys.ecephys_project_cache import EcephysProjectCache\n",
    "\n",
    "# Show all columns when printing data\n",
    "pd.set_option('display.max_columns', None)"
   ],
   "metadata": {
    "collapsed": false,
    "pycharm": {
     "name": "#%%\n"
    }
   }
  },
  {
   "cell_type": "markdown",
   "source": [
    "## 1. Loading a session"
   ],
   "metadata": {
    "collapsed": false,
    "pycharm": {
     "name": "#%% md\n"
    }
   }
  },
  {
   "cell_type": "code",
   "execution_count": 10,
   "outputs": [],
   "source": [
    "# Specify home path and a .json file\n",
    "# HOME = Path().cwd()\n",
    "HOME = Path('/media/internal/projects/Allen/Ecephys')\n",
    "# HOME = Path('D:\\Allen\\Ecephys')\n",
    "manifest_path = HOME / \"manifest.json\""
   ],
   "metadata": {
    "collapsed": false,
    "pycharm": {
     "name": "#%%\n"
    }
   }
  },
  {
   "cell_type": "code",
   "execution_count": 11,
   "outputs": [
    {
     "data": {
      "text/plain": "[750332458,\n 758798717,\n 746083955,\n 755434585,\n 757216464,\n 761418226,\n 739448407,\n 762602078,\n 757970808,\n 751348571,\n 732592105,\n 760693773,\n 719161530,\n 760345702,\n 756029989,\n 721123822,\n 759883607,\n 754312389,\n 762120172,\n 744228101,\n 743475441,\n 754829445,\n 750749662,\n 715093703,\n 763673393,\n 737581020,\n 742951821]"
     },
     "execution_count": 11,
     "metadata": {},
     "output_type": "execute_result"
    }
   ],
   "source": [
    "[int(f.name.split('_')[1]) for f in HOME.iterdir() if ('session' in f.name and 'csv' not in f.name)]"
   ],
   "metadata": {
    "collapsed": false,
    "pycharm": {
     "name": "#%%\n"
    }
   }
  },
  {
   "cell_type": "code",
   "execution_count": 12,
   "outputs": [],
   "source": [
    "# Project-level object that fetches from Allen's public API (warehouse)\n",
    "# uses .json file to point to a cache directory\n",
    "cache = EcephysProjectCache.from_warehouse(manifest=manifest_path)"
   ],
   "metadata": {
    "collapsed": false,
    "pycharm": {
     "name": "#%%\n"
    }
   }
  },
  {
   "cell_type": "code",
   "execution_count": 13,
   "outputs": [
    {
     "data": {
      "text/plain": "                   published_at  specimen_id           session_type  \\\nid                                                                    \n715093703  2019-10-03T00:00:00Z    699733581  brain_observatory_1.1   \n719161530  2019-10-03T00:00:00Z    703279284  brain_observatory_1.1   \n721123822  2019-10-03T00:00:00Z    707296982  brain_observatory_1.1   \n732592105  2019-10-03T00:00:00Z    717038288  brain_observatory_1.1   \n737581020  2019-10-03T00:00:00Z    718643567  brain_observatory_1.1   \n\n           age_in_days sex                                    full_genotype  \\\nid                                                                            \n715093703        118.0   M    Sst-IRES-Cre/wt;Ai32(RCL-ChR2(H134R)_EYFP)/wt   \n719161530        122.0   M    Sst-IRES-Cre/wt;Ai32(RCL-ChR2(H134R)_EYFP)/wt   \n721123822        125.0   M  Pvalb-IRES-Cre/wt;Ai32(RCL-ChR2(H134R)_EYFP)/wt   \n732592105        100.0   M                                            wt/wt   \n737581020        108.0   M                                            wt/wt   \n\n           unit_count  channel_count  probe_count  \\\nid                                                  \n715093703         884           2219            6   \n719161530         755           2214            6   \n721123822         444           2229            6   \n732592105         824           1847            5   \n737581020         568           2218            6   \n\n                                  ecephys_structure_acronyms  \nid                                                            \n715093703  [CA1, VISrl, nan, PO, LP, LGd, CA3, DG, VISl, ...  \n719161530  [TH, Eth, APN, POL, LP, DG, CA1, VISpm, nan, N...  \n721123822  [MB, SCig, PPT, NOT, DG, CA1, VISam, nan, LP, ...  \n732592105       [grey, VISpm, nan, VISp, VISl, VISal, VISrl]  \n737581020      [grey, VISmma, nan, VISpm, VISp, VISl, VISrl]  ",
      "text/html": "<div>\n<style scoped>\n    .dataframe tbody tr th:only-of-type {\n        vertical-align: middle;\n    }\n\n    .dataframe tbody tr th {\n        vertical-align: top;\n    }\n\n    .dataframe thead th {\n        text-align: right;\n    }\n</style>\n<table border=\"1\" class=\"dataframe\">\n  <thead>\n    <tr style=\"text-align: right;\">\n      <th></th>\n      <th>published_at</th>\n      <th>specimen_id</th>\n      <th>session_type</th>\n      <th>age_in_days</th>\n      <th>sex</th>\n      <th>full_genotype</th>\n      <th>unit_count</th>\n      <th>channel_count</th>\n      <th>probe_count</th>\n      <th>ecephys_structure_acronyms</th>\n    </tr>\n    <tr>\n      <th>id</th>\n      <th></th>\n      <th></th>\n      <th></th>\n      <th></th>\n      <th></th>\n      <th></th>\n      <th></th>\n      <th></th>\n      <th></th>\n      <th></th>\n    </tr>\n  </thead>\n  <tbody>\n    <tr>\n      <th>715093703</th>\n      <td>2019-10-03T00:00:00Z</td>\n      <td>699733581</td>\n      <td>brain_observatory_1.1</td>\n      <td>118.0</td>\n      <td>M</td>\n      <td>Sst-IRES-Cre/wt;Ai32(RCL-ChR2(H134R)_EYFP)/wt</td>\n      <td>884</td>\n      <td>2219</td>\n      <td>6</td>\n      <td>[CA1, VISrl, nan, PO, LP, LGd, CA3, DG, VISl, ...</td>\n    </tr>\n    <tr>\n      <th>719161530</th>\n      <td>2019-10-03T00:00:00Z</td>\n      <td>703279284</td>\n      <td>brain_observatory_1.1</td>\n      <td>122.0</td>\n      <td>M</td>\n      <td>Sst-IRES-Cre/wt;Ai32(RCL-ChR2(H134R)_EYFP)/wt</td>\n      <td>755</td>\n      <td>2214</td>\n      <td>6</td>\n      <td>[TH, Eth, APN, POL, LP, DG, CA1, VISpm, nan, N...</td>\n    </tr>\n    <tr>\n      <th>721123822</th>\n      <td>2019-10-03T00:00:00Z</td>\n      <td>707296982</td>\n      <td>brain_observatory_1.1</td>\n      <td>125.0</td>\n      <td>M</td>\n      <td>Pvalb-IRES-Cre/wt;Ai32(RCL-ChR2(H134R)_EYFP)/wt</td>\n      <td>444</td>\n      <td>2229</td>\n      <td>6</td>\n      <td>[MB, SCig, PPT, NOT, DG, CA1, VISam, nan, LP, ...</td>\n    </tr>\n    <tr>\n      <th>732592105</th>\n      <td>2019-10-03T00:00:00Z</td>\n      <td>717038288</td>\n      <td>brain_observatory_1.1</td>\n      <td>100.0</td>\n      <td>M</td>\n      <td>wt/wt</td>\n      <td>824</td>\n      <td>1847</td>\n      <td>5</td>\n      <td>[grey, VISpm, nan, VISp, VISl, VISal, VISrl]</td>\n    </tr>\n    <tr>\n      <th>737581020</th>\n      <td>2019-10-03T00:00:00Z</td>\n      <td>718643567</td>\n      <td>brain_observatory_1.1</td>\n      <td>108.0</td>\n      <td>M</td>\n      <td>wt/wt</td>\n      <td>568</td>\n      <td>2218</td>\n      <td>6</td>\n      <td>[grey, VISmma, nan, VISpm, VISp, VISl, VISrl]</td>\n    </tr>\n  </tbody>\n</table>\n</div>"
     },
     "execution_count": 13,
     "metadata": {},
     "output_type": "execute_result"
    }
   ],
   "source": [
    "table = cache.get_session_table()\n",
    "table.head()"
   ],
   "metadata": {
    "collapsed": false,
    "pycharm": {
     "name": "#%%\n"
    }
   }
  },
  {
   "cell_type": "code",
   "execution_count": 14,
   "outputs": [
    {
     "data": {
      "text/plain": "                         published_at  specimen_id  age_in_days  sex  \\\nsession_type                                                           \nbrain_observatory_1.1              32           32           32   32   \nfunctional_connectivity            26           26           26   26   \n\n                         full_genotype  unit_count  channel_count  \\\nsession_type                                                        \nbrain_observatory_1.1               32          32             32   \nfunctional_connectivity             26          26             26   \n\n                         probe_count  ecephys_structure_acronyms  \nsession_type                                                      \nbrain_observatory_1.1             32                          32  \nfunctional_connectivity           26                          26  ",
      "text/html": "<div>\n<style scoped>\n    .dataframe tbody tr th:only-of-type {\n        vertical-align: middle;\n    }\n\n    .dataframe tbody tr th {\n        vertical-align: top;\n    }\n\n    .dataframe thead th {\n        text-align: right;\n    }\n</style>\n<table border=\"1\" class=\"dataframe\">\n  <thead>\n    <tr style=\"text-align: right;\">\n      <th></th>\n      <th>published_at</th>\n      <th>specimen_id</th>\n      <th>age_in_days</th>\n      <th>sex</th>\n      <th>full_genotype</th>\n      <th>unit_count</th>\n      <th>channel_count</th>\n      <th>probe_count</th>\n      <th>ecephys_structure_acronyms</th>\n    </tr>\n    <tr>\n      <th>session_type</th>\n      <th></th>\n      <th></th>\n      <th></th>\n      <th></th>\n      <th></th>\n      <th></th>\n      <th></th>\n      <th></th>\n      <th></th>\n    </tr>\n  </thead>\n  <tbody>\n    <tr>\n      <th>brain_observatory_1.1</th>\n      <td>32</td>\n      <td>32</td>\n      <td>32</td>\n      <td>32</td>\n      <td>32</td>\n      <td>32</td>\n      <td>32</td>\n      <td>32</td>\n      <td>32</td>\n    </tr>\n    <tr>\n      <th>functional_connectivity</th>\n      <td>26</td>\n      <td>26</td>\n      <td>26</td>\n      <td>26</td>\n      <td>26</td>\n      <td>26</td>\n      <td>26</td>\n      <td>26</td>\n      <td>26</td>\n    </tr>\n  </tbody>\n</table>\n</div>"
     },
     "execution_count": 14,
     "metadata": {},
     "output_type": "execute_result"
    }
   ],
   "source": [
    "table.groupby([\"session_type\"]).count()"
   ],
   "metadata": {
    "collapsed": false,
    "pycharm": {
     "name": "#%%\n"
    }
   }
  },
  {
   "cell_type": "code",
   "execution_count": 15,
   "outputs": [
    {
     "data": {
      "text/plain": "array([715093703, 719161530, 721123822, 732592105, 737581020, 739448407,\n       742951821, 743475441, 744228101, 746083955, 750332458, 750749662,\n       751348571, 754312389, 754829445, 755434585, 756029989, 757216464,\n       757970808, 758798717, 759883607, 760345702, 760693773, 761418226,\n       762120172, 762602078, 763673393, 766640955, 767871931, 768515987,\n       771160300, 771990200, 773418906, 774875821, 778240327, 778998620,\n       779839471, 781842082, 786091066, 787025148, 789848216, 791319847,\n       793224716, 794812542, 797828357, 798911424, 799864342, 816200189,\n       819186360, 819701982, 821695405, 829720705, 831882777, 835479236,\n       839068429, 839557629, 840012044, 847657808])"
     },
     "execution_count": 15,
     "metadata": {},
     "output_type": "execute_result"
    }
   ],
   "source": [
    "# Find unique session IDs\n",
    "session_ids = np.unique(table.index)\n",
    "session_ids"
   ],
   "metadata": {
    "collapsed": false,
    "pycharm": {
     "name": "#%%\n"
    }
   }
  },
  {
   "cell_type": "code",
   "execution_count": 16,
   "outputs": [
    {
     "data": {
      "text/plain": "58"
     },
     "execution_count": 16,
     "metadata": {},
     "output_type": "execute_result"
    }
   ],
   "source": [
    "# How many sessions are there? \n",
    "session_ids.shape[0]"
   ],
   "metadata": {
    "collapsed": false,
    "pycharm": {
     "name": "#%%\n"
    }
   }
  },
  {
   "cell_type": "code",
   "execution_count": 17,
   "outputs": [],
   "source": [
    "# Load a session\n",
    "session = cache.get_session_data(session_ids[11])"
   ],
   "metadata": {
    "collapsed": false,
    "pycharm": {
     "name": "#%%\n"
    }
   }
  },
  {
   "cell_type": "code",
   "execution_count": 18,
   "outputs": [
    {
     "data": {
      "text/plain": "{'specimen_name': 'C57BL/6J-412792',\n 'session_type': 'brain_observatory_1.1',\n 'full_genotype': 'wt/wt',\n 'sex': 'M',\n 'age_in_days': 92.0,\n 'rig_equipment_name': 'NP.1',\n 'num_units': 761,\n 'num_channels': 2223,\n 'num_probes': 6,\n 'num_stimulus_presentations': 70390,\n 'session_start_time': datetime.datetime(2018, 10, 26, 12, 58, 51, tzinfo=tzoffset(None, -25200)),\n 'ecephys_session_id': 750749662,\n 'structure_acronyms': ['VISpm',\n  nan,\n  'PO',\n  'LD',\n  'LP',\n  'DG',\n  'CA1',\n  'LGd',\n  'CA3',\n  'VISrl',\n  'Eth',\n  'VISam',\n  'VISp',\n  'LGv',\n  'IGL',\n  'VISl',\n  'VISal',\n  'VPM',\n  'TH',\n  'CA2'],\n 'stimulus_names': ['spontaneous',\n  'gabors',\n  'flashes',\n  'drifting_gratings',\n  'natural_movie_three',\n  'natural_movie_one',\n  'static_gratings',\n  'natural_scenes']}"
     },
     "execution_count": 18,
     "metadata": {},
     "output_type": "execute_result"
    }
   ],
   "source": [
    "session.metadata"
   ],
   "metadata": {
    "collapsed": false,
    "pycharm": {
     "name": "#%%\n"
    }
   }
  },
  {
   "cell_type": "code",
   "execution_count": 19,
   "outputs": [
    {
     "data": {
      "text/plain": "LP       142\nCA1      113\nLGd       82\nVISam     64\nVISpm     64\nVPM       55\nVISp      52\nVISal     46\nVISrl     41\nPO        30\nDG        26\nVISl      20\nTH        13\nCA3       10\nEth        2\nLD         1\nName: ecephys_structure_acronym, dtype: int64"
     },
     "execution_count": 19,
     "metadata": {},
     "output_type": "execute_result"
    }
   ],
   "source": [
    "session.structurewise_unit_counts"
   ],
   "metadata": {
    "collapsed": false,
    "pycharm": {
     "name": "#%%\n"
    }
   }
  },
  {
   "cell_type": "markdown",
   "source": [
    "## 2. Select stimuli and region"
   ],
   "metadata": {
    "collapsed": false,
    "pycharm": {
     "name": "#%% md\n"
    }
   }
  },
  {
   "cell_type": "markdown",
   "source": [
    "Let's just work with **Drifting Gratings** and **V1**."
   ],
   "metadata": {
    "collapsed": false,
    "pycharm": {
     "name": "#%% md\n"
    }
   }
  },
  {
   "cell_type": "code",
   "execution_count": 43,
   "outputs": [],
   "source": [
    "stim_type = 'drifting_gratings'\n",
    "roi = 'VISp'\n",
    "\n",
    "# get just one stimulus condition, can look up later what its parameters are \n",
    "stim_id = session.stimulus_conditions.loc[session.stimulus_conditions.stimulus_name == stim_type].index.values[0]\n",
    "stim_idx = session.stimulus_presentations.loc[session.stimulus_presentations.stimulus_condition_id == stim_id].index.values\n",
    "\n",
    "# select the roi and also drop low-snr units\n",
    "q25 = np.percentile(session.units.snr, 25)\n",
    "# mean_snr = session.units.snr.mean()\n",
    "roi_idx = session.units[(session.units.snr > q25) & (session.units.ecephys_structure_acronym == roi)].index.values"
   ],
   "metadata": {
    "collapsed": false,
    "pycharm": {
     "name": "#%%\n"
    }
   }
  },
  {
   "cell_type": "code",
   "execution_count": 44,
   "outputs": [
    {
     "data": {
      "text/plain": "(43, 89)"
     },
     "execution_count": 44,
     "metadata": {},
     "output_type": "execute_result"
    }
   ],
   "source": [
    "# Sanity check\n",
    "session.units.loc[roi_idx, :].shape"
   ],
   "metadata": {
    "collapsed": false,
    "pycharm": {
     "name": "#%%\n"
    }
   }
  },
  {
   "cell_type": "code",
   "execution_count": 45,
   "outputs": [
    {
     "data": {
      "text/plain": "246"
     },
     "execution_count": 45,
     "metadata": {},
     "output_type": "execute_result"
    }
   ],
   "source": [
    "stim_id"
   ],
   "metadata": {
    "collapsed": false,
    "pycharm": {
     "name": "#%%\n"
    }
   }
  },
  {
   "cell_type": "code",
   "execution_count": 46,
   "outputs": [
    {
     "data": {
      "text/plain": "15"
     },
     "execution_count": 46,
     "metadata": {},
     "output_type": "execute_result"
    }
   ],
   "source": [
    "len(stim_idx)"
   ],
   "metadata": {
    "collapsed": false,
    "pycharm": {
     "name": "#%%\n"
    }
   }
  },
  {
   "cell_type": "code",
   "execution_count": 47,
   "outputs": [
    {
     "data": {
      "text/plain": "                         color contrast frame orientation  \\\nstimulus_presentation_id                                    \n3798                      null      0.8  null       135.0   \n3810                      null      0.8  null       135.0   \n3828                      null      0.8  null       135.0   \n3904                      null      0.8  null       135.0   \n3983                      null      0.8  null       135.0   \n31029                     null      0.8  null       135.0   \n31115                     null      0.8  null       135.0   \n31160                     null      0.8  null       135.0   \n49225                     null      0.8  null       135.0   \n49265                     null      0.8  null       135.0   \n49303                     null      0.8  null       135.0   \n49308                     null      0.8  null       135.0   \n49334                     null      0.8  null       135.0   \n49394                     null      0.8  null       135.0   \n49422                     null      0.8  null       135.0   \n\n                                                     phase            size  \\\nstimulus_presentation_id                                                     \n3798                      [21235.93333333, 21235.93333333]  [250.0, 250.0]   \n3810                      [21235.93333333, 21235.93333333]  [250.0, 250.0]   \n3828                      [21235.93333333, 21235.93333333]  [250.0, 250.0]   \n3904                      [21235.93333333, 21235.93333333]  [250.0, 250.0]   \n3983                      [21235.93333333, 21235.93333333]  [250.0, 250.0]   \n31029                     [21235.93333333, 21235.93333333]  [250.0, 250.0]   \n31115                     [21235.93333333, 21235.93333333]  [250.0, 250.0]   \n31160                     [21235.93333333, 21235.93333333]  [250.0, 250.0]   \n49225                     [21235.93333333, 21235.93333333]  [250.0, 250.0]   \n49265                     [21235.93333333, 21235.93333333]  [250.0, 250.0]   \n49303                     [21235.93333333, 21235.93333333]  [250.0, 250.0]   \n49308                     [21235.93333333, 21235.93333333]  [250.0, 250.0]   \n49334                     [21235.93333333, 21235.93333333]  [250.0, 250.0]   \n49394                     [21235.93333333, 21235.93333333]  [250.0, 250.0]   \n49422                     [21235.93333333, 21235.93333333]  [250.0, 250.0]   \n\n                         spatial_frequency   start_time stimulus_block  \\\nstimulus_presentation_id                                                 \n3798                                  0.04  1585.570019            2.0   \n3810                                  0.04  1621.600109            2.0   \n3828                                  0.04  1675.645229            2.0   \n3904                                  0.04  1903.835839            2.0   \n3983                                  0.04  2141.033992            2.0   \n31029                                 0.04  3260.969519            5.0   \n31115                                 0.04  3519.185179            5.0   \n31160                                 0.04  3654.298062            5.0   \n49225                                 0.04  4774.233789            7.0   \n49265                                 0.04  4894.334209            7.0   \n49303                                 0.04  5008.429559            7.0   \n49308                                 0.04  5023.442082            7.0   \n49334                                 0.04  5101.507332            7.0   \n49394                                 0.04  5281.657912            7.0   \n49422                                 0.04  5365.728172            7.0   \n\n                              stimulus_name    stop_time temporal_frequency  \\\nstimulus_presentation_id                                                      \n3798                      drifting_gratings  1587.571669                2.0   \n3810                      drifting_gratings  1623.601799                2.0   \n3828                      drifting_gratings  1677.646929                2.0   \n3904                      drifting_gratings  1905.837529                2.0   \n3983                      drifting_gratings  2143.035672                2.0   \n31029                     drifting_gratings  3262.971159                2.0   \n31115                     drifting_gratings  3521.186869                2.0   \n31160                     drifting_gratings  3656.299752                2.0   \n49225                     drifting_gratings  4776.235479                2.0   \n49265                     drifting_gratings  4896.335849                2.0   \n49303                     drifting_gratings  5010.431199                2.0   \n49308                     drifting_gratings  5025.443752                2.0   \n49334                     drifting_gratings  5103.509002                2.0   \n49394                     drifting_gratings  5283.659572                2.0   \n49422                     drifting_gratings  5367.729842                2.0   \n\n                         x_position y_position  duration  \\\nstimulus_presentation_id                                   \n3798                           null       null   2.00165   \n3810                           null       null   2.00169   \n3828                           null       null   2.00170   \n3904                           null       null   2.00169   \n3983                           null       null   2.00168   \n31029                          null       null   2.00164   \n31115                          null       null   2.00169   \n31160                          null       null   2.00169   \n49225                          null       null   2.00169   \n49265                          null       null   2.00164   \n49303                          null       null   2.00164   \n49308                          null       null   2.00167   \n49334                          null       null   2.00167   \n49394                          null       null   2.00166   \n49422                          null       null   2.00167   \n\n                          stimulus_condition_id  \nstimulus_presentation_id                         \n3798                                        246  \n3810                                        246  \n3828                                        246  \n3904                                        246  \n3983                                        246  \n31029                                       246  \n31115                                       246  \n31160                                       246  \n49225                                       246  \n49265                                       246  \n49303                                       246  \n49308                                       246  \n49334                                       246  \n49394                                       246  \n49422                                       246  ",
      "text/html": "<div>\n<style scoped>\n    .dataframe tbody tr th:only-of-type {\n        vertical-align: middle;\n    }\n\n    .dataframe tbody tr th {\n        vertical-align: top;\n    }\n\n    .dataframe thead th {\n        text-align: right;\n    }\n</style>\n<table border=\"1\" class=\"dataframe\">\n  <thead>\n    <tr style=\"text-align: right;\">\n      <th></th>\n      <th>color</th>\n      <th>contrast</th>\n      <th>frame</th>\n      <th>orientation</th>\n      <th>phase</th>\n      <th>size</th>\n      <th>spatial_frequency</th>\n      <th>start_time</th>\n      <th>stimulus_block</th>\n      <th>stimulus_name</th>\n      <th>stop_time</th>\n      <th>temporal_frequency</th>\n      <th>x_position</th>\n      <th>y_position</th>\n      <th>duration</th>\n      <th>stimulus_condition_id</th>\n    </tr>\n    <tr>\n      <th>stimulus_presentation_id</th>\n      <th></th>\n      <th></th>\n      <th></th>\n      <th></th>\n      <th></th>\n      <th></th>\n      <th></th>\n      <th></th>\n      <th></th>\n      <th></th>\n      <th></th>\n      <th></th>\n      <th></th>\n      <th></th>\n      <th></th>\n      <th></th>\n    </tr>\n  </thead>\n  <tbody>\n    <tr>\n      <th>3798</th>\n      <td>null</td>\n      <td>0.8</td>\n      <td>null</td>\n      <td>135.0</td>\n      <td>[21235.93333333, 21235.93333333]</td>\n      <td>[250.0, 250.0]</td>\n      <td>0.04</td>\n      <td>1585.570019</td>\n      <td>2.0</td>\n      <td>drifting_gratings</td>\n      <td>1587.571669</td>\n      <td>2.0</td>\n      <td>null</td>\n      <td>null</td>\n      <td>2.00165</td>\n      <td>246</td>\n    </tr>\n    <tr>\n      <th>3810</th>\n      <td>null</td>\n      <td>0.8</td>\n      <td>null</td>\n      <td>135.0</td>\n      <td>[21235.93333333, 21235.93333333]</td>\n      <td>[250.0, 250.0]</td>\n      <td>0.04</td>\n      <td>1621.600109</td>\n      <td>2.0</td>\n      <td>drifting_gratings</td>\n      <td>1623.601799</td>\n      <td>2.0</td>\n      <td>null</td>\n      <td>null</td>\n      <td>2.00169</td>\n      <td>246</td>\n    </tr>\n    <tr>\n      <th>3828</th>\n      <td>null</td>\n      <td>0.8</td>\n      <td>null</td>\n      <td>135.0</td>\n      <td>[21235.93333333, 21235.93333333]</td>\n      <td>[250.0, 250.0]</td>\n      <td>0.04</td>\n      <td>1675.645229</td>\n      <td>2.0</td>\n      <td>drifting_gratings</td>\n      <td>1677.646929</td>\n      <td>2.0</td>\n      <td>null</td>\n      <td>null</td>\n      <td>2.00170</td>\n      <td>246</td>\n    </tr>\n    <tr>\n      <th>3904</th>\n      <td>null</td>\n      <td>0.8</td>\n      <td>null</td>\n      <td>135.0</td>\n      <td>[21235.93333333, 21235.93333333]</td>\n      <td>[250.0, 250.0]</td>\n      <td>0.04</td>\n      <td>1903.835839</td>\n      <td>2.0</td>\n      <td>drifting_gratings</td>\n      <td>1905.837529</td>\n      <td>2.0</td>\n      <td>null</td>\n      <td>null</td>\n      <td>2.00169</td>\n      <td>246</td>\n    </tr>\n    <tr>\n      <th>3983</th>\n      <td>null</td>\n      <td>0.8</td>\n      <td>null</td>\n      <td>135.0</td>\n      <td>[21235.93333333, 21235.93333333]</td>\n      <td>[250.0, 250.0]</td>\n      <td>0.04</td>\n      <td>2141.033992</td>\n      <td>2.0</td>\n      <td>drifting_gratings</td>\n      <td>2143.035672</td>\n      <td>2.0</td>\n      <td>null</td>\n      <td>null</td>\n      <td>2.00168</td>\n      <td>246</td>\n    </tr>\n    <tr>\n      <th>31029</th>\n      <td>null</td>\n      <td>0.8</td>\n      <td>null</td>\n      <td>135.0</td>\n      <td>[21235.93333333, 21235.93333333]</td>\n      <td>[250.0, 250.0]</td>\n      <td>0.04</td>\n      <td>3260.969519</td>\n      <td>5.0</td>\n      <td>drifting_gratings</td>\n      <td>3262.971159</td>\n      <td>2.0</td>\n      <td>null</td>\n      <td>null</td>\n      <td>2.00164</td>\n      <td>246</td>\n    </tr>\n    <tr>\n      <th>31115</th>\n      <td>null</td>\n      <td>0.8</td>\n      <td>null</td>\n      <td>135.0</td>\n      <td>[21235.93333333, 21235.93333333]</td>\n      <td>[250.0, 250.0]</td>\n      <td>0.04</td>\n      <td>3519.185179</td>\n      <td>5.0</td>\n      <td>drifting_gratings</td>\n      <td>3521.186869</td>\n      <td>2.0</td>\n      <td>null</td>\n      <td>null</td>\n      <td>2.00169</td>\n      <td>246</td>\n    </tr>\n    <tr>\n      <th>31160</th>\n      <td>null</td>\n      <td>0.8</td>\n      <td>null</td>\n      <td>135.0</td>\n      <td>[21235.93333333, 21235.93333333]</td>\n      <td>[250.0, 250.0]</td>\n      <td>0.04</td>\n      <td>3654.298062</td>\n      <td>5.0</td>\n      <td>drifting_gratings</td>\n      <td>3656.299752</td>\n      <td>2.0</td>\n      <td>null</td>\n      <td>null</td>\n      <td>2.00169</td>\n      <td>246</td>\n    </tr>\n    <tr>\n      <th>49225</th>\n      <td>null</td>\n      <td>0.8</td>\n      <td>null</td>\n      <td>135.0</td>\n      <td>[21235.93333333, 21235.93333333]</td>\n      <td>[250.0, 250.0]</td>\n      <td>0.04</td>\n      <td>4774.233789</td>\n      <td>7.0</td>\n      <td>drifting_gratings</td>\n      <td>4776.235479</td>\n      <td>2.0</td>\n      <td>null</td>\n      <td>null</td>\n      <td>2.00169</td>\n      <td>246</td>\n    </tr>\n    <tr>\n      <th>49265</th>\n      <td>null</td>\n      <td>0.8</td>\n      <td>null</td>\n      <td>135.0</td>\n      <td>[21235.93333333, 21235.93333333]</td>\n      <td>[250.0, 250.0]</td>\n      <td>0.04</td>\n      <td>4894.334209</td>\n      <td>7.0</td>\n      <td>drifting_gratings</td>\n      <td>4896.335849</td>\n      <td>2.0</td>\n      <td>null</td>\n      <td>null</td>\n      <td>2.00164</td>\n      <td>246</td>\n    </tr>\n    <tr>\n      <th>49303</th>\n      <td>null</td>\n      <td>0.8</td>\n      <td>null</td>\n      <td>135.0</td>\n      <td>[21235.93333333, 21235.93333333]</td>\n      <td>[250.0, 250.0]</td>\n      <td>0.04</td>\n      <td>5008.429559</td>\n      <td>7.0</td>\n      <td>drifting_gratings</td>\n      <td>5010.431199</td>\n      <td>2.0</td>\n      <td>null</td>\n      <td>null</td>\n      <td>2.00164</td>\n      <td>246</td>\n    </tr>\n    <tr>\n      <th>49308</th>\n      <td>null</td>\n      <td>0.8</td>\n      <td>null</td>\n      <td>135.0</td>\n      <td>[21235.93333333, 21235.93333333]</td>\n      <td>[250.0, 250.0]</td>\n      <td>0.04</td>\n      <td>5023.442082</td>\n      <td>7.0</td>\n      <td>drifting_gratings</td>\n      <td>5025.443752</td>\n      <td>2.0</td>\n      <td>null</td>\n      <td>null</td>\n      <td>2.00167</td>\n      <td>246</td>\n    </tr>\n    <tr>\n      <th>49334</th>\n      <td>null</td>\n      <td>0.8</td>\n      <td>null</td>\n      <td>135.0</td>\n      <td>[21235.93333333, 21235.93333333]</td>\n      <td>[250.0, 250.0]</td>\n      <td>0.04</td>\n      <td>5101.507332</td>\n      <td>7.0</td>\n      <td>drifting_gratings</td>\n      <td>5103.509002</td>\n      <td>2.0</td>\n      <td>null</td>\n      <td>null</td>\n      <td>2.00167</td>\n      <td>246</td>\n    </tr>\n    <tr>\n      <th>49394</th>\n      <td>null</td>\n      <td>0.8</td>\n      <td>null</td>\n      <td>135.0</td>\n      <td>[21235.93333333, 21235.93333333]</td>\n      <td>[250.0, 250.0]</td>\n      <td>0.04</td>\n      <td>5281.657912</td>\n      <td>7.0</td>\n      <td>drifting_gratings</td>\n      <td>5283.659572</td>\n      <td>2.0</td>\n      <td>null</td>\n      <td>null</td>\n      <td>2.00166</td>\n      <td>246</td>\n    </tr>\n    <tr>\n      <th>49422</th>\n      <td>null</td>\n      <td>0.8</td>\n      <td>null</td>\n      <td>135.0</td>\n      <td>[21235.93333333, 21235.93333333]</td>\n      <td>[250.0, 250.0]</td>\n      <td>0.04</td>\n      <td>5365.728172</td>\n      <td>7.0</td>\n      <td>drifting_gratings</td>\n      <td>5367.729842</td>\n      <td>2.0</td>\n      <td>null</td>\n      <td>null</td>\n      <td>2.00167</td>\n      <td>246</td>\n    </tr>\n  </tbody>\n</table>\n</div>"
     },
     "execution_count": 47,
     "metadata": {},
     "output_type": "execute_result"
    }
   ],
   "source": [
    "session.stimulus_presentations.loc[stim_idx, :]"
   ],
   "metadata": {
    "collapsed": false,
    "pycharm": {
     "name": "#%%\n"
    }
   }
  },
  {
   "cell_type": "code",
   "execution_count": 48,
   "outputs": [
    {
     "data": {
      "text/plain": "                           start_time  relative_time\nstimulus_presentation_id                            \n3798                      1585.570019       0.000000\n3810                      1621.600109       0.600501\n3828                      1675.645229       1.501253\n3904                      1903.835839       5.304430\n3983                      2141.033992       9.257733\n31029                     3260.969519      27.923325\n31115                     3519.185179      32.226919\n31160                     3654.298062      34.478801\n49225                     4774.233789      53.144396\n49265                     4894.334209      55.146070\n49303                     5008.429559      57.047659\n49308                     5023.442082      57.297868\n49334                     5101.507332      58.598955\n49394                     5281.657912      61.601465\n49422                     5365.728172      63.002636",
      "text/html": "<div>\n<style scoped>\n    .dataframe tbody tr th:only-of-type {\n        vertical-align: middle;\n    }\n\n    .dataframe tbody tr th {\n        vertical-align: top;\n    }\n\n    .dataframe thead th {\n        text-align: right;\n    }\n</style>\n<table border=\"1\" class=\"dataframe\">\n  <thead>\n    <tr style=\"text-align: right;\">\n      <th></th>\n      <th>start_time</th>\n      <th>relative_time</th>\n    </tr>\n    <tr>\n      <th>stimulus_presentation_id</th>\n      <th></th>\n      <th></th>\n    </tr>\n  </thead>\n  <tbody>\n    <tr>\n      <th>3798</th>\n      <td>1585.570019</td>\n      <td>0.000000</td>\n    </tr>\n    <tr>\n      <th>3810</th>\n      <td>1621.600109</td>\n      <td>0.600501</td>\n    </tr>\n    <tr>\n      <th>3828</th>\n      <td>1675.645229</td>\n      <td>1.501253</td>\n    </tr>\n    <tr>\n      <th>3904</th>\n      <td>1903.835839</td>\n      <td>5.304430</td>\n    </tr>\n    <tr>\n      <th>3983</th>\n      <td>2141.033992</td>\n      <td>9.257733</td>\n    </tr>\n    <tr>\n      <th>31029</th>\n      <td>3260.969519</td>\n      <td>27.923325</td>\n    </tr>\n    <tr>\n      <th>31115</th>\n      <td>3519.185179</td>\n      <td>32.226919</td>\n    </tr>\n    <tr>\n      <th>31160</th>\n      <td>3654.298062</td>\n      <td>34.478801</td>\n    </tr>\n    <tr>\n      <th>49225</th>\n      <td>4774.233789</td>\n      <td>53.144396</td>\n    </tr>\n    <tr>\n      <th>49265</th>\n      <td>4894.334209</td>\n      <td>55.146070</td>\n    </tr>\n    <tr>\n      <th>49303</th>\n      <td>5008.429559</td>\n      <td>57.047659</td>\n    </tr>\n    <tr>\n      <th>49308</th>\n      <td>5023.442082</td>\n      <td>57.297868</td>\n    </tr>\n    <tr>\n      <th>49334</th>\n      <td>5101.507332</td>\n      <td>58.598955</td>\n    </tr>\n    <tr>\n      <th>49394</th>\n      <td>5281.657912</td>\n      <td>61.601465</td>\n    </tr>\n    <tr>\n      <th>49422</th>\n      <td>5365.728172</td>\n      <td>63.002636</td>\n    </tr>\n  </tbody>\n</table>\n</div>"
     },
     "execution_count": 48,
     "metadata": {},
     "output_type": "execute_result"
    }
   ],
   "source": [
    "stim_times = session.stimulus_presentations.loc[stim_idx, [\"start_time\"]]\n",
    "stim_times[\"relative_time\"] = (stim_times[\"start_time\"] - stim_times[\"start_time\"].min()) / 60\n",
    "stim_times"
   ],
   "metadata": {
    "collapsed": false,
    "pycharm": {
     "name": "#%%\n"
    }
   }
  },
  {
   "cell_type": "markdown",
   "source": [
    "## 3. Spike counts and visualization"
   ],
   "metadata": {
    "collapsed": false,
    "pycharm": {
     "name": "#%% md\n"
    }
   }
  },
  {
   "cell_type": "code",
   "execution_count": 53,
   "outputs": [],
   "source": [
    "time_step = .001\n",
    "time_bins = np.arange(0, 0.5 + time_step, time_step)\n",
    "spike_cnts = session.presentationwise_spike_counts(\n",
    "    stimulus_presentation_ids=stim_idx,\n",
    "    unit_ids=roi_idx,\n",
    "    bin_edges=time_bins\n",
    ")\n",
    "cnts = spike_cnts.to_dataframe()"
   ],
   "metadata": {
    "collapsed": false,
    "pycharm": {
     "name": "#%%\n"
    }
   }
  },
  {
   "cell_type": "code",
   "execution_count": 54,
   "outputs": [
    {
     "data": {
      "text/plain": "                                                                    spike_counts\nstimulus_presentation_id time_relative_to_stimulus_onset unit_id                \n3798                     0.0005                          951877136             0\n                                                         951877272             0\n                                                         951877260             0\n                                                         951877312             0\n                                                         951877352             0\n...                                                                          ...\n49422                    0.4995                          951878626             0\n                                                         951878648             0\n                                                         951878821             0\n                                                         951878811             0\n                                                         951878911             0\n\n[322500 rows x 1 columns]",
      "text/html": "<div>\n<style scoped>\n    .dataframe tbody tr th:only-of-type {\n        vertical-align: middle;\n    }\n\n    .dataframe tbody tr th {\n        vertical-align: top;\n    }\n\n    .dataframe thead th {\n        text-align: right;\n    }\n</style>\n<table border=\"1\" class=\"dataframe\">\n  <thead>\n    <tr style=\"text-align: right;\">\n      <th></th>\n      <th></th>\n      <th></th>\n      <th>spike_counts</th>\n    </tr>\n    <tr>\n      <th>stimulus_presentation_id</th>\n      <th>time_relative_to_stimulus_onset</th>\n      <th>unit_id</th>\n      <th></th>\n    </tr>\n  </thead>\n  <tbody>\n    <tr>\n      <th rowspan=\"5\" valign=\"top\">3798</th>\n      <th rowspan=\"5\" valign=\"top\">0.0005</th>\n      <th>951877136</th>\n      <td>0</td>\n    </tr>\n    <tr>\n      <th>951877272</th>\n      <td>0</td>\n    </tr>\n    <tr>\n      <th>951877260</th>\n      <td>0</td>\n    </tr>\n    <tr>\n      <th>951877312</th>\n      <td>0</td>\n    </tr>\n    <tr>\n      <th>951877352</th>\n      <td>0</td>\n    </tr>\n    <tr>\n      <th>...</th>\n      <th>...</th>\n      <th>...</th>\n      <td>...</td>\n    </tr>\n    <tr>\n      <th rowspan=\"5\" valign=\"top\">49422</th>\n      <th rowspan=\"5\" valign=\"top\">0.4995</th>\n      <th>951878626</th>\n      <td>0</td>\n    </tr>\n    <tr>\n      <th>951878648</th>\n      <td>0</td>\n    </tr>\n    <tr>\n      <th>951878821</th>\n      <td>0</td>\n    </tr>\n    <tr>\n      <th>951878811</th>\n      <td>0</td>\n    </tr>\n    <tr>\n      <th>951878911</th>\n      <td>0</td>\n    </tr>\n  </tbody>\n</table>\n<p>322500 rows × 1 columns</p>\n</div>"
     },
     "execution_count": 54,
     "metadata": {},
     "output_type": "execute_result"
    }
   ],
   "source": [
    "cnts"
   ],
   "metadata": {
    "collapsed": false,
    "pycharm": {
     "name": "#%%\n"
    }
   }
  },
  {
   "cell_type": "code",
   "execution_count": 49,
   "outputs": [],
   "source": [
    "time_step = .03\n",
    "time_bins = np.arange(-0.1, 0.5 + time_step, time_step)"
   ],
   "metadata": {
    "collapsed": false,
    "pycharm": {
     "name": "#%%\n"
    }
   }
  },
  {
   "cell_type": "code",
   "execution_count": 58,
   "outputs": [],
   "source": [
    "spike_cnts = session.presentationwise_spike_counts(\n",
    "    stimulus_presentation_ids=stim_idx,  \n",
    "    unit_ids=roi_idx,\n",
    "    bin_edges=time_bins\n",
    ")\n",
    "cnts = spike_cnts.to_dataframe()\n",
    "cols = [\"start_time\", \"stop_time\", \"stimulus_block\", \"orientation\", \"temporal_frequency\", \"stimulus_name\", \"stimulus_condition_id\"]\n",
    "all_spikes = pd.merge(cnts, session.stimulus_presentations[cols], left_on=\"stimulus_presentation_id\", right_index=True)\n",
    "\n",
    "grp_cols = [\"stimulus_presentation_id\", \"unit_id\"] + cols\n",
    "spikes_grpd = all_spikes.groupby(grp_cols, as_index=False)[\"spike_counts\"].sum()"
   ],
   "metadata": {
    "collapsed": false,
    "pycharm": {
     "name": "#%%\n"
    }
   }
  },
  {
   "cell_type": "code",
   "execution_count": 59,
   "outputs": [
    {
     "data": {
      "text/plain": "      start_time    stop_time  stimulus_block  orientation  \\\n0    1585.570019  1587.571669             2.0        135.0   \n1    1585.570019  1587.571669             2.0        135.0   \n2    1585.570019  1587.571669             2.0        135.0   \n3    1585.570019  1587.571669             2.0        135.0   \n4    1585.570019  1587.571669             2.0        135.0   \n..           ...          ...             ...          ...   \n640  5365.728172  5367.729842             7.0        135.0   \n641  5365.728172  5367.729842             7.0        135.0   \n642  5365.728172  5367.729842             7.0        135.0   \n643  5365.728172  5367.729842             7.0        135.0   \n644  5365.728172  5367.729842             7.0        135.0   \n\n     temporal_frequency      stimulus_name  stimulus_condition_id  \\\n0                   2.0  drifting_gratings                    246   \n1                   2.0  drifting_gratings                    246   \n2                   2.0  drifting_gratings                    246   \n3                   2.0  drifting_gratings                    246   \n4                   2.0  drifting_gratings                    246   \n..                  ...                ...                    ...   \n640                 2.0  drifting_gratings                    246   \n641                 2.0  drifting_gratings                    246   \n642                 2.0  drifting_gratings                    246   \n643                 2.0  drifting_gratings                    246   \n644                 2.0  drifting_gratings                    246   \n\n     spike_counts  \n0              18  \n1              16  \n2               8  \n3               0  \n4              11  \n..            ...  \n640            10  \n641             1  \n642             0  \n643             0  \n644             2  \n\n[645 rows x 8 columns]",
      "text/html": "<div>\n<style scoped>\n    .dataframe tbody tr th:only-of-type {\n        vertical-align: middle;\n    }\n\n    .dataframe tbody tr th {\n        vertical-align: top;\n    }\n\n    .dataframe thead th {\n        text-align: right;\n    }\n</style>\n<table border=\"1\" class=\"dataframe\">\n  <thead>\n    <tr style=\"text-align: right;\">\n      <th></th>\n      <th>start_time</th>\n      <th>stop_time</th>\n      <th>stimulus_block</th>\n      <th>orientation</th>\n      <th>temporal_frequency</th>\n      <th>stimulus_name</th>\n      <th>stimulus_condition_id</th>\n      <th>spike_counts</th>\n    </tr>\n  </thead>\n  <tbody>\n    <tr>\n      <th>0</th>\n      <td>1585.570019</td>\n      <td>1587.571669</td>\n      <td>2.0</td>\n      <td>135.0</td>\n      <td>2.0</td>\n      <td>drifting_gratings</td>\n      <td>246</td>\n      <td>18</td>\n    </tr>\n    <tr>\n      <th>1</th>\n      <td>1585.570019</td>\n      <td>1587.571669</td>\n      <td>2.0</td>\n      <td>135.0</td>\n      <td>2.0</td>\n      <td>drifting_gratings</td>\n      <td>246</td>\n      <td>16</td>\n    </tr>\n    <tr>\n      <th>2</th>\n      <td>1585.570019</td>\n      <td>1587.571669</td>\n      <td>2.0</td>\n      <td>135.0</td>\n      <td>2.0</td>\n      <td>drifting_gratings</td>\n      <td>246</td>\n      <td>8</td>\n    </tr>\n    <tr>\n      <th>3</th>\n      <td>1585.570019</td>\n      <td>1587.571669</td>\n      <td>2.0</td>\n      <td>135.0</td>\n      <td>2.0</td>\n      <td>drifting_gratings</td>\n      <td>246</td>\n      <td>0</td>\n    </tr>\n    <tr>\n      <th>4</th>\n      <td>1585.570019</td>\n      <td>1587.571669</td>\n      <td>2.0</td>\n      <td>135.0</td>\n      <td>2.0</td>\n      <td>drifting_gratings</td>\n      <td>246</td>\n      <td>11</td>\n    </tr>\n    <tr>\n      <th>...</th>\n      <td>...</td>\n      <td>...</td>\n      <td>...</td>\n      <td>...</td>\n      <td>...</td>\n      <td>...</td>\n      <td>...</td>\n      <td>...</td>\n    </tr>\n    <tr>\n      <th>640</th>\n      <td>5365.728172</td>\n      <td>5367.729842</td>\n      <td>7.0</td>\n      <td>135.0</td>\n      <td>2.0</td>\n      <td>drifting_gratings</td>\n      <td>246</td>\n      <td>10</td>\n    </tr>\n    <tr>\n      <th>641</th>\n      <td>5365.728172</td>\n      <td>5367.729842</td>\n      <td>7.0</td>\n      <td>135.0</td>\n      <td>2.0</td>\n      <td>drifting_gratings</td>\n      <td>246</td>\n      <td>1</td>\n    </tr>\n    <tr>\n      <th>642</th>\n      <td>5365.728172</td>\n      <td>5367.729842</td>\n      <td>7.0</td>\n      <td>135.0</td>\n      <td>2.0</td>\n      <td>drifting_gratings</td>\n      <td>246</td>\n      <td>0</td>\n    </tr>\n    <tr>\n      <th>643</th>\n      <td>5365.728172</td>\n      <td>5367.729842</td>\n      <td>7.0</td>\n      <td>135.0</td>\n      <td>2.0</td>\n      <td>drifting_gratings</td>\n      <td>246</td>\n      <td>0</td>\n    </tr>\n    <tr>\n      <th>644</th>\n      <td>5365.728172</td>\n      <td>5367.729842</td>\n      <td>7.0</td>\n      <td>135.0</td>\n      <td>2.0</td>\n      <td>drifting_gratings</td>\n      <td>246</td>\n      <td>2</td>\n    </tr>\n  </tbody>\n</table>\n<p>645 rows × 8 columns</p>\n</div>"
     },
     "execution_count": 59,
     "metadata": {},
     "output_type": "execute_result"
    }
   ],
   "source": [
    "spikes_grpd"
   ],
   "metadata": {
    "collapsed": false,
    "pycharm": {
     "name": "#%%\n"
    }
   }
  },
  {
   "cell_type": "code",
   "execution_count": 51,
   "outputs": [],
   "source": [
    "cnts.reset_index(inplace=True)"
   ],
   "metadata": {
    "collapsed": false,
    "pycharm": {
     "name": "#%%\n"
    }
   }
  },
  {
   "cell_type": "code",
   "execution_count": 52,
   "outputs": [
    {
     "data": {
      "text/plain": "       stimulus_presentation_id  time_relative_to_stimulus_onset    unit_id  \\\n0                          3798                           -0.085  951877136   \n1                          3798                           -0.085  951877272   \n2                          3798                           -0.085  951877260   \n3                          3798                           -0.085  951877312   \n4                          3798                           -0.085  951877352   \n...                         ...                              ...        ...   \n12895                     49422                            0.485  951878626   \n12896                     49422                            0.485  951878648   \n12897                     49422                            0.485  951878821   \n12898                     49422                            0.485  951878811   \n12899                     49422                            0.485  951878911   \n\n       spike_counts  \n0                 0  \n1                 0  \n2                 0  \n3                 0  \n4                 0  \n...             ...  \n12895             0  \n12896             1  \n12897             0  \n12898             0  \n12899             0  \n\n[12900 rows x 4 columns]",
      "text/html": "<div>\n<style scoped>\n    .dataframe tbody tr th:only-of-type {\n        vertical-align: middle;\n    }\n\n    .dataframe tbody tr th {\n        vertical-align: top;\n    }\n\n    .dataframe thead th {\n        text-align: right;\n    }\n</style>\n<table border=\"1\" class=\"dataframe\">\n  <thead>\n    <tr style=\"text-align: right;\">\n      <th></th>\n      <th>stimulus_presentation_id</th>\n      <th>time_relative_to_stimulus_onset</th>\n      <th>unit_id</th>\n      <th>spike_counts</th>\n    </tr>\n  </thead>\n  <tbody>\n    <tr>\n      <th>0</th>\n      <td>3798</td>\n      <td>-0.085</td>\n      <td>951877136</td>\n      <td>0</td>\n    </tr>\n    <tr>\n      <th>1</th>\n      <td>3798</td>\n      <td>-0.085</td>\n      <td>951877272</td>\n      <td>0</td>\n    </tr>\n    <tr>\n      <th>2</th>\n      <td>3798</td>\n      <td>-0.085</td>\n      <td>951877260</td>\n      <td>0</td>\n    </tr>\n    <tr>\n      <th>3</th>\n      <td>3798</td>\n      <td>-0.085</td>\n      <td>951877312</td>\n      <td>0</td>\n    </tr>\n    <tr>\n      <th>4</th>\n      <td>3798</td>\n      <td>-0.085</td>\n      <td>951877352</td>\n      <td>0</td>\n    </tr>\n    <tr>\n      <th>...</th>\n      <td>...</td>\n      <td>...</td>\n      <td>...</td>\n      <td>...</td>\n    </tr>\n    <tr>\n      <th>12895</th>\n      <td>49422</td>\n      <td>0.485</td>\n      <td>951878626</td>\n      <td>0</td>\n    </tr>\n    <tr>\n      <th>12896</th>\n      <td>49422</td>\n      <td>0.485</td>\n      <td>951878648</td>\n      <td>1</td>\n    </tr>\n    <tr>\n      <th>12897</th>\n      <td>49422</td>\n      <td>0.485</td>\n      <td>951878821</td>\n      <td>0</td>\n    </tr>\n    <tr>\n      <th>12898</th>\n      <td>49422</td>\n      <td>0.485</td>\n      <td>951878811</td>\n      <td>0</td>\n    </tr>\n    <tr>\n      <th>12899</th>\n      <td>49422</td>\n      <td>0.485</td>\n      <td>951878911</td>\n      <td>0</td>\n    </tr>\n  </tbody>\n</table>\n<p>12900 rows × 4 columns</p>\n</div>"
     },
     "execution_count": 52,
     "metadata": {},
     "output_type": "execute_result"
    }
   ],
   "source": [
    "cnts"
   ],
   "metadata": {
    "collapsed": false,
    "pycharm": {
     "name": "#%%\n"
    }
   }
  },
  {
   "cell_type": "code",
   "execution_count": null,
   "outputs": [],
   "source": [
    "mean_histograms = spike_cnts.mean(dim=\"stimulus_presentation_id\")\n",
    "\n",
    "fig, ax = plt.subplots(figsize=(8, 8))\n",
    "ax.pcolormesh(\n",
    "    mean_histograms[\"time_relative_to_stimulus_onset\"], \n",
    "    np.arange(mean_histograms[\"unit_id\"].size),\n",
    "    mean_histograms.T, \n",
    "    vmin=0,\n",
    "    vmax=1\n",
    ")\n",
    "\n",
    "ax.set_ylabel(\"unit\", fontsize=24)\n",
    "ax.set_xlabel(\"time relative to stimulus onset (s)\", fontsize=18)\n",
    "ax.set_title(\"peristimulus time histograms for VISp units on Drifting Grating presentations\", fontsize=18)\n",
    "\n",
    "plt.show()"
   ],
   "metadata": {
    "collapsed": false,
    "pycharm": {
     "name": "#%%\n"
    }
   }
  },
  {
   "cell_type": "code",
   "execution_count": null,
   "outputs": [],
   "source": [
    "spikes = session.conditionwise_spike_statistics(\n",
    "    stimulus_presentation_ids=stim_idx,\n",
    "    unit_ids=roi_idx\n",
    ")\n",
    "\n",
    "spikes"
   ],
   "metadata": {
    "collapsed": false,
    "pycharm": {
     "name": "#%%\n"
    }
   }
  },
  {
   "cell_type": "code",
   "execution_count": null,
   "outputs": [],
   "source": [
    "spikes = session.conditionwise_spike_statistics(\n",
    "    stimulus_presentation_ids=stim_idx,\n",
    "    unit_ids=roi_idx\n",
    ")\n",
    "\n",
    "# display the parameters associated with each condition\n",
    "spikes = pd.merge(spikes, session.stimulus_conditions, left_on=\"stimulus_condition_id\", right_index=True)\n",
    "\n",
    "spikes.head()"
   ],
   "metadata": {
    "collapsed": false,
    "pycharm": {
     "name": "#%%\n"
    }
   }
  },
  {
   "cell_type": "code",
   "execution_count": null,
   "outputs": [],
   "source": [
    "all_spikes = session.presentationwise_spike_times(\n",
    "    stimulus_presentation_ids=stim_idx,  \n",
    "    unit_ids=roi_idx,\n",
    ")\n",
    "cols = [\"start_time\", \"stop_time\", \"stimulus_block\", \"orientation\", \"temporal_frequency\", \"stimulus_name\", \"stimulus_condition_id\"]\n",
    "all_spikes = pd.merge(all_spikes, session.stimulus_presentations[cols], left_on=\"stimulus_presentation_id\", right_index=True)"
   ],
   "metadata": {
    "collapsed": false,
    "pycharm": {
     "name": "#%%\n"
    }
   }
  },
  {
   "cell_type": "code",
   "execution_count": null,
   "outputs": [],
   "source": [
    "all_spikes"
   ],
   "metadata": {
    "collapsed": false,
    "pycharm": {
     "name": "#%%\n"
    }
   }
  },
  {
   "cell_type": "code",
   "execution_count": null,
   "outputs": [],
   "source": [
    "all_spikes.reset_index(inplace=True)"
   ],
   "metadata": {
    "collapsed": false,
    "pycharm": {
     "name": "#%%\n"
    }
   }
  },
  {
   "cell_type": "code",
   "execution_count": null,
   "outputs": [],
   "source": [
    "# Limit number of spikes to 0.5s after stimulus presentation\n",
    "all_spikes = all_spikes[all_spikes.time_since_stimulus_presentation_onset < 0.5]"
   ],
   "metadata": {
    "collapsed": false,
    "pycharm": {
     "name": "#%%\n"
    }
   }
  },
  {
   "cell_type": "code",
   "execution_count": null,
   "outputs": [],
   "source": [
    "all_spikes"
   ],
   "metadata": {
    "collapsed": false,
    "pycharm": {
     "name": "#%%\n"
    }
   }
  },
  {
   "cell_type": "code",
   "execution_count": null,
   "outputs": [],
   "source": [
    "# Count the number of spikes for each stimulus presentation during the 0.5s\n",
    "grp_cols = [\"stimulus_presentation_id\", \"unit_id\"] + cols\n",
    "spikes_grpd = all_spikes.groupby(grp_cols, as_index=False)[\"spike_time\"].count()\n",
    "\n",
    "# Add the time in minutes to know how far stimuli have been presented\n",
    "for pres in spikes_grpd.stimulus_presentation_id.unique():\n",
    "    spikes_grpd.loc[spikes_grpd.stimulus_presentation_id == pres, \"relative_time\"] = stim_times.loc[pres, \"relative_time\"]\n",
    "\n",
    "# Rename    \n",
    "spikes_grpd.rename(columns={\"spike_time\": \"spike_count\"}, inplace=True)\n",
    "spikes_grpd.head()"
   ],
   "metadata": {
    "collapsed": false,
    "pycharm": {
     "name": "#%%\n"
    }
   }
  },
  {
   "cell_type": "markdown",
   "source": [
    "<mark> Some of the units are lost when thresholding to 0.5s after stimulus onset, some do not spike at all for a given presentation! The numbers below don't match the total number of units (43) x number of presentations (15)</mark>"
   ],
   "metadata": {
    "collapsed": false,
    "pycharm": {
     "name": "#%% md\n"
    }
   }
  },
  {
   "cell_type": "code",
   "execution_count": null,
   "outputs": [],
   "source": [
    "len(spikes_grpd)"
   ],
   "metadata": {
    "collapsed": false,
    "pycharm": {
     "name": "#%%\n"
    }
   }
  },
  {
   "cell_type": "code",
   "execution_count": null,
   "outputs": [],
   "source": [
    "all_spikes.loc[all_spikes.stimulus_presentation_id == 3798, \"unit_id\"].unique().shape"
   ],
   "metadata": {
    "collapsed": false,
    "pycharm": {
     "name": "#%%\n"
    }
   }
  },
  {
   "cell_type": "code",
   "execution_count": null,
   "outputs": [],
   "source": [
    "# Sanity check plots\n",
    "p = plt.hist(spikes_grpd[\"spike_count\"], len(time_bins))"
   ],
   "metadata": {
    "collapsed": false,
    "pycharm": {
     "name": "#%%\n"
    }
   }
  },
  {
   "cell_type": "code",
   "execution_count": null,
   "outputs": [],
   "source": [
    "fig, ax = plt.subplots(figsize=(20, 7))\n",
    "spikes_grpd[\"t_round\"] = np.around(spikes_grpd[\"relative_time\"], 1)\n",
    "plot = sns.barplot(x='t_round', y='spike_count', hue='unit_id', ax=ax, data=spikes_grpd)\n",
    "# plot.set_xticklabels(np.arange(1, len(spikes_grpd.unit_id.unique()) + 1))\n",
    "plot.legend_.remove()"
   ],
   "metadata": {
    "collapsed": false,
    "pycharm": {
     "name": "#%%\n"
    }
   }
  },
  {
   "cell_type": "code",
   "execution_count": null,
   "outputs": [],
   "source": [
    "# Check suspicious units' snr\n",
    "suspicious = spikes_grpd[spikes_grpd.spike_count > 60][\"unit_id\"].to_numpy()\n",
    "for sus in np.unique(suspicious):\n",
    "    snr = session.units.loc[sus, \"snr\"]\n",
    "    print(f\"Unit {sus}: {snr}\")"
   ],
   "metadata": {
    "collapsed": false,
    "pycharm": {
     "name": "#%%\n"
    }
   }
  },
  {
   "cell_type": "code",
   "execution_count": null,
   "outputs": [],
   "source": [
    "fig, ax = plt.subplots(figsize=(20, 7))\n",
    "plot = sns.barplot(x='unit_id', y='spike_count', hue='stimulus_presentation_id', ax=ax, data=spikes_grpd)\n",
    "plot.set_xticklabels(np.arange(1, len(spikes_grpd.unit_id.unique()) + 1))\n",
    "plot.legend_.remove()"
   ],
   "metadata": {
    "collapsed": false,
    "pycharm": {
     "name": "#%%\n"
    }
   }
  },
  {
   "cell_type": "code",
   "execution_count": null,
   "outputs": [],
   "source": [
    "# This is the final spike counts for this stimulus and this region\n",
    "df = spikes_grpd.copy()\n",
    "df[\"roi\"] = roi\n",
    "df"
   ],
   "metadata": {
    "collapsed": false,
    "pycharm": {
     "name": "#%%\n"
    }
   }
  },
  {
   "cell_type": "markdown",
   "source": [
    "## 4. Running speed "
   ],
   "metadata": {
    "collapsed": false,
    "pycharm": {
     "name": "#%% md\n"
    }
   }
  },
  {
   "cell_type": "code",
   "execution_count": null,
   "outputs": [],
   "source": [
    "run = session.running_speed.copy()\n",
    "run.head()"
   ],
   "metadata": {
    "collapsed": false,
    "pycharm": {
     "name": "#%%\n"
    }
   }
  },
  {
   "cell_type": "code",
   "execution_count": null,
   "outputs": [],
   "source": [
    "# Velocities can be negative\n",
    "run[\"speed\"] = abs(run[\"velocity\"])\n",
    "start = 500\n",
    "run.loc[(run[\"start_time\"] > start) & (run[\"start_time\"] < start + 0.5), [\"speed\"]].describe()"
   ],
   "metadata": {
    "collapsed": false,
    "pycharm": {
     "name": "#%%\n"
    }
   }
  },
  {
   "cell_type": "code",
   "execution_count": null,
   "outputs": [],
   "source": [
    "# based on the descriptive stats it's better to use a median of running speeds\n",
    "for idx in stim_idx:\n",
    "    start = df.loc[df.stimulus_presentation_id == idx, \"start_time\"].mean()\n",
    "    median_speed = run.loc[(run[\"start_time\"] > start) & (run[\"end_time\"] < start + 0.5), \"speed\"].median()\n",
    "    mean_speed = run.loc[(run[\"start_time\"] > start) & (run[\"end_time\"] < start + 0.5), \"speed\"].mean()\n",
    "    \n",
    "    df.loc[df.stimulus_presentation_id == idx, \"median_speed\"] = median_speed\n",
    "    df.loc[df.stimulus_presentation_id == idx, \"mean_speed\"] = mean_speed"
   ],
   "metadata": {
    "collapsed": false,
    "pycharm": {
     "name": "#%%\n"
    }
   }
  },
  {
   "cell_type": "code",
   "execution_count": null,
   "outputs": [],
   "source": [
    "df.head()"
   ],
   "metadata": {
    "collapsed": false,
    "pycharm": {
     "name": "#%%\n"
    }
   }
  },
  {
   "cell_type": "markdown",
   "source": [
    "## 5. Pupil diameter"
   ],
   "metadata": {
    "collapsed": false,
    "pycharm": {
     "name": "#%% md\n"
    }
   }
  },
  {
   "cell_type": "code",
   "execution_count": null,
   "outputs": [],
   "source": [
    "pupil = session.get_screen_gaze_data()[[\"raw_pupil_area\"]]\n",
    "pupil.head(10)"
   ],
   "metadata": {
    "collapsed": false,
    "pycharm": {
     "name": "#%%\n"
    }
   }
  },
  {
   "cell_type": "code",
   "execution_count": null,
   "outputs": [],
   "source": [
    "# get average pupil area\n",
    "for idx in stim_idx:\n",
    "    start = df.loc[df.stimulus_presentation_id == idx, \"start_time\"].mean()\n",
    "    stop = start + 0.5\n",
    "    area = pupil.loc[(pupil.index > start) & (pupil.index < stop), \"raw_pupil_area\"].mean()\n",
    "    df.loc[df.stimulus_presentation_id == idx, \"pupil_area\"] = area"
   ],
   "metadata": {
    "collapsed": false,
    "pycharm": {
     "name": "#%%\n"
    }
   }
  },
  {
   "cell_type": "code",
   "execution_count": null,
   "outputs": [],
   "source": [
    "df.head()"
   ],
   "metadata": {
    "collapsed": false,
    "pycharm": {
     "name": "#%%\n"
    }
   }
  },
  {
   "cell_type": "markdown",
   "source": [
    "## 6. Plot behavioral and neural data"
   ],
   "metadata": {
    "collapsed": false,
    "pycharm": {
     "name": "#%% md\n"
    }
   }
  },
  {
   "cell_type": "code",
   "execution_count": null,
   "outputs": [],
   "source": [
    "# Making a matrix of unit x presentation to plot on a heatmap\n",
    "# the issue here is that some of the units have no spike counts for some presentations\n",
    "# so I have to find those and put 0 value for them\n",
    "\n",
    "# TODO: IT'S BETTER TO DO THIS IN THE ORIGINAL DATAFRAME\n",
    "\n",
    "units = df.unit_id.unique()\n",
    "pres = df.stimulus_presentation_id.unique()\n",
    "\n",
    "for u, unit in enumerate(units):\n",
    "    df.loc[df.unit_id == unit, \"unit_num\"] = u + 1\n",
    "    \n",
    "for p, pre in enumerate(pres):\n",
    "    df.loc[df.stimulus_presentation_id == pre, \"present_num\"] = p + 1\n",
    "\n",
    "data = np.zeros((units.shape[0], pres.shape[0]))\n",
    "\n",
    "for unit in df.unit_num.unique():\n",
    "    for pres in df.present_num.unique():\n",
    "        try:\n",
    "            data[int(unit - 1), int(pres - 1)] = df.loc[(df.unit_num == unit) & (df.present_num == pres), \"spike_count\"].values[0]\n",
    "        except IndexError:\n",
    "            pass"
   ],
   "metadata": {
    "collapsed": false,
    "pycharm": {
     "name": "#%%\n"
    }
   }
  },
  {
   "cell_type": "code",
   "execution_count": null,
   "outputs": [],
   "source": [
    "fig = plt.figure(figsize=(16, 8), constrained_layout=True)\n",
    "gs = GridSpec(2, 2, figure=fig)\n",
    "fig.suptitle(f\"Presentations of Drifting Grating #{stim_id}\", fontsize=28)\n",
    "\n",
    "ax1 = fig.add_subplot(gs[:, 0])\n",
    "ax2 = fig.add_subplot(gs[0, 1])\n",
    "ax3 = fig.add_subplot(gs[1, 1])\n",
    "\n",
    "# Plot spike counts\n",
    "plot = sns.heatmap(data, ax=ax1, center=20, cmap=\"YlGnBu\")\n",
    "plot.set(\n",
    "    title=f\"Spike counts in {roi}\",\n",
    "    xlabel='Presentation',\n",
    "    ylabel=\"Unit\"\n",
    ")\n",
    "\n",
    "# Plot pupil diameter\n",
    "plot = sns.lineplot(x='present_num', y=\"pupil_area\", color='red', ax=ax2, data=df)\n",
    "plot.set_title(f\"Pupil area\")\n",
    "\n",
    "\n",
    "# Plot running speed\n",
    "plot = sns.lineplot(x='present_num', y=\"mean_speed\", ax=ax3, data=df)\n",
    "plot.set_title(f\"Running speed\")"
   ],
   "metadata": {
    "collapsed": false,
    "pycharm": {
     "name": "#%%\n"
    }
   }
  },
  {
   "cell_type": "markdown",
   "source": [
    "# Natural Movie"
   ],
   "metadata": {
    "collapsed": false,
    "pycharm": {
     "name": "#%% md\n"
    }
   }
  },
  {
   "cell_type": "markdown",
   "source": [
    "Let's try all the above steps for a natural movie too. For the movies, there has to be time-binning and counting of spikes in a bin. It's not that different from counting spikes after single stimulus presentation."
   ],
   "metadata": {
    "collapsed": false,
    "pycharm": {
     "name": "#%% md\n"
    }
   }
  },
  {
   "cell_type": "code",
   "execution_count": 24,
   "outputs": [],
   "source": [
    "total_dur = 30"
   ],
   "metadata": {
    "collapsed": false,
    "pycharm": {
     "name": "#%%\n"
    }
   }
  },
  {
   "cell_type": "code",
   "execution_count": 25,
   "outputs": [
    {
     "data": {
      "text/plain": "                      color contrast  frame  mask opacity orientation phase  \\\nstimulus_condition_id                                                         \n3887                   null      1.0    0.0  null     1.0         0.0  null   \n3888                   null      1.0    1.0  null     1.0         0.0  null   \n3889                   null      1.0    2.0  null     1.0         0.0  null   \n3890                   null      1.0    3.0  null     1.0         0.0  null   \n3891                   null      1.0    4.0  null     1.0         0.0  null   \n...                     ...      ...    ...   ...     ...         ...   ...   \n4782                   null      1.0  895.0  null     1.0         0.0  null   \n4783                   null      1.0  896.0  null     1.0         0.0  null   \n4784                   null      1.0  897.0  null     1.0         0.0  null   \n4785                   null      1.0  898.0  null     1.0         0.0  null   \n4786                   null      1.0  899.0  null     1.0         0.0  null   \n\n                                   size spatial_frequency      stimulus_name  \\\nstimulus_condition_id                                                          \n3887                   [1920.0, 1080.0]              null  natural_movie_one   \n3888                   [1920.0, 1080.0]              null  natural_movie_one   \n3889                   [1920.0, 1080.0]              null  natural_movie_one   \n3890                   [1920.0, 1080.0]              null  natural_movie_one   \n3891                   [1920.0, 1080.0]              null  natural_movie_one   \n...                                 ...               ...                ...   \n4782                   [1920.0, 1080.0]              null  natural_movie_one   \n4783                   [1920.0, 1080.0]              null  natural_movie_one   \n4784                   [1920.0, 1080.0]              null  natural_movie_one   \n4785                   [1920.0, 1080.0]              null  natural_movie_one   \n4786                   [1920.0, 1080.0]              null  natural_movie_one   \n\n                      temporal_frequency units x_position y_position  \\\nstimulus_condition_id                                                  \n3887                                null   pix       null       null   \n3888                                null   pix       null       null   \n3889                                null   pix       null       null   \n3890                                null   pix       null       null   \n3891                                null   pix       null       null   \n...                                  ...   ...        ...        ...   \n4782                                null   pix       null       null   \n4783                                null   pix       null       null   \n4784                                null   pix       null       null   \n4785                                null   pix       null       null   \n4786                                null   pix       null       null   \n\n                         color_triplet  \nstimulus_condition_id                   \n3887                   [1.0, 1.0, 1.0]  \n3888                   [1.0, 1.0, 1.0]  \n3889                   [1.0, 1.0, 1.0]  \n3890                   [1.0, 1.0, 1.0]  \n3891                   [1.0, 1.0, 1.0]  \n...                                ...  \n4782                   [1.0, 1.0, 1.0]  \n4783                   [1.0, 1.0, 1.0]  \n4784                   [1.0, 1.0, 1.0]  \n4785                   [1.0, 1.0, 1.0]  \n4786                   [1.0, 1.0, 1.0]  \n\n[900 rows x 15 columns]",
      "text/html": "<div>\n<style scoped>\n    .dataframe tbody tr th:only-of-type {\n        vertical-align: middle;\n    }\n\n    .dataframe tbody tr th {\n        vertical-align: top;\n    }\n\n    .dataframe thead th {\n        text-align: right;\n    }\n</style>\n<table border=\"1\" class=\"dataframe\">\n  <thead>\n    <tr style=\"text-align: right;\">\n      <th></th>\n      <th>color</th>\n      <th>contrast</th>\n      <th>frame</th>\n      <th>mask</th>\n      <th>opacity</th>\n      <th>orientation</th>\n      <th>phase</th>\n      <th>size</th>\n      <th>spatial_frequency</th>\n      <th>stimulus_name</th>\n      <th>temporal_frequency</th>\n      <th>units</th>\n      <th>x_position</th>\n      <th>y_position</th>\n      <th>color_triplet</th>\n    </tr>\n    <tr>\n      <th>stimulus_condition_id</th>\n      <th></th>\n      <th></th>\n      <th></th>\n      <th></th>\n      <th></th>\n      <th></th>\n      <th></th>\n      <th></th>\n      <th></th>\n      <th></th>\n      <th></th>\n      <th></th>\n      <th></th>\n      <th></th>\n      <th></th>\n    </tr>\n  </thead>\n  <tbody>\n    <tr>\n      <th>3887</th>\n      <td>null</td>\n      <td>1.0</td>\n      <td>0.0</td>\n      <td>null</td>\n      <td>1.0</td>\n      <td>0.0</td>\n      <td>null</td>\n      <td>[1920.0, 1080.0]</td>\n      <td>null</td>\n      <td>natural_movie_one</td>\n      <td>null</td>\n      <td>pix</td>\n      <td>null</td>\n      <td>null</td>\n      <td>[1.0, 1.0, 1.0]</td>\n    </tr>\n    <tr>\n      <th>3888</th>\n      <td>null</td>\n      <td>1.0</td>\n      <td>1.0</td>\n      <td>null</td>\n      <td>1.0</td>\n      <td>0.0</td>\n      <td>null</td>\n      <td>[1920.0, 1080.0]</td>\n      <td>null</td>\n      <td>natural_movie_one</td>\n      <td>null</td>\n      <td>pix</td>\n      <td>null</td>\n      <td>null</td>\n      <td>[1.0, 1.0, 1.0]</td>\n    </tr>\n    <tr>\n      <th>3889</th>\n      <td>null</td>\n      <td>1.0</td>\n      <td>2.0</td>\n      <td>null</td>\n      <td>1.0</td>\n      <td>0.0</td>\n      <td>null</td>\n      <td>[1920.0, 1080.0]</td>\n      <td>null</td>\n      <td>natural_movie_one</td>\n      <td>null</td>\n      <td>pix</td>\n      <td>null</td>\n      <td>null</td>\n      <td>[1.0, 1.0, 1.0]</td>\n    </tr>\n    <tr>\n      <th>3890</th>\n      <td>null</td>\n      <td>1.0</td>\n      <td>3.0</td>\n      <td>null</td>\n      <td>1.0</td>\n      <td>0.0</td>\n      <td>null</td>\n      <td>[1920.0, 1080.0]</td>\n      <td>null</td>\n      <td>natural_movie_one</td>\n      <td>null</td>\n      <td>pix</td>\n      <td>null</td>\n      <td>null</td>\n      <td>[1.0, 1.0, 1.0]</td>\n    </tr>\n    <tr>\n      <th>3891</th>\n      <td>null</td>\n      <td>1.0</td>\n      <td>4.0</td>\n      <td>null</td>\n      <td>1.0</td>\n      <td>0.0</td>\n      <td>null</td>\n      <td>[1920.0, 1080.0]</td>\n      <td>null</td>\n      <td>natural_movie_one</td>\n      <td>null</td>\n      <td>pix</td>\n      <td>null</td>\n      <td>null</td>\n      <td>[1.0, 1.0, 1.0]</td>\n    </tr>\n    <tr>\n      <th>...</th>\n      <td>...</td>\n      <td>...</td>\n      <td>...</td>\n      <td>...</td>\n      <td>...</td>\n      <td>...</td>\n      <td>...</td>\n      <td>...</td>\n      <td>...</td>\n      <td>...</td>\n      <td>...</td>\n      <td>...</td>\n      <td>...</td>\n      <td>...</td>\n      <td>...</td>\n    </tr>\n    <tr>\n      <th>4782</th>\n      <td>null</td>\n      <td>1.0</td>\n      <td>895.0</td>\n      <td>null</td>\n      <td>1.0</td>\n      <td>0.0</td>\n      <td>null</td>\n      <td>[1920.0, 1080.0]</td>\n      <td>null</td>\n      <td>natural_movie_one</td>\n      <td>null</td>\n      <td>pix</td>\n      <td>null</td>\n      <td>null</td>\n      <td>[1.0, 1.0, 1.0]</td>\n    </tr>\n    <tr>\n      <th>4783</th>\n      <td>null</td>\n      <td>1.0</td>\n      <td>896.0</td>\n      <td>null</td>\n      <td>1.0</td>\n      <td>0.0</td>\n      <td>null</td>\n      <td>[1920.0, 1080.0]</td>\n      <td>null</td>\n      <td>natural_movie_one</td>\n      <td>null</td>\n      <td>pix</td>\n      <td>null</td>\n      <td>null</td>\n      <td>[1.0, 1.0, 1.0]</td>\n    </tr>\n    <tr>\n      <th>4784</th>\n      <td>null</td>\n      <td>1.0</td>\n      <td>897.0</td>\n      <td>null</td>\n      <td>1.0</td>\n      <td>0.0</td>\n      <td>null</td>\n      <td>[1920.0, 1080.0]</td>\n      <td>null</td>\n      <td>natural_movie_one</td>\n      <td>null</td>\n      <td>pix</td>\n      <td>null</td>\n      <td>null</td>\n      <td>[1.0, 1.0, 1.0]</td>\n    </tr>\n    <tr>\n      <th>4785</th>\n      <td>null</td>\n      <td>1.0</td>\n      <td>898.0</td>\n      <td>null</td>\n      <td>1.0</td>\n      <td>0.0</td>\n      <td>null</td>\n      <td>[1920.0, 1080.0]</td>\n      <td>null</td>\n      <td>natural_movie_one</td>\n      <td>null</td>\n      <td>pix</td>\n      <td>null</td>\n      <td>null</td>\n      <td>[1.0, 1.0, 1.0]</td>\n    </tr>\n    <tr>\n      <th>4786</th>\n      <td>null</td>\n      <td>1.0</td>\n      <td>899.0</td>\n      <td>null</td>\n      <td>1.0</td>\n      <td>0.0</td>\n      <td>null</td>\n      <td>[1920.0, 1080.0]</td>\n      <td>null</td>\n      <td>natural_movie_one</td>\n      <td>null</td>\n      <td>pix</td>\n      <td>null</td>\n      <td>null</td>\n      <td>[1.0, 1.0, 1.0]</td>\n    </tr>\n  </tbody>\n</table>\n<p>900 rows × 15 columns</p>\n</div>"
     },
     "execution_count": 25,
     "metadata": {},
     "output_type": "execute_result"
    }
   ],
   "source": [
    "stim_type = 'natural_movie_one'\n",
    "session.stimulus_conditions.loc[session.stimulus_conditions.stimulus_name == stim_type]"
   ],
   "metadata": {
    "collapsed": false,
    "pycharm": {
     "name": "#%%\n"
    }
   }
  },
  {
   "cell_type": "code",
   "execution_count": 26,
   "outputs": [],
   "source": [
    "n_movie_frames = np.arange(0, 900).reshape(30, 30)\n",
    "n_first_frames = np.arange(0, 900, 30).astype(int)"
   ],
   "metadata": {
    "collapsed": false,
    "pycharm": {
     "name": "#%%\n"
    }
   }
  },
  {
   "cell_type": "code",
   "execution_count": 33,
   "outputs": [
    {
     "data": {
      "text/plain": "3599.0"
     },
     "execution_count": 33,
     "metadata": {},
     "output_type": "execute_result"
    }
   ],
   "source": [
    "session.stimulus_conditions.loc[session.stimulus_conditions.stimulus_name == stim_type, \"frame\"].max()"
   ],
   "metadata": {
    "collapsed": false,
    "pycharm": {
     "name": "#%%\n"
    }
   }
  },
  {
   "cell_type": "code",
   "execution_count": 34,
   "outputs": [],
   "source": [
    "stim_type = 'natural_movie_one'\n",
    "sec = 1  # just looking at the first second of the movie\n",
    "roi = 'VISp'\n",
    "\n",
    "# get just one time bin\n",
    "# stim_id = session.stimulus_conditions.loc[session.stimulus_conditions.stimulus_name == stim_type].index.values[n_movie_frames[sec - 1]]\n",
    "\n",
    "stim_id = session.stimulus_conditions.loc[session.stimulus_conditions.stimulus_name == stim_type].index.values[n_first_frames[sec - 1]]\n",
    "\n",
    "stim_idx = session.stimulus_presentations.loc[session.stimulus_presentations.stimulus_condition_id == stim_id].index.values\n",
    "#\n",
    "# stim_idx = session.stimulus_presentations.loc[session.stimulus_presentations.stimulus_condition_id.isin(stim_id)].index.values\n",
    "\n",
    "# select the roi and also drop low-snr units\n",
    "q25 = np.percentile(session.units.snr, 25)\n",
    "# mean_snr = session.units.snr.mean()\n",
    "roi_idx = session.units[(session.units.snr > q25) & (session.units.ecephys_structure_acronym == roi)].index.values"
   ],
   "metadata": {
    "collapsed": false,
    "pycharm": {
     "name": "#%%\n"
    }
   }
  },
  {
   "cell_type": "code",
   "execution_count": 35,
   "outputs": [
    {
     "data": {
      "text/plain": "(20,)"
     },
     "execution_count": 35,
     "metadata": {},
     "output_type": "execute_result"
    }
   ],
   "source": [
    "stim_idx.shape"
   ],
   "metadata": {
    "collapsed": false,
    "pycharm": {
     "name": "#%%\n"
    }
   }
  },
  {
   "cell_type": "code",
   "execution_count": 36,
   "outputs": [
    {
     "data": {
      "text/plain": "                           start_time  relative_time\nstimulus_presentation_id                            \n22000                     2846.623389       0.000000\n22900                     2876.648499       0.500419\n23800                     2906.673539       1.000836\n24700                     2936.698659       1.501254\n25600                     2966.723719       2.001672\n26500                     2996.748779       2.502090\n27400                     3026.773889       3.002508\n28300                     3056.798959       3.502926\n29200                     3086.824039       4.003344\n30100                     3116.849129       4.503762\n57118                     7710.704429      81.068017\n58018                     7740.729529      81.568436\n58918                     7770.754619      82.068854\n59818                     7800.779709      82.569272\n60718                     7830.804749      83.069689\n61618                     7860.829849      83.570108\n62518                     7890.854929      84.070526\n63418                     7920.880009      84.570944\n64318                     7950.905109      85.071362\n65218                     7980.930209      85.571780",
      "text/html": "<div>\n<style scoped>\n    .dataframe tbody tr th:only-of-type {\n        vertical-align: middle;\n    }\n\n    .dataframe tbody tr th {\n        vertical-align: top;\n    }\n\n    .dataframe thead th {\n        text-align: right;\n    }\n</style>\n<table border=\"1\" class=\"dataframe\">\n  <thead>\n    <tr style=\"text-align: right;\">\n      <th></th>\n      <th>start_time</th>\n      <th>relative_time</th>\n    </tr>\n    <tr>\n      <th>stimulus_presentation_id</th>\n      <th></th>\n      <th></th>\n    </tr>\n  </thead>\n  <tbody>\n    <tr>\n      <th>22000</th>\n      <td>2846.623389</td>\n      <td>0.000000</td>\n    </tr>\n    <tr>\n      <th>22900</th>\n      <td>2876.648499</td>\n      <td>0.500419</td>\n    </tr>\n    <tr>\n      <th>23800</th>\n      <td>2906.673539</td>\n      <td>1.000836</td>\n    </tr>\n    <tr>\n      <th>24700</th>\n      <td>2936.698659</td>\n      <td>1.501254</td>\n    </tr>\n    <tr>\n      <th>25600</th>\n      <td>2966.723719</td>\n      <td>2.001672</td>\n    </tr>\n    <tr>\n      <th>26500</th>\n      <td>2996.748779</td>\n      <td>2.502090</td>\n    </tr>\n    <tr>\n      <th>27400</th>\n      <td>3026.773889</td>\n      <td>3.002508</td>\n    </tr>\n    <tr>\n      <th>28300</th>\n      <td>3056.798959</td>\n      <td>3.502926</td>\n    </tr>\n    <tr>\n      <th>29200</th>\n      <td>3086.824039</td>\n      <td>4.003344</td>\n    </tr>\n    <tr>\n      <th>30100</th>\n      <td>3116.849129</td>\n      <td>4.503762</td>\n    </tr>\n    <tr>\n      <th>57118</th>\n      <td>7710.704429</td>\n      <td>81.068017</td>\n    </tr>\n    <tr>\n      <th>58018</th>\n      <td>7740.729529</td>\n      <td>81.568436</td>\n    </tr>\n    <tr>\n      <th>58918</th>\n      <td>7770.754619</td>\n      <td>82.068854</td>\n    </tr>\n    <tr>\n      <th>59818</th>\n      <td>7800.779709</td>\n      <td>82.569272</td>\n    </tr>\n    <tr>\n      <th>60718</th>\n      <td>7830.804749</td>\n      <td>83.069689</td>\n    </tr>\n    <tr>\n      <th>61618</th>\n      <td>7860.829849</td>\n      <td>83.570108</td>\n    </tr>\n    <tr>\n      <th>62518</th>\n      <td>7890.854929</td>\n      <td>84.070526</td>\n    </tr>\n    <tr>\n      <th>63418</th>\n      <td>7920.880009</td>\n      <td>84.570944</td>\n    </tr>\n    <tr>\n      <th>64318</th>\n      <td>7950.905109</td>\n      <td>85.071362</td>\n    </tr>\n    <tr>\n      <th>65218</th>\n      <td>7980.930209</td>\n      <td>85.571780</td>\n    </tr>\n  </tbody>\n</table>\n</div>"
     },
     "execution_count": 36,
     "metadata": {},
     "output_type": "execute_result"
    }
   ],
   "source": [
    "stim_times = session.stimulus_presentations.loc[stim_idx, [\"start_time\"]]\n",
    "stim_times[\"relative_time\"] = (stim_times[\"start_time\"] - stim_times[\"start_time\"].min()) / 60\n",
    "stim_times"
   ],
   "metadata": {
    "collapsed": false,
    "pycharm": {
     "name": "#%%\n"
    }
   }
  },
  {
   "cell_type": "code",
   "execution_count": 37,
   "outputs": [],
   "source": [
    "time_step = 0.001\n",
    "time_bins = np.arange(0, 1, time_step)\n",
    "# time_bins = [0, .99]\n",
    "spike_cnts = session.presentationwise_spike_counts(\n",
    "    stimulus_presentation_ids=stim_idx,\n",
    "    unit_ids=roi_idx,\n",
    "    bin_edges=time_bins\n",
    ")\n",
    "cnts = spike_cnts.to_dataframe()\n",
    "# cnts.reset_index(inplace=True)"
   ],
   "metadata": {
    "collapsed": false,
    "pycharm": {
     "name": "#%%\n"
    }
   }
  },
  {
   "cell_type": "code",
   "execution_count": 38,
   "outputs": [
    {
     "name": "stderr",
     "output_type": "stream",
     "text": [
      "/home/devxl/miniconda3/envs/neuro/lib/python3.7/site-packages/ipykernel_launcher.py:10: MatplotlibDeprecationWarning: shading='flat' when X and Y have the same dimensions as C is deprecated since 3.3.  Either specify the corners of the quadrilaterals with X and Y, or pass shading='auto', 'nearest' or 'gouraud', or set rcParams['pcolor.shading'].  This will become an error two minor releases later.\n",
      "  # Remove the CWD from sys.path while we load stuff.\n"
     ]
    },
    {
     "data": {
      "text/plain": "<Figure size 576x576 with 1 Axes>",
      "image/png": "[encoded data removed]"
     },
     "metadata": {},
     "output_type": "display_data"
    }
   ],
   "source": [
    "# plot\n",
    "mean_histograms = spike_cnts.mean(dim=\"stimulus_presentation_id\")\n",
    "\n",
    "fig, ax = plt.subplots(figsize=(8, 8))\n",
    "ax.pcolormesh(\n",
    "    mean_histograms[\"time_relative_to_stimulus_onset\"],\n",
    "    np.arange(mean_histograms[\"unit_id\"].size),\n",
    "    mean_histograms.T,\n",
    "    vmin=0,\n",
    "    vmax=1\n",
    ")\n",
    "\n",
    "ax.set_ylabel(\"unit\", fontsize=24)\n",
    "ax.set_xlabel(\"time relative to stimulus onset (s)\", fontsize=18)\n",
    "ax.set_title(\"Average peristimulus time histograms for VISp units on Natural Movie presentations (sec 1)\", fontsize=18)\n",
    "\n",
    "plt.show()"
   ],
   "metadata": {
    "collapsed": false,
    "pycharm": {
     "name": "#%%\n"
    }
   }
  },
  {
   "cell_type": "code",
   "execution_count": 39,
   "outputs": [],
   "source": [
    "# Another way of doing it\n",
    "time_bins = [0, .99]\n",
    "spike_cnts = session.presentationwise_spike_counts(\n",
    "    stimulus_presentation_ids=stim_idx,\n",
    "    unit_ids=roi_idx,\n",
    "    bin_edges=time_bins\n",
    ")\n",
    "cnts2 = spike_cnts.to_dataframe()\n",
    "cnts2.reset_index(inplace=True)"
   ],
   "metadata": {
    "collapsed": false,
    "pycharm": {
     "name": "#%%\n"
    }
   }
  },
  {
   "cell_type": "code",
   "execution_count": 40,
   "outputs": [],
   "source": [
    "# Put stimulus properties next to the count data\n",
    "cols = [\"start_time\", \"stop_time\", \"stimulus_block\", \"stimulus_name\", \"stimulus_condition_id\"]\n",
    "all_counts = pd.merge(cnts, session.stimulus_presentations[cols], left_on=\"stimulus_presentation_id\", right_index=True)\n",
    "all_counts.reset_index(inplace=True)"
   ],
   "metadata": {
    "collapsed": false,
    "pycharm": {
     "name": "#%%\n"
    }
   }
  },
  {
   "cell_type": "code",
   "execution_count": 42,
   "outputs": [
    {
     "data": {
      "text/plain": "        stimulus_presentation_id  time_relative_to_stimulus_onset    unit_id  \\\n0                          22000                           0.0005  951877136   \n1                          22000                           0.0005  951877272   \n2                          22000                           0.0005  951877260   \n3                          22000                           0.0005  951877312   \n4                          22000                           0.0005  951877352   \n...                          ...                              ...        ...   \n859135                     65218                           0.9985  951878626   \n859136                     65218                           0.9985  951878648   \n859137                     65218                           0.9985  951878821   \n859138                     65218                           0.9985  951878811   \n859139                     65218                           0.9985  951878911   \n\n        spike_counts   start_time   stop_time stimulus_block  \\\n0                  0  2846.623389  2846.65675            4.0   \n1                  0  2846.623389  2846.65675            4.0   \n2                  0  2846.623389  2846.65675            4.0   \n3                  0  2846.623389  2846.65675            4.0   \n4                  0  2846.623389  2846.65675            4.0   \n...              ...          ...         ...            ...   \n859135             0  7980.930209  7980.96357           12.0   \n859136             0  7980.930209  7980.96357           12.0   \n859137             0  7980.930209  7980.96357           12.0   \n859138             0  7980.930209  7980.96357           12.0   \n859139             0  7980.930209  7980.96357           12.0   \n\n            stimulus_name  stimulus_condition_id  \n0       natural_movie_one                   3887  \n1       natural_movie_one                   3887  \n2       natural_movie_one                   3887  \n3       natural_movie_one                   3887  \n4       natural_movie_one                   3887  \n...                   ...                    ...  \n859135  natural_movie_one                   3887  \n859136  natural_movie_one                   3887  \n859137  natural_movie_one                   3887  \n859138  natural_movie_one                   3887  \n859139  natural_movie_one                   3887  \n\n[859140 rows x 9 columns]",
      "text/html": "<div>\n<style scoped>\n    .dataframe tbody tr th:only-of-type {\n        vertical-align: middle;\n    }\n\n    .dataframe tbody tr th {\n        vertical-align: top;\n    }\n\n    .dataframe thead th {\n        text-align: right;\n    }\n</style>\n<table border=\"1\" class=\"dataframe\">\n  <thead>\n    <tr style=\"text-align: right;\">\n      <th></th>\n      <th>stimulus_presentation_id</th>\n      <th>time_relative_to_stimulus_onset</th>\n      <th>unit_id</th>\n      <th>spike_counts</th>\n      <th>start_time</th>\n      <th>stop_time</th>\n      <th>stimulus_block</th>\n      <th>stimulus_name</th>\n      <th>stimulus_condition_id</th>\n    </tr>\n  </thead>\n  <tbody>\n    <tr>\n      <th>0</th>\n      <td>22000</td>\n      <td>0.0005</td>\n      <td>951877136</td>\n      <td>0</td>\n      <td>2846.623389</td>\n      <td>2846.65675</td>\n      <td>4.0</td>\n      <td>natural_movie_one</td>\n      <td>3887</td>\n    </tr>\n    <tr>\n      <th>1</th>\n      <td>22000</td>\n      <td>0.0005</td>\n      <td>951877272</td>\n      <td>0</td>\n      <td>2846.623389</td>\n      <td>2846.65675</td>\n      <td>4.0</td>\n      <td>natural_movie_one</td>\n      <td>3887</td>\n    </tr>\n    <tr>\n      <th>2</th>\n      <td>22000</td>\n      <td>0.0005</td>\n      <td>951877260</td>\n      <td>0</td>\n      <td>2846.623389</td>\n      <td>2846.65675</td>\n      <td>4.0</td>\n      <td>natural_movie_one</td>\n      <td>3887</td>\n    </tr>\n    <tr>\n      <th>3</th>\n      <td>22000</td>\n      <td>0.0005</td>\n      <td>951877312</td>\n      <td>0</td>\n      <td>2846.623389</td>\n      <td>2846.65675</td>\n      <td>4.0</td>\n      <td>natural_movie_one</td>\n      <td>3887</td>\n    </tr>\n    <tr>\n      <th>4</th>\n      <td>22000</td>\n      <td>0.0005</td>\n      <td>951877352</td>\n      <td>0</td>\n      <td>2846.623389</td>\n      <td>2846.65675</td>\n      <td>4.0</td>\n      <td>natural_movie_one</td>\n      <td>3887</td>\n    </tr>\n    <tr>\n      <th>...</th>\n      <td>...</td>\n      <td>...</td>\n      <td>...</td>\n      <td>...</td>\n      <td>...</td>\n      <td>...</td>\n      <td>...</td>\n      <td>...</td>\n      <td>...</td>\n    </tr>\n    <tr>\n      <th>859135</th>\n      <td>65218</td>\n      <td>0.9985</td>\n      <td>951878626</td>\n      <td>0</td>\n      <td>7980.930209</td>\n      <td>7980.96357</td>\n      <td>12.0</td>\n      <td>natural_movie_one</td>\n      <td>3887</td>\n    </tr>\n    <tr>\n      <th>859136</th>\n      <td>65218</td>\n      <td>0.9985</td>\n      <td>951878648</td>\n      <td>0</td>\n      <td>7980.930209</td>\n      <td>7980.96357</td>\n      <td>12.0</td>\n      <td>natural_movie_one</td>\n      <td>3887</td>\n    </tr>\n    <tr>\n      <th>859137</th>\n      <td>65218</td>\n      <td>0.9985</td>\n      <td>951878821</td>\n      <td>0</td>\n      <td>7980.930209</td>\n      <td>7980.96357</td>\n      <td>12.0</td>\n      <td>natural_movie_one</td>\n      <td>3887</td>\n    </tr>\n    <tr>\n      <th>859138</th>\n      <td>65218</td>\n      <td>0.9985</td>\n      <td>951878811</td>\n      <td>0</td>\n      <td>7980.930209</td>\n      <td>7980.96357</td>\n      <td>12.0</td>\n      <td>natural_movie_one</td>\n      <td>3887</td>\n    </tr>\n    <tr>\n      <th>859139</th>\n      <td>65218</td>\n      <td>0.9985</td>\n      <td>951878911</td>\n      <td>0</td>\n      <td>7980.930209</td>\n      <td>7980.96357</td>\n      <td>12.0</td>\n      <td>natural_movie_one</td>\n      <td>3887</td>\n    </tr>\n  </tbody>\n</table>\n<p>859140 rows × 9 columns</p>\n</div>"
     },
     "execution_count": 42,
     "metadata": {},
     "output_type": "execute_result"
    }
   ],
   "source": [
    "all_counts"
   ],
   "metadata": {
    "collapsed": false,
    "pycharm": {
     "name": "#%%\n"
    }
   }
  },
  {
   "cell_type": "code",
   "execution_count": 41,
   "outputs": [
    {
     "data": {
      "text/plain": "     stimulus_presentation_id    unit_id   start_time   stop_time  \\\n0                       22000  951877136  2846.623389  2846.65675   \n1                       22000  951877260  2846.623389  2846.65675   \n2                       22000  951877272  2846.623389  2846.65675   \n3                       22000  951877312  2846.623389  2846.65675   \n4                       22000  951877352  2846.623389  2846.65675   \n..                        ...        ...          ...         ...   \n855                     65218  951878648  7980.930209  7980.96357   \n856                     65218  951878811  7980.930209  7980.96357   \n857                     65218  951878821  7980.930209  7980.96357   \n858                     65218  951878911  7980.930209  7980.96357   \n859                     65218  951879452  7980.930209  7980.96357   \n\n     stimulus_block      stimulus_name  stimulus_condition_id  spike_counts  \n0               4.0  natural_movie_one                   3887             7  \n1               4.0  natural_movie_one                   3887            23  \n2               4.0  natural_movie_one                   3887            15  \n3               4.0  natural_movie_one                   3887             0  \n4               4.0  natural_movie_one                   3887             0  \n..              ...                ...                    ...           ...  \n855            12.0  natural_movie_one                   3887            23  \n856            12.0  natural_movie_one                   3887             3  \n857            12.0  natural_movie_one                   3887            12  \n858            12.0  natural_movie_one                   3887             1  \n859            12.0  natural_movie_one                   3887             1  \n\n[860 rows x 8 columns]",
      "text/html": "<div>\n<style scoped>\n    .dataframe tbody tr th:only-of-type {\n        vertical-align: middle;\n    }\n\n    .dataframe tbody tr th {\n        vertical-align: top;\n    }\n\n    .dataframe thead th {\n        text-align: right;\n    }\n</style>\n<table border=\"1\" class=\"dataframe\">\n  <thead>\n    <tr style=\"text-align: right;\">\n      <th></th>\n      <th>stimulus_presentation_id</th>\n      <th>unit_id</th>\n      <th>start_time</th>\n      <th>stop_time</th>\n      <th>stimulus_block</th>\n      <th>stimulus_name</th>\n      <th>stimulus_condition_id</th>\n      <th>spike_counts</th>\n    </tr>\n  </thead>\n  <tbody>\n    <tr>\n      <th>0</th>\n      <td>22000</td>\n      <td>951877136</td>\n      <td>2846.623389</td>\n      <td>2846.65675</td>\n      <td>4.0</td>\n      <td>natural_movie_one</td>\n      <td>3887</td>\n      <td>7</td>\n    </tr>\n    <tr>\n      <th>1</th>\n      <td>22000</td>\n      <td>951877260</td>\n      <td>2846.623389</td>\n      <td>2846.65675</td>\n      <td>4.0</td>\n      <td>natural_movie_one</td>\n      <td>3887</td>\n      <td>23</td>\n    </tr>\n    <tr>\n      <th>2</th>\n      <td>22000</td>\n      <td>951877272</td>\n      <td>2846.623389</td>\n      <td>2846.65675</td>\n      <td>4.0</td>\n      <td>natural_movie_one</td>\n      <td>3887</td>\n      <td>15</td>\n    </tr>\n    <tr>\n      <th>3</th>\n      <td>22000</td>\n      <td>951877312</td>\n      <td>2846.623389</td>\n      <td>2846.65675</td>\n      <td>4.0</td>\n      <td>natural_movie_one</td>\n      <td>3887</td>\n      <td>0</td>\n    </tr>\n    <tr>\n      <th>4</th>\n      <td>22000</td>\n      <td>951877352</td>\n      <td>2846.623389</td>\n      <td>2846.65675</td>\n      <td>4.0</td>\n      <td>natural_movie_one</td>\n      <td>3887</td>\n      <td>0</td>\n    </tr>\n    <tr>\n      <th>...</th>\n      <td>...</td>\n      <td>...</td>\n      <td>...</td>\n      <td>...</td>\n      <td>...</td>\n      <td>...</td>\n      <td>...</td>\n      <td>...</td>\n    </tr>\n    <tr>\n      <th>855</th>\n      <td>65218</td>\n      <td>951878648</td>\n      <td>7980.930209</td>\n      <td>7980.96357</td>\n      <td>12.0</td>\n      <td>natural_movie_one</td>\n      <td>3887</td>\n      <td>23</td>\n    </tr>\n    <tr>\n      <th>856</th>\n      <td>65218</td>\n      <td>951878811</td>\n      <td>7980.930209</td>\n      <td>7980.96357</td>\n      <td>12.0</td>\n      <td>natural_movie_one</td>\n      <td>3887</td>\n      <td>3</td>\n    </tr>\n    <tr>\n      <th>857</th>\n      <td>65218</td>\n      <td>951878821</td>\n      <td>7980.930209</td>\n      <td>7980.96357</td>\n      <td>12.0</td>\n      <td>natural_movie_one</td>\n      <td>3887</td>\n      <td>12</td>\n    </tr>\n    <tr>\n      <th>858</th>\n      <td>65218</td>\n      <td>951878911</td>\n      <td>7980.930209</td>\n      <td>7980.96357</td>\n      <td>12.0</td>\n      <td>natural_movie_one</td>\n      <td>3887</td>\n      <td>1</td>\n    </tr>\n    <tr>\n      <th>859</th>\n      <td>65218</td>\n      <td>951879452</td>\n      <td>7980.930209</td>\n      <td>7980.96357</td>\n      <td>12.0</td>\n      <td>natural_movie_one</td>\n      <td>3887</td>\n      <td>1</td>\n    </tr>\n  </tbody>\n</table>\n<p>860 rows × 8 columns</p>\n</div>"
     },
     "execution_count": 41,
     "metadata": {},
     "output_type": "execute_result"
    }
   ],
   "source": [
    "# Count the number of spikes for each stimulus presentation in the whole duration\n",
    "grp_cols = [\"stimulus_presentation_id\", \"unit_id\"] + cols\n",
    "spikes_grpd = all_counts.groupby(grp_cols, as_index=False)[\"spike_counts\"].sum()\n",
    "spikes_grpd"
   ],
   "metadata": {
    "collapsed": false,
    "pycharm": {
     "name": "#%%\n"
    }
   }
  },
  {
   "cell_type": "code",
   "execution_count": null,
   "outputs": [],
   "source": [
    "# Sanity check plots\n",
    "p = plt.hist(spikes_grpd[\"spike_counts\"], 8)"
   ],
   "metadata": {
    "collapsed": false,
    "pycharm": {
     "name": "#%%\n"
    }
   }
  },
  {
   "cell_type": "code",
   "execution_count": null,
   "outputs": [],
   "source": [
    "# This is the final spike counts for this stimulus and this region\n",
    "df = spikes_grpd.copy()\n",
    "df[\"roi\"] = roi\n",
    "df[\"movie_sec\"] = sec\n",
    "df"
   ],
   "metadata": {
    "collapsed": false,
    "pycharm": {
     "name": "#%%\n"
    }
   }
  },
  {
   "cell_type": "code",
   "execution_count": null,
   "outputs": [],
   "source": [
    "# Put in the running speed\n",
    "for idx in stim_idx:\n",
    "    start = df.loc[df.stimulus_presentation_id == idx, \"start_time\"].mean()  # these are all the same number for one index\n",
    "    stop = start + 1\n",
    "    median_speed = run.loc[(run[\"start_time\"] > start) & (run[\"end_time\"] < stop), \"speed\"].median()\n",
    "    mean_speed = run.loc[(run[\"start_time\"] > start) & (run[\"end_time\"] < stop), \"speed\"].mean()\n",
    "\n",
    "    df.loc[df.stimulus_presentation_id == idx, \"median_speed\"] = median_speed\n",
    "    df.loc[df.stimulus_presentation_id == idx, \"mean_speed\"] = mean_speed\n",
    "\n",
    "# Put in the pupil area\n",
    "for idx in stim_idx:\n",
    "    start = df.loc[df.stimulus_presentation_id == idx, \"start_time\"].mean()\n",
    "    stop = start + 1\n",
    "    area = pupil.loc[(pupil.index > start) & (pupil.index < stop), \"raw_pupil_area\"].mean()\n",
    "    df.loc[df.stimulus_presentation_id == idx, \"pupil_area\"] = area"
   ],
   "metadata": {
    "collapsed": false,
    "pycharm": {
     "name": "#%%\n"
    }
   }
  },
  {
   "cell_type": "code",
   "execution_count": null,
   "outputs": [],
   "source": [
    "# Making a matrix of unit x presentation to plot on a heatmap\n",
    "# the issue here is that some of the units have no spike counts for some presentations\n",
    "# so I have to find those and put 0 value for them\n",
    "\n",
    "# TODO: IT'S BETTER TO DO THIS IN THE ORIGINAL DATAFRAME\n",
    "\n",
    "units = df.unit_id.unique()\n",
    "pres = df.stimulus_presentation_id.unique()\n",
    "\n",
    "for u, unit in enumerate(units):\n",
    "    df.loc[df.unit_id == unit, \"unit_num\"] = u + 1\n",
    "\n",
    "for p, pre in enumerate(pres):\n",
    "    df.loc[df.stimulus_presentation_id == pre, \"present_num\"] = p + 1\n",
    "\n",
    "data = np.zeros((units.shape[0], pres.shape[0]))\n",
    "\n",
    "for unit in df.unit_num.unique():\n",
    "    for pres in df.present_num.unique():\n",
    "        try:\n",
    "            data[int(unit - 1), int(pres - 1)] = df.loc[(df.unit_num == unit) & (df.present_num == pres), \"spike_count\"].values[0]\n",
    "        except IndexError:\n",
    "            pass"
   ],
   "metadata": {
    "collapsed": false,
    "pycharm": {
     "name": "#%%\n"
    }
   }
  },
  {
   "cell_type": "code",
   "execution_count": null,
   "outputs": [],
   "source": [
    "fig = plt.figure(figsize=(20, 10), constrained_layout=True)\n",
    "gs = GridSpec(2, 2, figure=fig)\n",
    "fig.suptitle(f\"Presentations of Natural Movie One 1st second\", fontsize=28)\n",
    "\n",
    "ax1 = fig.add_subplot(gs[:, 0])\n",
    "ax2 = fig.add_subplot(gs[0, 1])\n",
    "ax3 = fig.add_subplot(gs[1, 1])\n",
    "\n",
    "# Plot spike counts\n",
    "plot = sns.heatmap(data, ax=ax1, center=4, cmap=\"YlGnBu\")\n",
    "# plot = sns.heatmap(data, ax=ax1, center=20, cmap='rocket')\n",
    "plot.set(\n",
    "    title=f\"Spike counts in {roi}\",\n",
    "    xlabel='Presentation',\n",
    "    ylabel=\"Unit\"\n",
    ")\n",
    "\n",
    "# Plot pupil diameter\n",
    "plot = sns.lineplot(x='present_num', y=\"pupil_area\", color='red', ax=ax2, data=df)\n",
    "plot.set_title(f\"Pupil area\")\n",
    "\n",
    "\n",
    "# Plot running speed\n",
    "plot = sns.lineplot(x='present_num', y=\"mean_speed\", ax=ax3, data=df)\n",
    "plot.set_title(f\"Running speed\")"
   ],
   "metadata": {
    "collapsed": false,
    "pycharm": {
     "name": "#%%\n"
    }
   }
  },
  {
   "cell_type": "code",
   "execution_count": null,
   "outputs": [],
   "source": [
    "# Correlation between pupil size and running speed\n",
    "# get timepoints to plot, pupil data is longer\n",
    "time_bins = np.arange(0, pupil.index.max().astype(int), 300)\n",
    "\n",
    "# get pupil mean for each bin\n",
    "pupil_mean = np.array([pupil.loc[(pupil.index > b) & (pupil.index < b + 1), \"raw_pupil_area\"].mean() for b in time_bins])\n",
    "# pupil_mean = pupil_mean[~np.isnan(pupil_mean)]\n",
    "pupil_normal = stats.zscore(pupil_mean, nan_policy='omit')\n",
    "pupil_normal[pupil_normal > 3] = 0\n",
    "\n",
    "# get running speed mean for each bin\n",
    "run_mean = np.array([run.loc[(run.start_time > b) & (run.end_time < b + 1), \"speed\"].mean() for b in time_bins])\n",
    "# run_mean = run_mean[~np.isnan(run_mean)]\n",
    "run_normal = stats.zscore(run_mean, nan_policy='omit')\n",
    "\n",
    "# plot\n",
    "fig, axes = plt.subplots(2, 1, figsize=(16, 9))\n",
    "fig.suptitle(f\"Mouse #{}. Time bins 300ms\")\n",
    "\n",
    "# plot against time\n",
    "axes[0].plot(time_bins, pupil_normal, 'r-', label=\"Pupil area\")\n",
    "axes[0].plot(time_bins, run_normal, 'b-', label=\"Running speed\")\n",
    "\n",
    "axes[0].set_title(\"Normalized pupil diameter and running speed\")\n",
    "axes[0].set_xlabel(\"Time (s)\")\n",
    "axes[0].set_ylabel(\"Zscore\")\n",
    "\n",
    "# plot against each other\n",
    "# pupil_ = pupil.loc[(pupil.index >= run.start_time.min()) & (pupil.index <= run.end_time.max()), \"raw_pupil_area\"]\n",
    "# axes[1].scatter(pupil_mean, run_mean)\n",
    "plot = sns.regplot(pupil_mean, run_mean, scatter=True, ax=axes[1])\n",
    "\n",
    "axes[1].set_title(\"Mean Running speed v.s Pupil area\")\n",
    "axes[1].set_xlabel(\"Pupil diameter ($cm^2$?)\")\n",
    "axes[1].set_ylabel(\"Running speed (cm/s)\")\n",
    "\n",
    "plt.legend()\n",
    "plt.show()"
   ],
   "metadata": {
    "collapsed": false,
    "pycharm": {
     "name": "#%%\n"
    }
   }
  },
  {
   "cell_type": "code",
   "execution_count": 168,
   "outputs": [
    {
     "data": {
      "text/plain": "Text(0.5, 1.0, 'Running speed')"
     },
     "execution_count": 168,
     "metadata": {},
     "output_type": "execute_result"
    },
    {
     "data": {
      "text/plain": "<Figure size 1440x720 with 4 Axes>",
      "image/png": "[encoded data removed]"
     },
     "metadata": {},
     "output_type": "display_data"
    }
   ],
   "source": [
    "fig = plt.figure(figsize=(20, 10), constrained_layout=True)\n",
    "gs = GridSpec(2, 2, figure=fig)\n",
    "fig.suptitle(f\"Presentations of Natural Movie One 1st second\", fontsize=28)\n",
    "\n",
    "ax1 = fig.add_subplot(gs[:, 0])\n",
    "ax2 = fig.add_subplot(gs[0, 1])\n",
    "ax3 = fig.add_subplot(gs[1, 1])\n",
    "\n",
    "# Plot spike counts\n",
    "plot = sns.heatmap(data, ax=ax1, center=4, cmap=\"YlGnBu\")\n",
    "# plot = sns.heatmap(data, ax=ax1, center=20, cmap='rocket')\n",
    "plot.set(\n",
    "    title=f\"Spike counts in {roi}\",\n",
    "    xlabel='Presentation',\n",
    "    ylabel=\"Unit\"\n",
    ")\n",
    "\n",
    "# Plot pupil diameter\n",
    "plot = sns.lineplot(x='present_num', y=\"pupil_area\", color='red', ax=ax2, data=df)\n",
    "plot.set_title(f\"Pupil area\")\n",
    "\n",
    "\n",
    "# Plot running speed\n",
    "plot = sns.lineplot(x='present_num', y=\"mean_speed\", ax=ax3, data=df)\n",
    "plot.set_title(f\"Running speed\")"
   ],
   "metadata": {
    "collapsed": false,
    "pycharm": {
     "name": "#%%\n"
    }
   }
  },
  {
   "cell_type": "code",
   "execution_count": 196,
   "outputs": [
    {
     "data": {
      "text/plain": "            raw_pupil_area\nTime (s)                  \n3.14509           0.005578\n3.16893           0.005606\n3.17042           0.005553\n3.20369           0.005555\n3.25324           0.005536\n...                    ...\n9835.50654        0.013549\n9835.53988        0.013787\n9835.57330        0.014223\n9835.60646        0.013442\n9835.64080        0.013551\n\n[294839 rows x 1 columns]",
      "text/html": "<div>\n<style scoped>\n    .dataframe tbody tr th:only-of-type {\n        vertical-align: middle;\n    }\n\n    .dataframe tbody tr th {\n        vertical-align: top;\n    }\n\n    .dataframe thead th {\n        text-align: right;\n    }\n</style>\n<table border=\"1\" class=\"dataframe\">\n  <thead>\n    <tr style=\"text-align: right;\">\n      <th></th>\n      <th>raw_pupil_area</th>\n    </tr>\n    <tr>\n      <th>Time (s)</th>\n      <th></th>\n    </tr>\n  </thead>\n  <tbody>\n    <tr>\n      <th>3.14509</th>\n      <td>0.005578</td>\n    </tr>\n    <tr>\n      <th>3.16893</th>\n      <td>0.005606</td>\n    </tr>\n    <tr>\n      <th>3.17042</th>\n      <td>0.005553</td>\n    </tr>\n    <tr>\n      <th>3.20369</th>\n      <td>0.005555</td>\n    </tr>\n    <tr>\n      <th>3.25324</th>\n      <td>0.005536</td>\n    </tr>\n    <tr>\n      <th>...</th>\n      <td>...</td>\n    </tr>\n    <tr>\n      <th>9835.50654</th>\n      <td>0.013549</td>\n    </tr>\n    <tr>\n      <th>9835.53988</th>\n      <td>0.013787</td>\n    </tr>\n    <tr>\n      <th>9835.57330</th>\n      <td>0.014223</td>\n    </tr>\n    <tr>\n      <th>9835.60646</th>\n      <td>0.013442</td>\n    </tr>\n    <tr>\n      <th>9835.64080</th>\n      <td>0.013551</td>\n    </tr>\n  </tbody>\n</table>\n<p>294839 rows × 1 columns</p>\n</div>"
     },
     "execution_count": 196,
     "metadata": {},
     "output_type": "execute_result"
    }
   ],
   "source": [
    "pupil"
   ],
   "metadata": {
    "collapsed": false,
    "pycharm": {
     "name": "#%%\n"
    }
   }
  },
  {
   "cell_type": "code",
   "execution_count": 249,
   "outputs": [
    {
     "name": "stderr",
     "output_type": "stream",
     "text": [
      "C:\\Users\\shari\\miniconda3\\envs\\neuro\\lib\\site-packages\\seaborn\\_decorators.py:43: FutureWarning: Pass the following variables as keyword args: x, y. From version 0.12, the only valid positional argument will be `data`, and passing other arguments without an explicit keyword will result in an error or misinterpretation.\n",
      "  FutureWarning\n",
      "WARNING:matplotlib.legend:No handles with labels found to put in legend.\n"
     ]
    },
    {
     "data": {
      "text/plain": "<Figure size 1152x648 with 2 Axes>",
      "image/png": "[encoded data removed]"
     },
     "metadata": {},
     "output_type": "display_data"
    }
   ],
   "source": [
    "# Correlation between pupil size and running speed\n",
    "# get timepoints to plot, pupil data is longer\n",
    "time_bins = np.arange(0, pupil.index.max().astype(int), 300)\n",
    "\n",
    "# get pupil mean for each bin\n",
    "pupil_mean = np.array([pupil.loc[(pupil.index > b) & (pupil.index < b + 1), \"raw_pupil_area\"].mean() for b in time_bins])\n",
    "# pupil_mean = pupil_mean[~np.isnan(pupil_mean)]\n",
    "pupil_normal = stats.zscore(pupil_mean, nan_policy='omit')\n",
    "pupil_normal[pupil_normal > 3] = 0\n",
    "\n",
    "# get running speed mean for each bin\n",
    "run_mean = np.array([run.loc[(run.start_time > b) & (run.end_time < b + 1), \"speed\"].mean() for b in time_bins])\n",
    "# run_mean = run_mean[~np.isnan(run_mean)]\n",
    "run_normal = stats.zscore(run_mean, nan_policy='omit')\n",
    "\n",
    "# plot\n",
    "fig, axes = plt.subplots(2, 1, figsize=(16, 9))\n",
    "fig.suptitle(f\"Mouse #{}. Time bins 300ms\")\n",
    "\n",
    "# plot against time\n",
    "axes[0].plot(time_bins, pupil_normal, 'r-', label=\"Pupil area\")\n",
    "axes[0].plot(time_bins, run_normal, 'b-', label=\"Running speed\")\n",
    "\n",
    "axes[0].set_title(\"Normalized pupil diameter and running speed\")\n",
    "axes[0].set_xlabel(\"Time (s)\")\n",
    "axes[0].set_ylabel(\"Zscore\")\n",
    "\n",
    "# plot against each other\n",
    "# pupil_ = pupil.loc[(pupil.index >= run.start_time.min()) & (pupil.index <= run.end_time.max()), \"raw_pupil_area\"]\n",
    "# axes[1].scatter(pupil_mean, run_mean)\n",
    "plot = sns.regplot(pupil_mean, run_mean, scatter=True, ax=axes[1])\n",
    "\n",
    "axes[1].set_title(\"Mean Running speed v.s Pupil area\")\n",
    "axes[1].set_xlabel(\"Pupil diameter ($cm^2$?)\")\n",
    "axes[1].set_ylabel(\"Running speed (cm/s)\")\n",
    "\n",
    "plt.legend()\n",
    "plt.show()"
   ],
   "metadata": {
    "collapsed": false,
    "pycharm": {
     "name": "#%%\n"
    }
   }
  }
 ],
 "metadata": {
  "kernelspec": {
   "display_name": "Python 3 (ipykernel)",
   "language": "python",
   "name": "python3"
  },
  "language_info": {
   "codemirror_mode": {
    "name": "ipython",
    "version": 3
   },
   "file_extension": ".py",
   "mimetype": "text/x-python",
   "name": "python",
   "nbconvert_exporter": "python",
   "pygments_lexer": "ipython3",
   "version": "3.7.13"
  }
 },
 "nbformat": 4,
 "nbformat_minor": 5
}