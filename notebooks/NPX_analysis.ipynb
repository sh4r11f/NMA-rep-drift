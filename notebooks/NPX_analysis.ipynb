{
 "cells": [
  {
   "cell_type": "markdown",
   "source": [
    "# RSA analysis of the Neuropixel Data"
   ],
   "metadata": {
    "collapsed": false,
    "pycharm": {
     "name": "#%% md\n"
    }
   }
  },
  {
   "cell_type": "markdown",
   "source": [
    "This notebook analyzes Allen Institute's Neuropixel data. It focuses on the `functional_connectivity` dataset since that dataset seems to be richer (more repeats of the same stimuli), with more rest time in-between sessions, and has better quality data (only one animal missing pupilometry measurements)."
   ],
   "metadata": {
    "collapsed": false,
    "pycharm": {
     "name": "#%% md\n"
    }
   }
  },
  {
   "cell_type": "code",
   "execution_count": 1,
   "outputs": [],
   "source": [
    "from src.neuropixel import Neuropixel\n",
    "\n",
    "from pathlib import Path\n",
    "\n",
    "import numpy as np\n",
    "import pandas as pd\n",
    "import matplotlib.pyplot as plt\n",
    "import seaborn as sns"
   ],
   "metadata": {
    "collapsed": false,
    "pycharm": {
     "name": "#%%\n"
    }
   }
  },
  {
   "cell_type": "code",
   "execution_count": 2,
   "outputs": [],
   "source": [
    "HOME = Path('/media/internal/projects/Allen/Ecephys')\n",
    "npx = Neuropixel(HOME)"
   ],
   "metadata": {
    "collapsed": false,
    "pycharm": {
     "name": "#%%\n"
    }
   }
  },
  {
   "cell_type": "code",
   "execution_count": 3,
   "outputs": [],
   "source": [
    "data_type = 'functional_connectivity'"
   ],
   "metadata": {
    "collapsed": false,
    "pycharm": {
     "name": "#%%\n"
    }
   }
  },
  {
   "cell_type": "markdown",
   "source": [
    "## Natural Movie 1"
   ],
   "metadata": {
    "collapsed": false,
    "pycharm": {
     "name": "#%% md\n"
    }
   }
  },
  {
   "cell_type": "markdown",
   "source": [
    "This movie is played in both sessions of `functional_connectivity`, each repeated 60 times on each session (there are also 20 repeats with temporal shuffle that I'm going to ignore for now). The movie has 30s duration, so I will extract 30 \"blocks\" of 1s duration.\n",
    "\n",
    "Let's start by getting the dataframes for each of these blocks."
   ],
   "metadata": {
    "collapsed": false,
    "pycharm": {
     "name": "#%% md\n"
    }
   }
  },
  {
   "cell_type": "code",
   "execution_count": 4,
   "outputs": [],
   "source": [
    "table = npx.cache.get_session_table()\n",
    "session_ids = table.loc[table.session_type == data_type].index.values"
   ],
   "metadata": {
    "collapsed": false,
    "pycharm": {
     "name": "#%%\n"
    }
   }
  },
  {
   "cell_type": "code",
   "execution_count": 5,
   "outputs": [],
   "source": [
    "# remove sessions w/o eye data\n",
    "session_ids = np.delete(session_ids, np.where(session_ids == 768515987))\n",
    "session_ids = np.delete(session_ids, np.where(session_ids == 840012044))"
   ],
   "metadata": {
    "collapsed": false,
    "pycharm": {
     "name": "#%%\n"
    }
   }
  },
  {
   "cell_type": "code",
   "execution_count": 6,
   "outputs": [
    {
     "data": {
      "text/plain": "array([766640955, 767871931, 771160300, 771990200, 774875821, 778240327,\n       778998620, 779839471, 781842082, 786091066, 787025148, 789848216,\n       793224716, 794812542, 816200189, 819186360, 819701982, 821695405,\n       829720705, 831882777, 835479236, 839068429, 839557629, 847657808])"
     },
     "execution_count": 6,
     "metadata": {},
     "output_type": "execute_result"
    }
   ],
   "source": [
    "session_ids"
   ],
   "metadata": {
    "collapsed": false,
    "pycharm": {
     "name": "#%%\n"
    }
   }
  },
  {
   "cell_type": "code",
   "execution_count": 7,
   "outputs": [],
   "source": [
    "movie_name = \"natural_movie_one_more_repeats\"\n",
    "rois = [\"VISrl\", \"VISp\", \"VISpm\", \"VISam\", \"VISal\", \"VISl\"]\n",
    "# rois = [\"VISp\"]\n",
    "seconds = np.arange(0, 30)"
   ],
   "metadata": {
    "collapsed": false,
    "pycharm": {
     "name": "#%%\n"
    }
   }
  },
  {
   "cell_type": "code",
   "execution_count": 8,
   "outputs": [
    {
     "name": "stdout",
     "output_type": "stream",
     "text": [
      "Session 1 of 24:\n",
      "Second 1 of 30.\n",
      "ROI 1 of 6.\n",
      "ROI 2 of 6.\n",
      "ROI 3 of 6.\n"
     ]
    },
    {
     "name": "stderr",
     "output_type": "stream",
     "text": [
      "/home/devxl/miniconda3/envs/neuro/lib/python3.7/site-packages/allensdk/brain_observatory/ecephys/ecephys_session.py:1311: UserWarning: filtering to an empty set of units!\n",
      "  warnings.warn(f'filtering to an empty set of {key}!')\n"
     ]
    },
    {
     "ename": "KeyError",
     "evalue": "'unit_id'",
     "output_type": "error",
     "traceback": [
      "\u001B[0;31m---------------------------------------------------------------------------\u001B[0m",
      "\u001B[0;31mKeyError\u001B[0m                                  Traceback (most recent call last)",
      "\u001B[0;32m/tmp/ipykernel_8123/436184514.py\u001B[0m in \u001B[0;36m<module>\u001B[0;34m\u001B[0m\n\u001B[1;32m     12\u001B[0m \u001B[0;34m\u001B[0m\u001B[0m\n\u001B[1;32m     13\u001B[0m    \u001B[0;31m# get the spike counts\u001B[0m\u001B[0;34m\u001B[0m\u001B[0;34m\u001B[0m\u001B[0;34m\u001B[0m\u001B[0m\n\u001B[0;32m---> 14\u001B[0;31m    \u001B[0mdf\u001B[0m \u001B[0;34m=\u001B[0m \u001B[0mnpx\u001B[0m\u001B[0;34m.\u001B[0m\u001B[0mget_movie_spike_count\u001B[0m\u001B[0;34m(\u001B[0m\u001B[0mmovie_name\u001B[0m\u001B[0;34m,\u001B[0m \u001B[0mroi\u001B[0m\u001B[0;34m,\u001B[0m \u001B[0msec\u001B[0m\u001B[0;34m)\u001B[0m\u001B[0;34m\u001B[0m\u001B[0;34m\u001B[0m\u001B[0m\n\u001B[0m\u001B[1;32m     15\u001B[0m \u001B[0;34m\u001B[0m\u001B[0m\n\u001B[1;32m     16\u001B[0m    \u001B[0mdfs\u001B[0m\u001B[0;34m.\u001B[0m\u001B[0mappend\u001B[0m\u001B[0;34m(\u001B[0m\u001B[0mdf\u001B[0m\u001B[0;34m)\u001B[0m\u001B[0;34m\u001B[0m\u001B[0;34m\u001B[0m\u001B[0m\n",
      "\u001B[0;32m~/home_projects/NMA-rep-drift/src/neuropixel.py\u001B[0m in \u001B[0;36mget_movie_spike_count\u001B[0;34m(self, movie_type, roi, sec)\u001B[0m\n\u001B[1;32m    336\u001B[0m         \u001B[0;31m# Sum the number of spikes during 1s (over all time_relative_to_stimulus_onset times)\u001B[0m\u001B[0;34m\u001B[0m\u001B[0;34m\u001B[0m\u001B[0;34m\u001B[0m\u001B[0m\n\u001B[1;32m    337\u001B[0m         \u001B[0mgrp_cols\u001B[0m \u001B[0;34m=\u001B[0m \u001B[0;34m[\u001B[0m\u001B[0;34m\"stimulus_presentation_id\"\u001B[0m\u001B[0;34m,\u001B[0m \u001B[0;34m\"unit_id\"\u001B[0m\u001B[0;34m]\u001B[0m \u001B[0;34m+\u001B[0m \u001B[0mcols\u001B[0m\u001B[0;34m\u001B[0m\u001B[0;34m\u001B[0m\u001B[0m\n\u001B[0;32m--> 338\u001B[0;31m         \u001B[0mdf\u001B[0m \u001B[0;34m=\u001B[0m \u001B[0mspikes\u001B[0m\u001B[0;34m.\u001B[0m\u001B[0mgroupby\u001B[0m\u001B[0;34m(\u001B[0m\u001B[0mgrp_cols\u001B[0m\u001B[0;34m,\u001B[0m \u001B[0mas_index\u001B[0m\u001B[0;34m=\u001B[0m\u001B[0;32mFalse\u001B[0m\u001B[0;34m)\u001B[0m\u001B[0;34m[\u001B[0m\u001B[0;34m\"spike_counts\"\u001B[0m\u001B[0;34m]\u001B[0m\u001B[0;34m.\u001B[0m\u001B[0msum\u001B[0m\u001B[0;34m(\u001B[0m\u001B[0;34m)\u001B[0m\u001B[0;34m\u001B[0m\u001B[0;34m\u001B[0m\u001B[0m\n\u001B[0m\u001B[1;32m    339\u001B[0m \u001B[0;34m\u001B[0m\u001B[0m\n\u001B[1;32m    340\u001B[0m         \u001B[0;31m# Add info about the roi and which second of the movie\u001B[0m\u001B[0;34m\u001B[0m\u001B[0;34m\u001B[0m\u001B[0;34m\u001B[0m\u001B[0m\n",
      "\u001B[0;32m~/miniconda3/envs/neuro/lib/python3.7/site-packages/pandas/core/frame.py\u001B[0m in \u001B[0;36mgroupby\u001B[0;34m(self, by, axis, level, as_index, sort, group_keys, squeeze, observed, dropna)\u001B[0m\n\u001B[1;32m   7639\u001B[0m             \u001B[0msqueeze\u001B[0m\u001B[0;34m=\u001B[0m\u001B[0msqueeze\u001B[0m\u001B[0;34m,\u001B[0m  \u001B[0;31m# type: ignore[arg-type]\u001B[0m\u001B[0;34m\u001B[0m\u001B[0;34m\u001B[0m\u001B[0m\n\u001B[1;32m   7640\u001B[0m             \u001B[0mobserved\u001B[0m\u001B[0;34m=\u001B[0m\u001B[0mobserved\u001B[0m\u001B[0;34m,\u001B[0m\u001B[0;34m\u001B[0m\u001B[0;34m\u001B[0m\u001B[0m\n\u001B[0;32m-> 7641\u001B[0;31m             \u001B[0mdropna\u001B[0m\u001B[0;34m=\u001B[0m\u001B[0mdropna\u001B[0m\u001B[0;34m,\u001B[0m\u001B[0;34m\u001B[0m\u001B[0;34m\u001B[0m\u001B[0m\n\u001B[0m\u001B[1;32m   7642\u001B[0m         )\n\u001B[1;32m   7643\u001B[0m \u001B[0;34m\u001B[0m\u001B[0m\n",
      "\u001B[0;32m~/miniconda3/envs/neuro/lib/python3.7/site-packages/pandas/core/groupby/groupby.py\u001B[0m in \u001B[0;36m__init__\u001B[0;34m(self, obj, keys, axis, level, grouper, exclusions, selection, as_index, sort, group_keys, squeeze, observed, mutated, dropna)\u001B[0m\n\u001B[1;32m    895\u001B[0m                 \u001B[0mobserved\u001B[0m\u001B[0;34m=\u001B[0m\u001B[0mobserved\u001B[0m\u001B[0;34m,\u001B[0m\u001B[0;34m\u001B[0m\u001B[0;34m\u001B[0m\u001B[0m\n\u001B[1;32m    896\u001B[0m                 \u001B[0mmutated\u001B[0m\u001B[0;34m=\u001B[0m\u001B[0mself\u001B[0m\u001B[0;34m.\u001B[0m\u001B[0mmutated\u001B[0m\u001B[0;34m,\u001B[0m\u001B[0;34m\u001B[0m\u001B[0;34m\u001B[0m\u001B[0m\n\u001B[0;32m--> 897\u001B[0;31m                 \u001B[0mdropna\u001B[0m\u001B[0;34m=\u001B[0m\u001B[0mself\u001B[0m\u001B[0;34m.\u001B[0m\u001B[0mdropna\u001B[0m\u001B[0;34m,\u001B[0m\u001B[0;34m\u001B[0m\u001B[0;34m\u001B[0m\u001B[0m\n\u001B[0m\u001B[1;32m    898\u001B[0m             )\n\u001B[1;32m    899\u001B[0m \u001B[0;34m\u001B[0m\u001B[0m\n",
      "\u001B[0;32m~/miniconda3/envs/neuro/lib/python3.7/site-packages/pandas/core/groupby/grouper.py\u001B[0m in \u001B[0;36mget_grouper\u001B[0;34m(obj, key, axis, level, sort, observed, mutated, validate, dropna)\u001B[0m\n\u001B[1;32m    860\u001B[0m                 \u001B[0min_axis\u001B[0m\u001B[0;34m,\u001B[0m \u001B[0mlevel\u001B[0m\u001B[0;34m,\u001B[0m \u001B[0mgpr\u001B[0m \u001B[0;34m=\u001B[0m \u001B[0;32mFalse\u001B[0m\u001B[0;34m,\u001B[0m \u001B[0mgpr\u001B[0m\u001B[0;34m,\u001B[0m \u001B[0;32mNone\u001B[0m\u001B[0;34m\u001B[0m\u001B[0;34m\u001B[0m\u001B[0m\n\u001B[1;32m    861\u001B[0m             \u001B[0;32melse\u001B[0m\u001B[0;34m:\u001B[0m\u001B[0;34m\u001B[0m\u001B[0;34m\u001B[0m\u001B[0m\n\u001B[0;32m--> 862\u001B[0;31m                 \u001B[0;32mraise\u001B[0m \u001B[0mKeyError\u001B[0m\u001B[0;34m(\u001B[0m\u001B[0mgpr\u001B[0m\u001B[0;34m)\u001B[0m\u001B[0;34m\u001B[0m\u001B[0;34m\u001B[0m\u001B[0m\n\u001B[0m\u001B[1;32m    863\u001B[0m         \u001B[0;32melif\u001B[0m \u001B[0misinstance\u001B[0m\u001B[0;34m(\u001B[0m\u001B[0mgpr\u001B[0m\u001B[0;34m,\u001B[0m \u001B[0mGrouper\u001B[0m\u001B[0;34m)\u001B[0m \u001B[0;32mand\u001B[0m \u001B[0mgpr\u001B[0m\u001B[0;34m.\u001B[0m\u001B[0mkey\u001B[0m \u001B[0;32mis\u001B[0m \u001B[0;32mnot\u001B[0m \u001B[0;32mNone\u001B[0m\u001B[0;34m:\u001B[0m\u001B[0;34m\u001B[0m\u001B[0;34m\u001B[0m\u001B[0m\n\u001B[1;32m    864\u001B[0m             \u001B[0;31m# Add key to exclusions\u001B[0m\u001B[0;34m\u001B[0m\u001B[0;34m\u001B[0m\u001B[0;34m\u001B[0m\u001B[0m\n",
      "\u001B[0;31mKeyError\u001B[0m: 'unit_id'"
     ]
    }
   ],
   "source": [
    "dfs = []\n",
    "for s, sess in enumerate(session_ids):\n",
    " print(f\"Session {s + 1 } of {len(session_ids)}:\")\n",
    " for sec in seconds:\n",
    "  print(f\"Second {sec + 1} of 30.\")\n",
    "  for r, roi in enumerate(rois):\n",
    "\n",
    "   print(f\"ROI {r + 1} of {len(rois)}.\")\n",
    "\n",
    "   # load the session data\n",
    "   npx.session = sess\n",
    "\n",
    "   # get the spike counts\n",
    "   df = npx.get_movie_spike_count(movie_name, roi, sec)\n",
    "\n",
    "   dfs.append(df)\n",
    " print('-----------------------------------------')"
   ],
   "metadata": {
    "collapsed": false,
    "pycharm": {
     "name": "#%%\n"
    }
   }
  },
  {
   "cell_type": "code",
   "execution_count": 1,
   "outputs": [
    {
     "ename": "NameError",
     "evalue": "name 'npx' is not defined",
     "output_type": "error",
     "traceback": [
      "\u001B[1;31m---------------------------------------------------------------------------\u001B[0m",
      "\u001B[1;31mNameError\u001B[0m                                 Traceback (most recent call last)",
      "\u001B[1;32m~\\AppData\\Local\\Temp\\ipykernel_14044\\4186476986.py\u001B[0m in \u001B[0;36m<module>\u001B[1;34m\u001B[0m\n\u001B[1;32m----> 1\u001B[1;33m \u001B[0ms\u001B[0m \u001B[1;33m=\u001B[0m \u001B[0mnpx\u001B[0m\u001B[1;33m.\u001B[0m\u001B[0mcache\u001B[0m\u001B[1;33m.\u001B[0m\u001B[0mget_session_data\u001B[0m\u001B[1;33m(\u001B[0m\u001B[1;36m768515987\u001B[0m\u001B[1;33m)\u001B[0m\u001B[1;33m\u001B[0m\u001B[1;33m\u001B[0m\u001B[0m\n\u001B[0m",
      "\u001B[1;31mNameError\u001B[0m: name 'npx' is not defined"
     ]
    }
   ],
   "source": [
    "s = npx.cache.get_session_data(768515987)"
   ],
   "metadata": {
    "collapsed": false,
    "pycharm": {
     "name": "#%%\n"
    }
   }
  },
  {
   "cell_type": "code",
   "execution_count": 7,
   "outputs": [
    {
     "data": {
      "text/plain": "{'specimen_name': 'C57BL/6J-412809',\n 'session_type': 'functional_connectivity',\n 'full_genotype': 'wt/wt',\n 'sex': 'M',\n 'age_in_days': 136.0,\n 'rig_equipment_name': 'NP.1',\n 'num_units': 802,\n 'num_channels': 2217,\n 'num_probes': 6,\n 'num_stimulus_presentations': 77361,\n 'session_start_time': datetime.datetime(2018, 11, 5, 12, 25, 12, tzinfo=tzoffset(None, -28800)),\n 'ecephys_session_id': 768515987,\n 'structure_acronyms': [nan,\n  'MGm',\n  'MGv',\n  'MGd',\n  'TH',\n  'LGd',\n  'CA3',\n  'DG',\n  'CA1',\n  'VISal',\n  'MB',\n  'APN',\n  'NOT',\n  'VISam',\n  'Eth',\n  'LP',\n  'POL',\n  'VISmma',\n  'ProS',\n  'VISp',\n  'CA2',\n  'VISl',\n  'RPF',\n  'VISrl'],\n 'stimulus_names': ['spontaneous',\n  'gabors',\n  'flashes',\n  'drifting_gratings_contrast',\n  'natural_movie_one_more_repeats',\n  'natural_movie_one_shuffled',\n  'drifting_gratings_75_repeats',\n  'dot_motion']}"
     },
     "execution_count": 7,
     "metadata": {},
     "output_type": "execute_result"
    }
   ],
   "source": [
    "s.metadata"
   ],
   "metadata": {
    "collapsed": false,
    "pycharm": {
     "name": "#%%\n"
    }
   }
  },
  {
   "cell_type": "code",
   "execution_count": 9,
   "outputs": [],
   "source": [
    "a = np.array([\n",
    "])"
   ],
   "metadata": {
    "collapsed": false,
    "pycharm": {
     "name": "#%%\n"
    }
   }
  },
  {
   "cell_type": "code",
   "execution_count": 11,
   "outputs": [
    {
     "data": {
      "text/plain": "0"
     },
     "execution_count": 11,
     "metadata": {},
     "output_type": "execute_result"
    }
   ],
   "source": [
    "a.size"
   ],
   "metadata": {
    "collapsed": false,
    "pycharm": {
     "name": "#%%\n"
    }
   }
  },
  {
   "cell_type": "code",
   "execution_count": null,
   "outputs": [],
   "source": [],
   "metadata": {
    "collapsed": false,
    "pycharm": {
     "name": "#%%\n"
    }
   }
  }
 ],
 "metadata": {
  "kernelspec": {
   "display_name": "Python 3",
   "language": "python",
   "name": "python3"
  },
  "language_info": {
   "codemirror_mode": {
    "name": "ipython",
    "version": 2
   },
   "file_extension": ".py",
   "mimetype": "text/x-python",
   "name": "python",
   "nbconvert_exporter": "python",
   "pygments_lexer": "ipython2",
   "version": "2.7.6"
  }
 },
 "nbformat": 4,
 "nbformat_minor": 0
}