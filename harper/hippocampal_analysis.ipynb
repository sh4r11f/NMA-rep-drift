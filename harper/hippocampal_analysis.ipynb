{
 "cells": [
  {
   "cell_type": "code",
   "execution_count": 1,
   "id": "252136d9-e55d-4e63-8050-95f28b1564e9",
   "metadata": {},
   "outputs": [],
   "source": [
    "import numpy as np\n",
    "import h5py\n",
    "import matplotlib.pyplot as plt"
   ]
  },
  {
   "cell_type": "code",
   "execution_count": 2,
   "id": "13991643-d91a-4c04-9e34-0002cb09de5a",
   "metadata": {},
   "outputs": [
    {
     "data": {
      "text/plain": [
       "(1398, 32, 32)"
      ]
     },
     "execution_count": 2,
     "metadata": {},
     "output_type": "execute_result"
    }
   ],
   "source": [
    "path = '/Users/harpercho/Downloads/doi_10.5061_dryad.2z34tmpp9__v5/AKCA127.mat'\n",
    "\n",
    "f = h5py.File(path,'r')\n",
    "list(f.keys())\n",
    "dset = f['matchedBothSim']['pearson']\n",
    "dset.shape"
   ]
  },
  {
   "cell_type": "code",
   "execution_count": 3,
   "id": "a66502cc-66da-4993-b931-b5fc8a6372f2",
   "metadata": {},
   "outputs": [],
   "source": [
    "dset = np.array(dset)"
   ]
  },
  {
   "cell_type": "code",
   "execution_count": 4,
   "id": "1caba2a2-0355-403d-a6a9-bea368be9879",
   "metadata": {},
   "outputs": [
    {
     "name": "stdout",
     "output_type": "stream",
     "text": [
      "[[0.         0.25512632 0.44201256 ... 0.09534466 0.0835206  0.09638935]\n",
      " [0.25512632 0.         0.37550616 ... 0.10946831 0.10847613 0.18980307]\n",
      " [0.44201256 0.37550616 0.         ... 0.14962533 0.15004626 0.08966649]\n",
      " ...\n",
      " [0.09534466 0.10946831 0.14962533 ... 0.         0.51807251 0.30748982]\n",
      " [0.0835206  0.10847613 0.15004626 ... 0.51807251 0.         0.36797697]\n",
      " [0.09638935 0.18980307 0.08966649 ... 0.30748982 0.36797697 0.        ]]\n"
     ]
    },
    {
     "name": "stderr",
     "output_type": "stream",
     "text": [
      "/Users/harpercho/miniconda3/envs/py37/lib/python3.7/site-packages/ipykernel_launcher.py:1: RuntimeWarning: Mean of empty slice\n",
      "  \"\"\"Entry point for launching an IPython kernel.\n"
     ]
    }
   ],
   "source": [
    "dset = np.nan_to_num(np.nanmean(dset, axis = 0), nan = 0)\n",
    "corr = dset + dset.T\n",
    "print(corr)\n",
    "dissimilarity = 1 - corr"
   ]
  },
  {
   "cell_type": "code",
   "execution_count": 5,
   "id": "b59af9cf-44fe-4afb-940e-6f5e51976493",
   "metadata": {},
   "outputs": [
    {
     "data": {
      "text/plain": [
       "array([[1.        , 0.74487368, 0.55798744, ..., 0.90465534, 0.9164794 ,\n",
       "        0.90361065],\n",
       "       [0.74487368, 1.        , 0.62449384, ..., 0.89053169, 0.89152387,\n",
       "        0.81019693],\n",
       "       [0.55798744, 0.62449384, 1.        , ..., 0.85037467, 0.84995374,\n",
       "        0.91033351],\n",
       "       ...,\n",
       "       [0.90465534, 0.89053169, 0.85037467, ..., 1.        , 0.48192749,\n",
       "        0.69251018],\n",
       "       [0.9164794 , 0.89152387, 0.84995374, ..., 0.48192749, 1.        ,\n",
       "        0.63202303],\n",
       "       [0.90361065, 0.81019693, 0.91033351, ..., 0.69251018, 0.63202303,\n",
       "        1.        ]])"
      ]
     },
     "execution_count": 5,
     "metadata": {},
     "output_type": "execute_result"
    }
   ],
   "source": [
    "dissimilarity"
   ]
  },
  {
   "cell_type": "code",
   "execution_count": 6,
   "id": "9b3ca5e4-cf88-4551-be0f-6fefe31a52a6",
   "metadata": {},
   "outputs": [],
   "source": [
    "np.fill_diagonal(dissimilarity, 0)"
   ]
  },
  {
   "cell_type": "code",
   "execution_count": 18,
   "id": "073ba386-f2aa-4815-8d5d-efa0bfd99416",
   "metadata": {},
   "outputs": [
    {
     "data": {
      "text/plain": [
       "Text(0.5, 1.0, 'Dissimilarity')"
      ]
     },
     "execution_count": 18,
     "metadata": {},
     "output_type": "execute_result"
    },
    {
     "data": {
      "image/png": "[encoded data removed]",
      "text/plain": [
       "<Figure size 432x288 with 2 Axes>"
      ]
     },
     "metadata": {
      "needs_background": "light"
     },
     "output_type": "display_data"
    }
   ],
   "source": [
    "plt.imshow(dissimilarity, cmap = 'Spectral')\n",
    "plt.colorbar()\n",
    "plt.title(\"Dissimilarity\")"
   ]
  },
  {
   "cell_type": "code",
   "execution_count": 8,
   "id": "2f5037bd-e71b-4dab-b01d-5230b1095858",
   "metadata": {},
   "outputs": [],
   "source": [
    "from sklearn.manifold import MDS"
   ]
  },
  {
   "cell_type": "code",
   "execution_count": 19,
   "id": "421bdf00-5376-46ea-bb5d-cc1256c60088",
   "metadata": {},
   "outputs": [
    {
     "name": "stderr",
     "output_type": "stream",
     "text": [
      "No handles with labels found to put in legend.\n"
     ]
    },
    {
     "name": "stdout",
     "output_type": "stream",
     "text": [
      "20.721438486415785\n"
     ]
    },
    {
     "data": {
      "text/plain": [
       "<matplotlib.legend.Legend at 0x7fdb7c6b6690>"
      ]
     },
     "execution_count": 19,
     "metadata": {},
     "output_type": "execute_result"
    },
    {
     "data": {
      "image/png": "[encoded data removed]",
      "text/plain": [
       "<Figure size 720x720 with 1 Axes>"
      ]
     },
     "metadata": {
      "needs_background": "light"
     },
     "output_type": "display_data"
    }
   ],
   "source": [
    "mds = MDS(n_components=2, metric = False, dissimilarity = \"precomputed\")\n",
    "pos = mds.fit_transform(dissimilarity).T\n",
    "\n",
    "plt.figure(figsize = (10,10))\n",
    "plt.scatter(pos[0], pos[1])\n",
    "print(mds.stress_)\n",
    "\n",
    "plt.legend()"
   ]
  },
  {
   "cell_type": "code",
   "execution_count": null,
   "id": "5a6c872b-9f3e-4938-a71a-52b68f138bce",
   "metadata": {},
   "outputs": [],
   "source": []
  }
 ],
 "metadata": {
  "kernelspec": {
   "display_name": "Python 3 (ipykernel)",
   "language": "python",
   "name": "python3"
  },
  "language_info": {
   "codemirror_mode": {
    "name": "ipython",
    "version": 3
   },
   "file_extension": ".py",
   "mimetype": "text/x-python",
   "name": "python",
   "nbconvert_exporter": "python",
   "pygments_lexer": "ipython3",
   "version": "3.7.13"
  }
 },
 "nbformat": 4,
 "nbformat_minor": 5
}
