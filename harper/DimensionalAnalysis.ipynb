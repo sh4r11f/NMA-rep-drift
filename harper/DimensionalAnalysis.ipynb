{
 "cells": [
  {
   "cell_type": "code",
   "execution_count": 94,
   "id": "fd39fe7a-ecdb-452c-bf2e-dfeea0117e9a",
   "metadata": {},
   "outputs": [],
   "source": [
    "import numpy as np\n",
    "import pandas as pd\n",
    "import matplotlib.pyplot as plt\n",
    "import allensdk\n",
    "import pickle\n",
    "import pprint\n",
    "from sklearn.decomposition import PCA\n",
    "from rep_drift import *"
   ]
  },
  {
   "cell_type": "code",
   "execution_count": 95,
   "id": "55e6988f-4fb8-4bf5-822c-5cf6b34b9802",
   "metadata": {},
   "outputs": [],
   "source": [
    "from allensdk.core.brain_observatory_cache import BrainObservatoryCache"
   ]
  },
  {
   "cell_type": "code",
   "execution_count": 96,
   "id": "784560e6-5404-4cc9-9f65-915695d5b758",
   "metadata": {},
   "outputs": [],
   "source": [
    "n_sessions = 3\n",
    "n_divs = 30\n",
    "n_repeats = 10"
   ]
  },
  {
   "cell_type": "code",
   "execution_count": 97,
   "id": "d17f7210-213f-401f-8091-107b51994cab",
   "metadata": {},
   "outputs": [],
   "source": [
    "def correlation_across_sessions(cell_ids_experiments, dff_vals_experiments, n_sessions = 3, n_divs = 30):\n",
    "    '''\n",
    "    Obtains the correlation across sessions given data for a *single* container.\n",
    "    \n",
    "    Args\n",
    "    ------\n",
    "    cell_ids_experiments: list where each element is a np.array of cell_ids for a particular session\n",
    "    dff_vals_experiments: list where each element is a np.array of dff_vals for a particular session\n",
    "\n",
    "    \n",
    "    Returns\n",
    "    -------\n",
    "    (tuple) across_session_corrs, across_session_angles\n",
    "    '''\n",
    "    \n",
    "    unique_cell_ids = get_unique_cell_ids(cell_ids_experiments)\n",
    "    shared_cell_idxs = get_shared_cell_idxs(unique_cell_ids)\n",
    "    \n",
    "    across_session_corrs = np.zeros((n_sessions*n_divs, n_sessions*n_divs))\n",
    "    across_session_angles = np.zeros((n_sessions*n_divs, n_sessions*n_divs))\n",
    "    \n",
    "    avg_dff_vals = []\n",
    "    \n",
    "    # Collect avg dff for all sessions\n",
    "    for session_idx in range(n_sessions):\n",
    "        dff_vals_session = dff_vals_experiments[session_idx] \n",
    "        avg_dff_of_session = np.mean(dff_vals_session[:,:, shared_cell_idxs[session_idx]], axis = 0)\n",
    "        avg_dff_vals.append(avg_dff_of_session)\n",
    "    \n",
    "    for session_i in range(n_sessions):\n",
    "        for session_j in range(n_sessions):\n",
    "            \n",
    "            corr = np.corrcoef(avg_dff_vals[session_i], avg_dff_vals[session_j])[n_divs: , :n_divs]\n",
    "            \n",
    "            across_session_corrs[\n",
    "                session_i * n_divs : (session_i + 1) * n_divs,\n",
    "                session_j * n_divs : (session_j + 1) * n_divs ] = corr\n",
    "            for div_i in range(n_divs):\n",
    "                for div_j in range(n_divs):\n",
    "                    across_session_angles[\n",
    "                        session_i * n_divs + div_i,\n",
    "                        session_j * n_divs + div_j] = alignment_angle(avg_dff_vals[session_i][div_i], avg_dff_vals[session_j][div_j]\n",
    "                                      )\n",
    "                        \n",
    "    return across_session_corrs, across_session_angles\n",
    "\n",
    "def get_unique_cell_ids(cell_ids_experiment):\n",
    "    '''\n",
    "    Finds all unique cell_ids. For each unique cell_id, creates a list of \n",
    "    corresponding indexes in datasets\n",
    "    '''\n",
    "    \n",
    "    unique_cell_ids = {}\n",
    "\n",
    "    for cell_ids in cell_ids_experiment:\n",
    "        for cell_idx, cell_id in enumerate(cell_ids):\n",
    "            if cell_id not in unique_cell_ids.keys():\n",
    "                unique_cell_ids[cell_id] = []\n",
    "\n",
    "    # For each cell_id, finds the indexes in all experimental datasets\n",
    "    # (lists index as nan if not in given dataset.\n",
    "    for cell_id in unique_cell_ids.keys():\n",
    "        for cell_ids in cell_ids_experiment:\n",
    "            if cell_id in cell_ids:\n",
    "                # unique_cell_ids[cell_id].append(cell_ids.index(cell_id))\n",
    "                unique_cell_ids[cell_id].append(np.where(cell_ids == cell_id)[0][0])\n",
    "            else:\n",
    "                unique_cell_ids[cell_id].append(np.nan)\n",
    "\n",
    "    return unique_cell_ids\n",
    "\n",
    "def get_shared_cell_idxs(unique_cell_ids, verbose=True):\n",
    "    '''\n",
    "    Finds all cell_ids shared across the datasets, and then returns a numpy \n",
    "    array which has the idx of said cell_ids in each dataset.\n",
    "    '''\n",
    "    n_exp = len(unique_cell_ids[list(unique_cell_ids.keys())[0]])\n",
    "\n",
    "    shared_cell_ids = []\n",
    "    for cell_id in unique_cell_ids.keys():\n",
    "        if np.sum(np.isnan(unique_cell_ids[cell_id])) == 0:\n",
    "            shared_cell_ids.append(cell_id)\n",
    "\n",
    "    if verbose:\n",
    "        print('Shared IDs: {}/{}'.format(len(shared_cell_ids), \n",
    "                                        len(unique_cell_ids.keys())))\n",
    "\n",
    "    # Map of shared cell_ids to cell_idxs in both datasets\n",
    "    shared_cell_idxs = np.zeros((n_exp, len(shared_cell_ids)), dtype=np.int64)\n",
    "    for cell_idx, cell_id in enumerate(shared_cell_ids):\n",
    "        shared_cell_idxs[:, cell_idx] = unique_cell_ids[cell_id]\n",
    "\n",
    "    return shared_cell_idxs"
   ]
  },
  {
   "cell_type": "code",
   "execution_count": 98,
   "id": "3c2ebb80-e727-4c2c-8d46-6fbcf4009226",
   "metadata": {},
   "outputs": [],
   "source": [
    "boc = BrainObservatoryCache()\n",
    "datasets, ordered_days = get_datasets(boc, 540993888)"
   ]
  },
  {
   "cell_type": "code",
   "execution_count": 99,
   "id": "7520055f-1c1b-42db-bbd1-c629e6664334",
   "metadata": {},
   "outputs": [],
   "source": [
    "session_dff_vals = []\n",
    "session_cell_ids = []\n",
    "session_run_vals = []\n",
    "\n",
    "for dataset in datasets:\n",
    "    cell_ids, dff_vals, run_vals = get_response_vals(dataset)\n",
    "    session_dff_vals.append(dff_vals)\n",
    "    session_cell_ids.append(cell_ids)\n",
    "    session_run_vals.append(run_vals)"
   ]
  },
  {
   "cell_type": "code",
   "execution_count": 100,
   "id": "449fae9e-9d02-4a35-bef9-6149e26a3376",
   "metadata": {},
   "outputs": [
    {
     "name": "stdout",
     "output_type": "stream",
     "text": [
      "(140,)\n"
     ]
    }
   ],
   "source": [
    "# Applying MDS: First obtain correct shape for each stimulus group\n",
    "print(session_cell_ids[0].shape)"
   ]
  },
  {
   "cell_type": "code",
   "execution_count": 101,
   "id": "21281de0-5488-4beb-84de-99033b2bac84",
   "metadata": {},
   "outputs": [
    {
     "name": "stdout",
     "output_type": "stream",
     "text": [
      "Shared IDs: 29/302\n"
     ]
    }
   ],
   "source": [
    "unique_cell_ids = get_unique_cell_ids(session_cell_ids)\n",
    "shared_cell_idxs = get_shared_cell_idxs(unique_cell_ids)\n",
    "\n",
    "stimulus_groups = [[None, None, None]] * 30\n",
    "collapsed_stimulus_groups = []\n",
    "\n",
    "for session_idx in range(n_sessions):\n",
    "    cur = session_dff_vals[session_idx]\n",
    "    for n_div in range(0, 30):\n",
    "        stimulus_groups[n_div][session_idx] = cur[:, n_div, shared_cell_idxs[session_idx]]\n",
    "\n",
    "for idx in range(0, len(stimulus_groups)):\n",
    "    collapsed_stimulus_groups.append(np.vstack(stimulus_groups[idx]))"
   ]
  },
  {
   "cell_type": "code",
   "execution_count": 102,
   "id": "7ac275c1-4a0a-4b61-8c4c-b09a66826744",
   "metadata": {},
   "outputs": [
    {
     "name": "stdout",
     "output_type": "stream",
     "text": [
      "(30, 29)\n"
     ]
    }
   ],
   "source": [
    "print(collapsed_stimulus_groups[0].shape)"
   ]
  },
  {
   "cell_type": "code",
   "execution_count": 104,
   "id": "14c6f03b-7e54-4a1c-8a6e-e1de7c3a6f9c",
   "metadata": {},
   "outputs": [
    {
     "data": {
      "image/png": "[encoded data removed]",
      "text/plain": [
       "<Figure size 360x360 with 1 Axes>"
      ]
     },
     "metadata": {
      "needs_background": "light"
     },
     "output_type": "display_data"
    }
   ],
   "source": [
    "# Plot eucliden distances for a given stimulus group\n",
    "from sklearn.datasets import load_digits\n",
    "from sklearn.manifold import MDS\n",
    "\n",
    "X = collapsed_stimulus_groups[0]\n",
    "\n",
    "fig, ax = plt.subplots(figsize = (5,5))\n",
    "\n",
    "mds = MDS(n_components = 2, metric = False, max_iter = 3000)\n",
    "pos = mds.fit_transform(X).T\n",
    "\n",
    "session1 = pos[:, :10]\n",
    "session2 = pos[:, 10:20]\n",
    "session3 = pos[:, 20:30]\n",
    "\n",
    "plt.scatter(session1[0], session1[1], label = \"1\",  ls = '--')\n",
    "plt.scatter(session2[0], session2[1], label = \"2\", ls = '--')\n",
    "plt.scatter(session3[0], session3[1], label = \"3\",  ls = '--')\n",
    "plt.legend()\n",
    "plt.savefig('./mds_sample.png')"
   ]
  },
  {
   "cell_type": "code",
   "execution_count": 79,
   "id": "64e642b8-c57a-4c39-8e9c-2f1de45f1c04",
   "metadata": {},
   "outputs": [],
   "source": [
    "# Using a correlation matrix\n",
    "\n",
    "def alignment_angle(x, y):\n",
    "    dot = np.dot(x,y)/(\n",
    "         np.linalg.norm(x) * np.linalg.norm(y)\n",
    "     )\n",
    "    if dot > 1.0:\n",
    "         dot = 1.0\n",
    "    elif dot < -1.0:\n",
    "        dot = -1.0\n",
    "    \n",
    "    return 180/np.pi * np.arccos(dot)\n"
   ]
  },
  {
   "cell_type": "code",
   "execution_count": 130,
   "id": "78384617-50ab-426b-ab6d-ec0238135920",
   "metadata": {},
   "outputs": [
    {
     "data": {
      "text/plain": [
       "<matplotlib.colorbar.Colorbar at 0x7fe05ce99250>"
      ]
     },
     "execution_count": 130,
     "metadata": {},
     "output_type": "execute_result"
    },
    {
     "data": {
      "image/png": "[encoded data removed]",
      "text/plain": [
       "<Figure size 432x288 with 2 Axes>"
      ]
     },
     "metadata": {
      "needs_background": "light"
     },
     "output_type": "display_data"
    }
   ],
   "source": [
    "session_corrs = np.corrcoef(collapsed_stimulus_groups[4])\n",
    "distance = 1 - session_corrs\n",
    "\n",
    "fig, ax = plt.subplots()\n",
    "ax.set_title(\"Stimulus Group 1 Correlation\")\n",
    "cplot = ax.imshow(distance, cmap = 'Spectral')\n",
    "for session_idx in range(1, n_sessions):\n",
    "    ax.axhline((session_idx * 10)-1, color='k', linewidth=0.5)\n",
    "    ax.axvline((session_idx * 10)-1, color='k', linewidth=0.5)\n",
    "plt.colorbar(cplot, ax = ax)"
   ]
  },
  {
   "cell_type": "code",
   "execution_count": 116,
   "id": "80935ac3-06db-4175-b93f-6235eb4032c9",
   "metadata": {},
   "outputs": [
    {
     "data": {
      "text/plain": [
       "<matplotlib.legend.Legend at 0x7fe020133510>"
      ]
     },
     "execution_count": 116,
     "metadata": {},
     "output_type": "execute_result"
    },
    {
     "data": {
      "image/png": "[encoded data removed]",
      "text/plain": [
       "<Figure size 720x720 with 1 Axes>"
      ]
     },
     "metadata": {
      "needs_background": "light"
     },
     "output_type": "display_data"
    }
   ],
   "source": [
    "mds = MDS(n_components=2, metric = False, dissimilarity = \"precomputed\")\n",
    "pos = mds.fit_transform(distance).T\n",
    "\n",
    "session1 = pos[:, :10]\n",
    "session2 = pos[:, 10:20]\n",
    "session3 = pos[:, 20:30]\n",
    "\n",
    "plt.figure(figsize = (10,10))\n",
    "plt.scatter(session1[0], session1[1], label = \"1\")\n",
    "plt.scatter(session2[0], session2[1], label = \"2\")\n",
    "plt.scatter(session3[0], session3[1], label = \"3\")\n",
    "plt.legend()"
   ]
  },
  {
   "cell_type": "code",
   "execution_count": null,
   "id": "9775abf8-099d-4038-bd03-2fc1b4bf76f6",
   "metadata": {},
   "outputs": [],
   "source": []
  }
 ],
 "metadata": {
  "kernelspec": {
   "display_name": "Python 3 (ipykernel)",
   "language": "python",
   "name": "python3"
  },
  "language_info": {
   "codemirror_mode": {
    "name": "ipython",
    "version": 3
   },
   "file_extension": ".py",
   "mimetype": "text/x-python",
   "name": "python",
   "nbconvert_exporter": "python",
   "pygments_lexer": "ipython3",
   "version": "3.7.13"
  }
 },
 "nbformat": 4,
 "nbformat_minor": 5
}
