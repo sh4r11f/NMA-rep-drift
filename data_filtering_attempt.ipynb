{
 "cells": [
  {
   "cell_type": "code",
   "execution_count": 1,
   "metadata": {},
   "outputs": [],
   "source": [
    "from allensdk.core.brain_observatory_cache import BrainObservatoryCache\n",
    "import allensdk.brain_observatory.stimulus_info as stim_info\n",
    "\n",
    "import pprint"
   ]
  },
  {
   "cell_type": "markdown",
   "metadata": {},
   "source": [
    "#### How many experiments in total for excitatory neurons in primary visual cortex?"
   ]
  },
  {
   "cell_type": "code",
   "execution_count": 2,
   "metadata": {},
   "outputs": [
    {
     "name": "stdout",
     "output_type": "stream",
     "text": [
      "Cre Line: Emx1-IRES-Cre\n",
      "  Experiment containers: 10\n",
      "Cre Line: Fezf2-CreER\n",
      "  Experiment containers: 4\n",
      "Cre Line: Nr5a1-Cre\n",
      "  Experiment containers: 8\n",
      "Cre Line: Ntsr1-Cre_GN220\n",
      "  Experiment containers: 6\n",
      "Cre Line: Rbp4-Cre_KL100\n",
      "  Experiment containers: 7\n",
      "Cre Line: Rorb-IRES2-Cre\n",
      "  Experiment containers: 8\n",
      "Cre Line: Scnn1a-Tg3-Cre\n",
      "  Experiment containers: 9\n",
      "Cre Line: Slc17a7-IRES2-Cre\n",
      "  Experiment containers: 60\n",
      "Cre Line: Tlx3-Cre_PL56\n",
      "  Experiment containers: 6\n",
      "\n",
      "Total experiment containers: 118\n"
     ]
    }
   ],
   "source": [
    "# Initiate Cache:\n",
    "boc = BrainObservatoryCache()\n",
    "\n",
    "# Excitatory Cre lines:\n",
    "cre_lines = [\n",
    "    # 'Cux2-CreERT2', # This one seems to have a lot of outliers\n",
    "    'Emx1-IRES-Cre',\n",
    "    'Fezf2-CreER',\n",
    "    'Nr5a1-Cre',\n",
    "    'Ntsr1-Cre_GN220',\n",
    "    'Rbp4-Cre_KL100',\n",
    "    'Rorb-IRES2-Cre',\n",
    "    'Scnn1a-Tg3-Cre',\n",
    "    'Slc17a7-IRES2-Cre',\n",
    "    'Tlx3-Cre_PL56',\n",
    "    ]\n",
    "\n",
    "# Restrict to primary visual cortex:\n",
    "ecs = []\n",
    "cre_lines_ecs = []\n",
    "\n",
    "for cre_line in cre_lines:\n",
    "\n",
    "    print(\"Cre Line:\", cre_line)\n",
    "    ecs_cre = boc.get_experiment_containers(cre_lines=[cre_line,], targeted_structures=['VISp'])\n",
    "    print(\"  Experiment containers:\", len(ecs_cre))\n",
    "    ecs.extend(ecs_cre)\n",
    "    cre_lines_ecs.extend([cre_line for _ in range(len(ecs_cre))])\n",
    "\n",
    "# print(\"Example experiment container record:\")\n",
    "# pprint.pprint(ecs[0])\n",
    "\n",
    "print('\\nTotal experiment containers:', len(ecs))"
   ]
  },
  {
   "cell_type": "markdown",
   "metadata": {},
   "source": [
    "-----\n",
    "\n",
    "#### Among these how many have natural movie one, and (theoratically) have eye tracking?"
   ]
  },
  {
   "cell_type": "code",
   "execution_count": 5,
   "metadata": {},
   "outputs": [
    {
     "name": "stdout",
     "output_type": "stream",
     "text": [
      "Total Number of experiments: 144\n",
      "Setting number of containers: 48\n"
     ]
    }
   ],
   "source": [
    "n_containers = len(ecs)\n",
    "exps = []\n",
    "\n",
    "for container_idx in range(n_containers):\n",
    "    ec_id = ecs[container_idx]['id']\n",
    "\n",
    "    # Find the experiments with the natural movie one, and eye tracking\n",
    "    exps_container = boc.get_ophys_experiments(\n",
    "        experiment_container_ids=[ec_id], \n",
    "        \n",
    "        # here we require stimulus type, and require tracking to be true:\n",
    "        stimuli=[stim_info.NATURAL_MOVIE_ONE], require_eye_tracking = True)\n",
    "\n",
    "    # All three experiments should have natural movie one:\n",
    "    if len(exps_container) != 3:\n",
    "        # print('Skipping, number of experiment container is:', len(exps_container))\n",
    "        continue\n",
    "\n",
    "    exps.extend(exps_container)\n",
    "\n",
    "print('Total Number of experiments:', len(exps))\n",
    "\n",
    "n_containers = int(len(exps)//3.0)\n",
    "\n",
    "print('Setting number of containers:', n_containers)\n",
    "\n",
    "if n_containers == 1:\n",
    "    print(\"Experiment with natural movie one:\")\n",
    "    pprint.pprint(exps)"
   ]
  },
  {
   "cell_type": "markdown",
   "metadata": {},
   "source": [
    "-----\n",
    "\n",
    "#### But NOT all of the datasets ACTUALLY contains pupil size data! \n",
    "\n",
    "Haven't figured out what is going on. \n",
    "\n",
    "But it might be helpful just first count how many of them actually have pupil size data.\n",
    "\n",
    "Side note: we always have running speed data."
   ]
  },
  {
   "cell_type": "code",
   "execution_count": 15,
   "metadata": {},
   "outputs": [
    {
     "data": {
      "text/plain": [
       "(array([  18.39164,   18.42489,   18.45813, ..., 3804.28383, 3804.31708,\n",
       "        3804.35033]),\n",
       " array([2291.0261, 2332.0881, 2552.4097, ...,       nan,       nan,\n",
       "              nan], dtype=float32))"
      ]
     },
     "execution_count": 15,
     "metadata": {},
     "output_type": "execute_result"
    }
   ],
   "source": [
    "# example that has it:\n",
    "exp_1 = exps[69]\n",
    "data_set_1 = boc.get_ophys_experiment_data(exp_1['id'])\n",
    "data_set_1.get_pupil_size()"
   ]
  },
  {
   "cell_type": "code",
   "execution_count": 18,
   "metadata": {},
   "outputs": [
    {
     "data": {
      "text/plain": [
       "(array([   5.4208 ,    5.45405,    5.4873 , ..., 3520.69708, 3520.73033,\n",
       "        3520.76358]),\n",
       " array([7791.2734, 7374.492 , 7691.526 , ...,       nan,       nan,\n",
       "              nan], dtype=float32))"
      ]
     },
     "execution_count": 18,
     "metadata": {},
     "output_type": "execute_result"
    }
   ],
   "source": [
    "# example that has it:\n",
    "exp_2 = exps[66]\n",
    "data_set_2 = boc.get_ophys_experiment_data(exp_2['id'])\n",
    "data_set_2.get_pupil_size()"
   ]
  },
  {
   "cell_type": "code",
   "execution_count": 20,
   "metadata": {},
   "outputs": [
    {
     "name": "stderr",
     "output_type": "stream",
     "text": [
      "2022-07-22 04:08:07,314 allensdk.api.api.retrieve_file_over_http INFO     Downloading URL: http://api.brain-map.org/api/v2/well_known_file_download/539607110\n"
     ]
    },
    {
     "ename": "NoEyeTrackingException",
     "evalue": "No pupil tracking for this experiment.",
     "output_type": "error",
     "traceback": [
      "\u001b[0;31m---------------------------------------------------------------------------\u001b[0m",
      "\u001b[0;31mKeyError\u001b[0m                                  Traceback (most recent call last)",
      "\u001b[0;32m~/opt/anaconda3/envs/rep-drift/lib/python3.7/site-packages/allensdk/core/brain_observatory_nwb_data_set.py\u001b[0m in \u001b[0;36mget_pupil_size\u001b[0;34m(self)\u001b[0m\n\u001b[1;32m    865\u001b[0m                 pupil_tracking = f['processing'][self.PIPELINE_DATASET][\n\u001b[0;32m--> 866\u001b[0;31m                     'PupilTracking']['pupil_size']\n\u001b[0m\u001b[1;32m    867\u001b[0m                 \u001b[0mpupil_size\u001b[0m \u001b[0;34m=\u001b[0m \u001b[0mpupil_tracking\u001b[0m\u001b[0;34m[\u001b[0m\u001b[0;34m'data'\u001b[0m\u001b[0;34m]\u001b[0m\u001b[0;34m[\u001b[0m\u001b[0;34m(\u001b[0m\u001b[0;34m)\u001b[0m\u001b[0;34m]\u001b[0m\u001b[0;34m\u001b[0m\u001b[0;34m\u001b[0m\u001b[0m\n",
      "\u001b[0;32mh5py/_objects.pyx\u001b[0m in \u001b[0;36mh5py._objects.with_phil.wrapper\u001b[0;34m()\u001b[0m\n",
      "\u001b[0;32mh5py/_objects.pyx\u001b[0m in \u001b[0;36mh5py._objects.with_phil.wrapper\u001b[0;34m()\u001b[0m\n",
      "\u001b[0;32m~/opt/anaconda3/envs/rep-drift/lib/python3.7/site-packages/h5py/_hl/group.py\u001b[0m in \u001b[0;36m__getitem__\u001b[0;34m(self, name)\u001b[0m\n\u001b[1;32m    327\u001b[0m         \u001b[0;32melif\u001b[0m \u001b[0misinstance\u001b[0m\u001b[0;34m(\u001b[0m\u001b[0mname\u001b[0m\u001b[0;34m,\u001b[0m \u001b[0;34m(\u001b[0m\u001b[0mbytes\u001b[0m\u001b[0;34m,\u001b[0m \u001b[0mstr\u001b[0m\u001b[0;34m)\u001b[0m\u001b[0;34m)\u001b[0m\u001b[0;34m:\u001b[0m\u001b[0;34m\u001b[0m\u001b[0;34m\u001b[0m\u001b[0m\n\u001b[0;32m--> 328\u001b[0;31m             \u001b[0moid\u001b[0m \u001b[0;34m=\u001b[0m \u001b[0mh5o\u001b[0m\u001b[0;34m.\u001b[0m\u001b[0mopen\u001b[0m\u001b[0;34m(\u001b[0m\u001b[0mself\u001b[0m\u001b[0;34m.\u001b[0m\u001b[0mid\u001b[0m\u001b[0;34m,\u001b[0m \u001b[0mself\u001b[0m\u001b[0;34m.\u001b[0m\u001b[0m_e\u001b[0m\u001b[0;34m(\u001b[0m\u001b[0mname\u001b[0m\u001b[0;34m)\u001b[0m\u001b[0;34m,\u001b[0m \u001b[0mlapl\u001b[0m\u001b[0;34m=\u001b[0m\u001b[0mself\u001b[0m\u001b[0;34m.\u001b[0m\u001b[0m_lapl\u001b[0m\u001b[0;34m)\u001b[0m\u001b[0;34m\u001b[0m\u001b[0;34m\u001b[0m\u001b[0m\n\u001b[0m\u001b[1;32m    329\u001b[0m         \u001b[0;32melse\u001b[0m\u001b[0;34m:\u001b[0m\u001b[0;34m\u001b[0m\u001b[0;34m\u001b[0m\u001b[0m\n",
      "\u001b[0;32mh5py/_objects.pyx\u001b[0m in \u001b[0;36mh5py._objects.with_phil.wrapper\u001b[0;34m()\u001b[0m\n",
      "\u001b[0;32mh5py/_objects.pyx\u001b[0m in \u001b[0;36mh5py._objects.with_phil.wrapper\u001b[0;34m()\u001b[0m\n",
      "\u001b[0;32mh5py/h5o.pyx\u001b[0m in \u001b[0;36mh5py.h5o.open\u001b[0;34m()\u001b[0m\n",
      "\u001b[0;31mKeyError\u001b[0m: \"Unable to open object (object 'PupilTracking' doesn't exist)\"",
      "\nDuring handling of the above exception, another exception occurred:\n",
      "\u001b[0;31mNoEyeTrackingException\u001b[0m                    Traceback (most recent call last)",
      "\u001b[0;32m/var/folders/63/lv4_06n90jx2p5v2t58ssgwr0000gp/T/ipykernel_37757/389155177.py\u001b[0m in \u001b[0;36m<module>\u001b[0;34m\u001b[0m\n\u001b[1;32m      2\u001b[0m \u001b[0mexp_3\u001b[0m \u001b[0;34m=\u001b[0m \u001b[0mexps\u001b[0m\u001b[0;34m[\u001b[0m\u001b[0;36m26\u001b[0m\u001b[0;34m]\u001b[0m\u001b[0;34m\u001b[0m\u001b[0;34m\u001b[0m\u001b[0m\n\u001b[1;32m      3\u001b[0m \u001b[0mdata_set_3\u001b[0m \u001b[0;34m=\u001b[0m \u001b[0mboc\u001b[0m\u001b[0;34m.\u001b[0m\u001b[0mget_ophys_experiment_data\u001b[0m\u001b[0;34m(\u001b[0m\u001b[0mexp_3\u001b[0m\u001b[0;34m[\u001b[0m\u001b[0;34m'id'\u001b[0m\u001b[0;34m]\u001b[0m\u001b[0;34m)\u001b[0m\u001b[0;34m\u001b[0m\u001b[0;34m\u001b[0m\u001b[0m\n\u001b[0;32m----> 4\u001b[0;31m \u001b[0mdata_set_3\u001b[0m\u001b[0;34m.\u001b[0m\u001b[0mget_pupil_size\u001b[0m\u001b[0;34m(\u001b[0m\u001b[0;34m)\u001b[0m\u001b[0;34m\u001b[0m\u001b[0;34m\u001b[0m\u001b[0m\n\u001b[0m",
      "\u001b[0;32m~/opt/anaconda3/envs/rep-drift/lib/python3.7/site-packages/allensdk/core/brain_observatory_nwb_data_set.py\u001b[0m in \u001b[0;36mget_pupil_size\u001b[0;34m(self)\u001b[0m\n\u001b[1;32m    868\u001b[0m                 \u001b[0mpupil_times\u001b[0m \u001b[0;34m=\u001b[0m \u001b[0mpupil_tracking\u001b[0m\u001b[0;34m[\u001b[0m\u001b[0;34m'timestamps'\u001b[0m\u001b[0;34m]\u001b[0m\u001b[0;34m[\u001b[0m\u001b[0;34m(\u001b[0m\u001b[0;34m)\u001b[0m\u001b[0;34m]\u001b[0m\u001b[0;34m\u001b[0m\u001b[0;34m\u001b[0m\u001b[0m\n\u001b[1;32m    869\u001b[0m         \u001b[0;32mexcept\u001b[0m \u001b[0mKeyError\u001b[0m\u001b[0;34m:\u001b[0m\u001b[0;34m\u001b[0m\u001b[0;34m\u001b[0m\u001b[0m\n\u001b[0;32m--> 870\u001b[0;31m             \u001b[0;32mraise\u001b[0m \u001b[0mNoEyeTrackingException\u001b[0m\u001b[0;34m(\u001b[0m\u001b[0;34m\"No pupil tracking for this experiment.\"\u001b[0m\u001b[0;34m)\u001b[0m\u001b[0;34m\u001b[0m\u001b[0;34m\u001b[0m\u001b[0m\n\u001b[0m\u001b[1;32m    871\u001b[0m \u001b[0;34m\u001b[0m\u001b[0m\n\u001b[1;32m    872\u001b[0m         \u001b[0;32mreturn\u001b[0m \u001b[0mpupil_times\u001b[0m\u001b[0;34m,\u001b[0m \u001b[0mpupil_size\u001b[0m\u001b[0;34m\u001b[0m\u001b[0;34m\u001b[0m\u001b[0m\n",
      "\u001b[0;31mNoEyeTrackingException\u001b[0m: No pupil tracking for this experiment."
     ]
    }
   ],
   "source": [
    "# example that doesn't have it:\n",
    "exp_3 = exps[26]\n",
    "data_set_3 = boc.get_ophys_experiment_data(exp_3['id'])\n",
    "data_set_3.get_pupil_size()"
   ]
  },
  {
   "cell_type": "markdown",
   "metadata": {},
   "source": [
    "--------\n",
    "#### Questions on best way to deal with multiple datasets\n",
    "\n",
    "1. what is the size of our smallest set of datasets that we want to play with? the estimated larger end? \n",
    "\n",
    "\n",
    "2. shall we all save/load stuff locally, or distributedly (each one of us save some parts of it), or save it on google drive? \n",
    "\n",
    "\n",
    "3. what is the time complexity here do we have a good estimate? Not too bad? (like 1 experiment takes about 5 min to get, and less than that to process initially I believe.)"
   ]
  },
  {
   "cell_type": "code",
   "execution_count": null,
   "metadata": {},
   "outputs": [],
   "source": []
  }
 ],
 "metadata": {
  "kernelspec": {
   "display_name": "Python 3.7.13 ('rep-drift')",
   "language": "python",
   "name": "python3"
  },
  "language_info": {
   "codemirror_mode": {
    "name": "ipython",
    "version": 3
   },
   "file_extension": ".py",
   "mimetype": "text/x-python",
   "name": "python",
   "nbconvert_exporter": "python",
   "pygments_lexer": "ipython3",
   "version": "3.7.13"
  },
  "orig_nbformat": 4,
  "vscode": {
   "interpreter": {
    "hash": "3dfac9f6aa5be83524a846c414ba9bc5ad16221ff826b5d09b0df876b784dc0a"
   }
  }
 },
 "nbformat": 4,
 "nbformat_minor": 2
}
